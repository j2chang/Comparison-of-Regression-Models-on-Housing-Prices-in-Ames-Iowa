{
  "nbformat": 4,
  "nbformat_minor": 0,
  "metadata": {
    "colab": {
      "provenance": []
    },
    "kernelspec": {
      "name": "python3",
      "display_name": "Python 3"
    },
    "language_info": {
      "name": "python"
    }
  },
  "cells": [
    {
      "cell_type": "markdown",
      "metadata": {
        "id": "-Y4F-zuUGsq8"
      },
      "source": [
        "# Codeathon 1: Comparison of Regression Models on Housing Prices in Ames, Iowa"
      ]
    },
    {
      "cell_type": "markdown",
      "metadata": {
        "id": "MZ85ee69G7m0"
      },
      "source": [
        "### CS 4774 Machine Learning - Department of Computer Science - University of Virginia\n",
        "![(Image Credit Boston.gov)](https://miro.medium.com/max/1000/1*WYZCnpM7bE3Wq4NNxx7jDA.jpeg)\n",
        "\n",
        "In this assignment, you will practice the 8 steps of an end-to-end ML project in the context of a **regression** problem in the [Ames Housing Dataset on Kaggle](https://www.kaggle.com/competitions/house-prices-advanced-regression-techniques/data). You will attempt to predict the housing prices in Ames, IA. For references, you may refer to my slides or the Google Colab if you need additional sample codes to help with your assignment. To get started, you will need to upload/copy the dataset (.csv) into the same Colab workspace.\n",
        "\n",
        "For deliverables, you must write code in Colab and submit the downloaded Jupyter Notebook file (.ipynb) to earn a total of 50 pts. You will gain points depending on how you perform in the following sections.\n",
        "\n",
        "*BONUS POINTS:* 10 bonus points will be given (as Extra credits) for those who score among the top-10 performance while following strictly the assignment guidelines. Best of luck to all!"
      ]
    },
    {
      "cell_type": "markdown",
      "metadata": {
        "id": "nXPheacSXZ2V"
      },
      "source": [
        "## Step 1: Big Picture and Setup\n",
        "Write a paragraph explaining the context of the problem in which you are trying to investigate. Your paragraph may frame the problem and objectives by answering the following questions:\n",
        "* What is the task: regression, classification, clustering, visualization?\n",
        "* What to expect, how to use, and how to benefit from this model?\n",
        "* What performance measure to evaluate?\n",
        "* How much data is available or should be collected?\n",
        "* What learning algorithm to be used?\n",
        "* How much effort is to be spent?\n",
        "* Verify the assumptions that have been made about the context"
      ]
    },
    {
      "cell_type": "markdown",
      "source": [
        "**The task of this problem is to create a regression model that will estimate the sale prices of homes in Ames, IA based off data that was collected on various homes in the Ames, IA along with their resultant sales price. The expectations from this problem are that there will be a model that can effectively predict the cost of homes given a set of training data using the techniques that were taught. This model can be beneficial to users as it can show individuals the sales prices of homes based off the houses characteristics and can help people make decisions on purchasing properties. Individuals can look at homes that have certain traits that match their preferences and the model can help calculate the price of a home that they may want to buy. The performance of the model will be evaulated with a reduced mean square error. This method of evaluation will give a numerical representation of how far the predicted sales price is from the actual observed sales price from the given data. There are 1,460 homes and 80 features in the data that the model was trained. The learning algorithm that is to be used on for this model is a Random Forest Regressor. The amount of effort that is to be put into this project is relatively high. As this is an introductory assignment to machine learning, understanding the basics is extremely important. Although the aim is to try and predict the sales price of homes as accurately as possible, making the reduces mean square error insanely small is not something that is necessary. Some assumptions that have been made for this particular problem is that we are assuming that the data provided is a good representation of homes in Ames, IA; another assumption is that the features of the data are also helpful and can help our model effectively make predictions; another assumption is that this problem can be solved with a regression type approach like one mentioned above; lastly, another assumption is that each data point is unique to one another.**"
      ],
      "metadata": {
        "id": "U5R1sc1MSv95"
      }
    },
    {
      "cell_type": "code",
      "source": [
        "# Python ≥3.5 is required\n",
        "#import sys #\n",
        "# Scikit-Learn ≥0.20 is required\n",
        "import sklearn # general ml package\n",
        "\n",
        "# Common imports\n",
        "import numpy as np # fundamental package for scientific computing\n",
        "import os # to run file I/O operation\n",
        "\n",
        "# to make this notebook's output stable across runs\n",
        "# any number will do, as long as it is used consistently\n",
        "np.random.seed(42)\n",
        "\n",
        "# To plot pretty figures\n",
        "%matplotlib inline\n",
        "import matplotlib as mpl\n",
        "import matplotlib.pyplot as plt\n",
        "mpl.rc('axes', labelsize=14)\n",
        "mpl.rc('xtick', labelsize=12)\n",
        "mpl.rc('ytick', labelsize=12)\n",
        "\n",
        "# Where to save the figures\n",
        "PROJECT_ROOT_DIR = \".\"\n",
        "CHAPTER_ID = \"end_to_end_project\"\n",
        "IMAGES_PATH = os.path.join(PROJECT_ROOT_DIR, \"images\", CHAPTER_ID)\n",
        "os.makedirs(IMAGES_PATH, exist_ok=True)\n",
        "\n",
        "def save_fig(fig_id, tight_layout=True, fig_extension=\"png\", resolution=300):\n",
        "  \"\"\"Save the selected figure into disc under an image extention and resolution\n",
        "\n",
        "  Parameters\n",
        "  ----------\n",
        "  fig_id : figure handle\n",
        "    The id number of the figure\n",
        "  tight_layout : boolean (True or False)\n",
        "    Specifies whenther the layout should be tight or not\n",
        "  fig_extension: string\n",
        "    Under what extension should the file be saved (\"png\" or \"jpg\")\n",
        "  resolution: int\n",
        "    the quality of the figure (ie. 100,200,300)\n",
        "\n",
        "  Returns\n",
        "  -------\n",
        "  void\n",
        "    Does not return any value\n",
        "  \"\"\"\n",
        "\n",
        "  path = os.path.join(IMAGES_PATH, fig_id + \".\" + fig_extension)\n",
        "  print(\"Saving figure\", fig_id)\n",
        "  if tight_layout:\n",
        "    plt.tight_layout()\n",
        "  plt.savefig(path, format=fig_extension, dpi=resolution)"
      ],
      "metadata": {
        "id": "bqWBbTDi5dg2"
      },
      "execution_count": null,
      "outputs": []
    },
    {
      "cell_type": "markdown",
      "metadata": {
        "id": "A3N7qDVRXuNa"
      },
      "source": [
        "## Step 2: Load the Data\n",
        "We will assume that the data file is put into the same workspace on Colab. Then, you can write some code to load the CSV file and take a quick look at the dataset, and output the following:\n",
        "\n",
        " * How big is your dataset? (in terms of MB)\n",
        " * How many entries does it have?\n",
        " * How many features does it have?\n",
        " * Does it contain any categorical data?\n",
        " * Is there any missing values?\n",
        " * What are some basic statistics you can learn right away about this dataset?"
      ]
    },
    {
      "cell_type": "markdown",
      "source": [
        "The dataset is 924.0+ KB and it has 1460 entires. each of these entries have 80 features and it contains 43 categorical data. There are some missing values (NaN) throughout the dataset, where some columns are majority NaN, and these will most likely be dropped in the cleaning step. Some basic statistics that I can learn right away about this dataset is that the average rating of the overall quality and overall conditions of the house are 6.1\tand 5.6 respectively. The average garage area of the houses are 473.0 square feet."
      ],
      "metadata": {
        "id": "PqLroiabFiE-"
      }
    },
    {
      "cell_type": "code",
      "metadata": {
        "id": "3Y4uclsoGRcM",
        "colab": {
          "base_uri": "https://localhost:8080/"
        },
        "outputId": "ea0b1554-41d9-4612-8ada-bde8b8297b36"
      },
      "source": [
        "import pandas as pd\n",
        "\n",
        "# To help you get started, a load function is provided below.\n",
        "# You will need to fill in the code under #TODO to make it work.\n",
        "def loadBostonHousingData():\n",
        "  # The column names are adopted from the dataset page on Kaggle\n",
        "  housing = pd.read_csv('train.csv')\n",
        "  return housing\n",
        "\n",
        "housing = loadBostonHousingData()\n",
        "housing.head(10)"
      ],
      "execution_count": null,
      "outputs": [
        {
          "output_type": "execute_result",
          "data": {
            "text/plain": [
              "   Id  MSSubClass MSZoning  LotFrontage  LotArea Street Alley LotShape  \\\n",
              "0   1          60       RL         65.0     8450   Pave   NaN      Reg   \n",
              "1   2          20       RL         80.0     9600   Pave   NaN      Reg   \n",
              "2   3          60       RL         68.0    11250   Pave   NaN      IR1   \n",
              "3   4          70       RL         60.0     9550   Pave   NaN      IR1   \n",
              "4   5          60       RL         84.0    14260   Pave   NaN      IR1   \n",
              "5   6          50       RL         85.0    14115   Pave   NaN      IR1   \n",
              "6   7          20       RL         75.0    10084   Pave   NaN      Reg   \n",
              "7   8          60       RL          NaN    10382   Pave   NaN      IR1   \n",
              "8   9          50       RM         51.0     6120   Pave   NaN      Reg   \n",
              "9  10         190       RL         50.0     7420   Pave   NaN      Reg   \n",
              "\n",
              "  LandContour Utilities  ... PoolArea PoolQC  Fence MiscFeature MiscVal  \\\n",
              "0         Lvl    AllPub  ...        0    NaN    NaN         NaN       0   \n",
              "1         Lvl    AllPub  ...        0    NaN    NaN         NaN       0   \n",
              "2         Lvl    AllPub  ...        0    NaN    NaN         NaN       0   \n",
              "3         Lvl    AllPub  ...        0    NaN    NaN         NaN       0   \n",
              "4         Lvl    AllPub  ...        0    NaN    NaN         NaN       0   \n",
              "5         Lvl    AllPub  ...        0    NaN  MnPrv        Shed     700   \n",
              "6         Lvl    AllPub  ...        0    NaN    NaN         NaN       0   \n",
              "7         Lvl    AllPub  ...        0    NaN    NaN        Shed     350   \n",
              "8         Lvl    AllPub  ...        0    NaN    NaN         NaN       0   \n",
              "9         Lvl    AllPub  ...        0    NaN    NaN         NaN       0   \n",
              "\n",
              "  MoSold YrSold  SaleType  SaleCondition  SalePrice  \n",
              "0      2   2008        WD         Normal     208500  \n",
              "1      5   2007        WD         Normal     181500  \n",
              "2      9   2008        WD         Normal     223500  \n",
              "3      2   2006        WD        Abnorml     140000  \n",
              "4     12   2008        WD         Normal     250000  \n",
              "5     10   2009        WD         Normal     143000  \n",
              "6      8   2007        WD         Normal     307000  \n",
              "7     11   2009        WD         Normal     200000  \n",
              "8      4   2008        WD        Abnorml     129900  \n",
              "9      1   2008        WD         Normal     118000  \n",
              "\n",
              "[10 rows x 81 columns]"
            ],
            "text/html": [
              "\n",
              "  <div id=\"df-99b3786c-0e2d-41a0-93e0-a3e3092f5c48\" class=\"colab-df-container\">\n",
              "    <div>\n",
              "<style scoped>\n",
              "    .dataframe tbody tr th:only-of-type {\n",
              "        vertical-align: middle;\n",
              "    }\n",
              "\n",
              "    .dataframe tbody tr th {\n",
              "        vertical-align: top;\n",
              "    }\n",
              "\n",
              "    .dataframe thead th {\n",
              "        text-align: right;\n",
              "    }\n",
              "</style>\n",
              "<table border=\"1\" class=\"dataframe\">\n",
              "  <thead>\n",
              "    <tr style=\"text-align: right;\">\n",
              "      <th></th>\n",
              "      <th>Id</th>\n",
              "      <th>MSSubClass</th>\n",
              "      <th>MSZoning</th>\n",
              "      <th>LotFrontage</th>\n",
              "      <th>LotArea</th>\n",
              "      <th>Street</th>\n",
              "      <th>Alley</th>\n",
              "      <th>LotShape</th>\n",
              "      <th>LandContour</th>\n",
              "      <th>Utilities</th>\n",
              "      <th>...</th>\n",
              "      <th>PoolArea</th>\n",
              "      <th>PoolQC</th>\n",
              "      <th>Fence</th>\n",
              "      <th>MiscFeature</th>\n",
              "      <th>MiscVal</th>\n",
              "      <th>MoSold</th>\n",
              "      <th>YrSold</th>\n",
              "      <th>SaleType</th>\n",
              "      <th>SaleCondition</th>\n",
              "      <th>SalePrice</th>\n",
              "    </tr>\n",
              "  </thead>\n",
              "  <tbody>\n",
              "    <tr>\n",
              "      <th>0</th>\n",
              "      <td>1</td>\n",
              "      <td>60</td>\n",
              "      <td>RL</td>\n",
              "      <td>65.0</td>\n",
              "      <td>8450</td>\n",
              "      <td>Pave</td>\n",
              "      <td>NaN</td>\n",
              "      <td>Reg</td>\n",
              "      <td>Lvl</td>\n",
              "      <td>AllPub</td>\n",
              "      <td>...</td>\n",
              "      <td>0</td>\n",
              "      <td>NaN</td>\n",
              "      <td>NaN</td>\n",
              "      <td>NaN</td>\n",
              "      <td>0</td>\n",
              "      <td>2</td>\n",
              "      <td>2008</td>\n",
              "      <td>WD</td>\n",
              "      <td>Normal</td>\n",
              "      <td>208500</td>\n",
              "    </tr>\n",
              "    <tr>\n",
              "      <th>1</th>\n",
              "      <td>2</td>\n",
              "      <td>20</td>\n",
              "      <td>RL</td>\n",
              "      <td>80.0</td>\n",
              "      <td>9600</td>\n",
              "      <td>Pave</td>\n",
              "      <td>NaN</td>\n",
              "      <td>Reg</td>\n",
              "      <td>Lvl</td>\n",
              "      <td>AllPub</td>\n",
              "      <td>...</td>\n",
              "      <td>0</td>\n",
              "      <td>NaN</td>\n",
              "      <td>NaN</td>\n",
              "      <td>NaN</td>\n",
              "      <td>0</td>\n",
              "      <td>5</td>\n",
              "      <td>2007</td>\n",
              "      <td>WD</td>\n",
              "      <td>Normal</td>\n",
              "      <td>181500</td>\n",
              "    </tr>\n",
              "    <tr>\n",
              "      <th>2</th>\n",
              "      <td>3</td>\n",
              "      <td>60</td>\n",
              "      <td>RL</td>\n",
              "      <td>68.0</td>\n",
              "      <td>11250</td>\n",
              "      <td>Pave</td>\n",
              "      <td>NaN</td>\n",
              "      <td>IR1</td>\n",
              "      <td>Lvl</td>\n",
              "      <td>AllPub</td>\n",
              "      <td>...</td>\n",
              "      <td>0</td>\n",
              "      <td>NaN</td>\n",
              "      <td>NaN</td>\n",
              "      <td>NaN</td>\n",
              "      <td>0</td>\n",
              "      <td>9</td>\n",
              "      <td>2008</td>\n",
              "      <td>WD</td>\n",
              "      <td>Normal</td>\n",
              "      <td>223500</td>\n",
              "    </tr>\n",
              "    <tr>\n",
              "      <th>3</th>\n",
              "      <td>4</td>\n",
              "      <td>70</td>\n",
              "      <td>RL</td>\n",
              "      <td>60.0</td>\n",
              "      <td>9550</td>\n",
              "      <td>Pave</td>\n",
              "      <td>NaN</td>\n",
              "      <td>IR1</td>\n",
              "      <td>Lvl</td>\n",
              "      <td>AllPub</td>\n",
              "      <td>...</td>\n",
              "      <td>0</td>\n",
              "      <td>NaN</td>\n",
              "      <td>NaN</td>\n",
              "      <td>NaN</td>\n",
              "      <td>0</td>\n",
              "      <td>2</td>\n",
              "      <td>2006</td>\n",
              "      <td>WD</td>\n",
              "      <td>Abnorml</td>\n",
              "      <td>140000</td>\n",
              "    </tr>\n",
              "    <tr>\n",
              "      <th>4</th>\n",
              "      <td>5</td>\n",
              "      <td>60</td>\n",
              "      <td>RL</td>\n",
              "      <td>84.0</td>\n",
              "      <td>14260</td>\n",
              "      <td>Pave</td>\n",
              "      <td>NaN</td>\n",
              "      <td>IR1</td>\n",
              "      <td>Lvl</td>\n",
              "      <td>AllPub</td>\n",
              "      <td>...</td>\n",
              "      <td>0</td>\n",
              "      <td>NaN</td>\n",
              "      <td>NaN</td>\n",
              "      <td>NaN</td>\n",
              "      <td>0</td>\n",
              "      <td>12</td>\n",
              "      <td>2008</td>\n",
              "      <td>WD</td>\n",
              "      <td>Normal</td>\n",
              "      <td>250000</td>\n",
              "    </tr>\n",
              "    <tr>\n",
              "      <th>5</th>\n",
              "      <td>6</td>\n",
              "      <td>50</td>\n",
              "      <td>RL</td>\n",
              "      <td>85.0</td>\n",
              "      <td>14115</td>\n",
              "      <td>Pave</td>\n",
              "      <td>NaN</td>\n",
              "      <td>IR1</td>\n",
              "      <td>Lvl</td>\n",
              "      <td>AllPub</td>\n",
              "      <td>...</td>\n",
              "      <td>0</td>\n",
              "      <td>NaN</td>\n",
              "      <td>MnPrv</td>\n",
              "      <td>Shed</td>\n",
              "      <td>700</td>\n",
              "      <td>10</td>\n",
              "      <td>2009</td>\n",
              "      <td>WD</td>\n",
              "      <td>Normal</td>\n",
              "      <td>143000</td>\n",
              "    </tr>\n",
              "    <tr>\n",
              "      <th>6</th>\n",
              "      <td>7</td>\n",
              "      <td>20</td>\n",
              "      <td>RL</td>\n",
              "      <td>75.0</td>\n",
              "      <td>10084</td>\n",
              "      <td>Pave</td>\n",
              "      <td>NaN</td>\n",
              "      <td>Reg</td>\n",
              "      <td>Lvl</td>\n",
              "      <td>AllPub</td>\n",
              "      <td>...</td>\n",
              "      <td>0</td>\n",
              "      <td>NaN</td>\n",
              "      <td>NaN</td>\n",
              "      <td>NaN</td>\n",
              "      <td>0</td>\n",
              "      <td>8</td>\n",
              "      <td>2007</td>\n",
              "      <td>WD</td>\n",
              "      <td>Normal</td>\n",
              "      <td>307000</td>\n",
              "    </tr>\n",
              "    <tr>\n",
              "      <th>7</th>\n",
              "      <td>8</td>\n",
              "      <td>60</td>\n",
              "      <td>RL</td>\n",
              "      <td>NaN</td>\n",
              "      <td>10382</td>\n",
              "      <td>Pave</td>\n",
              "      <td>NaN</td>\n",
              "      <td>IR1</td>\n",
              "      <td>Lvl</td>\n",
              "      <td>AllPub</td>\n",
              "      <td>...</td>\n",
              "      <td>0</td>\n",
              "      <td>NaN</td>\n",
              "      <td>NaN</td>\n",
              "      <td>Shed</td>\n",
              "      <td>350</td>\n",
              "      <td>11</td>\n",
              "      <td>2009</td>\n",
              "      <td>WD</td>\n",
              "      <td>Normal</td>\n",
              "      <td>200000</td>\n",
              "    </tr>\n",
              "    <tr>\n",
              "      <th>8</th>\n",
              "      <td>9</td>\n",
              "      <td>50</td>\n",
              "      <td>RM</td>\n",
              "      <td>51.0</td>\n",
              "      <td>6120</td>\n",
              "      <td>Pave</td>\n",
              "      <td>NaN</td>\n",
              "      <td>Reg</td>\n",
              "      <td>Lvl</td>\n",
              "      <td>AllPub</td>\n",
              "      <td>...</td>\n",
              "      <td>0</td>\n",
              "      <td>NaN</td>\n",
              "      <td>NaN</td>\n",
              "      <td>NaN</td>\n",
              "      <td>0</td>\n",
              "      <td>4</td>\n",
              "      <td>2008</td>\n",
              "      <td>WD</td>\n",
              "      <td>Abnorml</td>\n",
              "      <td>129900</td>\n",
              "    </tr>\n",
              "    <tr>\n",
              "      <th>9</th>\n",
              "      <td>10</td>\n",
              "      <td>190</td>\n",
              "      <td>RL</td>\n",
              "      <td>50.0</td>\n",
              "      <td>7420</td>\n",
              "      <td>Pave</td>\n",
              "      <td>NaN</td>\n",
              "      <td>Reg</td>\n",
              "      <td>Lvl</td>\n",
              "      <td>AllPub</td>\n",
              "      <td>...</td>\n",
              "      <td>0</td>\n",
              "      <td>NaN</td>\n",
              "      <td>NaN</td>\n",
              "      <td>NaN</td>\n",
              "      <td>0</td>\n",
              "      <td>1</td>\n",
              "      <td>2008</td>\n",
              "      <td>WD</td>\n",
              "      <td>Normal</td>\n",
              "      <td>118000</td>\n",
              "    </tr>\n",
              "  </tbody>\n",
              "</table>\n",
              "<p>10 rows × 81 columns</p>\n",
              "</div>\n",
              "    <div class=\"colab-df-buttons\">\n",
              "\n",
              "  <div class=\"colab-df-container\">\n",
              "    <button class=\"colab-df-convert\" onclick=\"convertToInteractive('df-99b3786c-0e2d-41a0-93e0-a3e3092f5c48')\"\n",
              "            title=\"Convert this dataframe to an interactive table.\"\n",
              "            style=\"display:none;\">\n",
              "\n",
              "  <svg xmlns=\"http://www.w3.org/2000/svg\" height=\"24px\" viewBox=\"0 -960 960 960\">\n",
              "    <path d=\"M120-120v-720h720v720H120Zm60-500h600v-160H180v160Zm220 220h160v-160H400v160Zm0 220h160v-160H400v160ZM180-400h160v-160H180v160Zm440 0h160v-160H620v160ZM180-180h160v-160H180v160Zm440 0h160v-160H620v160Z\"/>\n",
              "  </svg>\n",
              "    </button>\n",
              "\n",
              "  <style>\n",
              "    .colab-df-container {\n",
              "      display:flex;\n",
              "      gap: 12px;\n",
              "    }\n",
              "\n",
              "    .colab-df-convert {\n",
              "      background-color: #E8F0FE;\n",
              "      border: none;\n",
              "      border-radius: 50%;\n",
              "      cursor: pointer;\n",
              "      display: none;\n",
              "      fill: #1967D2;\n",
              "      height: 32px;\n",
              "      padding: 0 0 0 0;\n",
              "      width: 32px;\n",
              "    }\n",
              "\n",
              "    .colab-df-convert:hover {\n",
              "      background-color: #E2EBFA;\n",
              "      box-shadow: 0px 1px 2px rgba(60, 64, 67, 0.3), 0px 1px 3px 1px rgba(60, 64, 67, 0.15);\n",
              "      fill: #174EA6;\n",
              "    }\n",
              "\n",
              "    .colab-df-buttons div {\n",
              "      margin-bottom: 4px;\n",
              "    }\n",
              "\n",
              "    [theme=dark] .colab-df-convert {\n",
              "      background-color: #3B4455;\n",
              "      fill: #D2E3FC;\n",
              "    }\n",
              "\n",
              "    [theme=dark] .colab-df-convert:hover {\n",
              "      background-color: #434B5C;\n",
              "      box-shadow: 0px 1px 3px 1px rgba(0, 0, 0, 0.15);\n",
              "      filter: drop-shadow(0px 1px 2px rgba(0, 0, 0, 0.3));\n",
              "      fill: #FFFFFF;\n",
              "    }\n",
              "  </style>\n",
              "\n",
              "    <script>\n",
              "      const buttonEl =\n",
              "        document.querySelector('#df-99b3786c-0e2d-41a0-93e0-a3e3092f5c48 button.colab-df-convert');\n",
              "      buttonEl.style.display =\n",
              "        google.colab.kernel.accessAllowed ? 'block' : 'none';\n",
              "\n",
              "      async function convertToInteractive(key) {\n",
              "        const element = document.querySelector('#df-99b3786c-0e2d-41a0-93e0-a3e3092f5c48');\n",
              "        const dataTable =\n",
              "          await google.colab.kernel.invokeFunction('convertToInteractive',\n",
              "                                                    [key], {});\n",
              "        if (!dataTable) return;\n",
              "\n",
              "        const docLinkHtml = 'Like what you see? Visit the ' +\n",
              "          '<a target=\"_blank\" href=https://colab.research.google.com/notebooks/data_table.ipynb>data table notebook</a>'\n",
              "          + ' to learn more about interactive tables.';\n",
              "        element.innerHTML = '';\n",
              "        dataTable['output_type'] = 'display_data';\n",
              "        await google.colab.output.renderOutput(dataTable, element);\n",
              "        const docLink = document.createElement('div');\n",
              "        docLink.innerHTML = docLinkHtml;\n",
              "        element.appendChild(docLink);\n",
              "      }\n",
              "    </script>\n",
              "  </div>\n",
              "\n",
              "\n",
              "<div id=\"df-5b4cb7dd-bd16-4176-99e2-a50dbfd85c68\">\n",
              "  <button class=\"colab-df-quickchart\" onclick=\"quickchart('df-5b4cb7dd-bd16-4176-99e2-a50dbfd85c68')\"\n",
              "            title=\"Suggest charts.\"\n",
              "            style=\"display:none;\">\n",
              "\n",
              "<svg xmlns=\"http://www.w3.org/2000/svg\" height=\"24px\"viewBox=\"0 0 24 24\"\n",
              "     width=\"24px\">\n",
              "    <g>\n",
              "        <path d=\"M19 3H5c-1.1 0-2 .9-2 2v14c0 1.1.9 2 2 2h14c1.1 0 2-.9 2-2V5c0-1.1-.9-2-2-2zM9 17H7v-7h2v7zm4 0h-2V7h2v10zm4 0h-2v-4h2v4z\"/>\n",
              "    </g>\n",
              "</svg>\n",
              "  </button>\n",
              "\n",
              "<style>\n",
              "  .colab-df-quickchart {\n",
              "      --bg-color: #E8F0FE;\n",
              "      --fill-color: #1967D2;\n",
              "      --hover-bg-color: #E2EBFA;\n",
              "      --hover-fill-color: #174EA6;\n",
              "      --disabled-fill-color: #AAA;\n",
              "      --disabled-bg-color: #DDD;\n",
              "  }\n",
              "\n",
              "  [theme=dark] .colab-df-quickchart {\n",
              "      --bg-color: #3B4455;\n",
              "      --fill-color: #D2E3FC;\n",
              "      --hover-bg-color: #434B5C;\n",
              "      --hover-fill-color: #FFFFFF;\n",
              "      --disabled-bg-color: #3B4455;\n",
              "      --disabled-fill-color: #666;\n",
              "  }\n",
              "\n",
              "  .colab-df-quickchart {\n",
              "    background-color: var(--bg-color);\n",
              "    border: none;\n",
              "    border-radius: 50%;\n",
              "    cursor: pointer;\n",
              "    display: none;\n",
              "    fill: var(--fill-color);\n",
              "    height: 32px;\n",
              "    padding: 0;\n",
              "    width: 32px;\n",
              "  }\n",
              "\n",
              "  .colab-df-quickchart:hover {\n",
              "    background-color: var(--hover-bg-color);\n",
              "    box-shadow: 0 1px 2px rgba(60, 64, 67, 0.3), 0 1px 3px 1px rgba(60, 64, 67, 0.15);\n",
              "    fill: var(--button-hover-fill-color);\n",
              "  }\n",
              "\n",
              "  .colab-df-quickchart-complete:disabled,\n",
              "  .colab-df-quickchart-complete:disabled:hover {\n",
              "    background-color: var(--disabled-bg-color);\n",
              "    fill: var(--disabled-fill-color);\n",
              "    box-shadow: none;\n",
              "  }\n",
              "\n",
              "  .colab-df-spinner {\n",
              "    border: 2px solid var(--fill-color);\n",
              "    border-color: transparent;\n",
              "    border-bottom-color: var(--fill-color);\n",
              "    animation:\n",
              "      spin 1s steps(1) infinite;\n",
              "  }\n",
              "\n",
              "  @keyframes spin {\n",
              "    0% {\n",
              "      border-color: transparent;\n",
              "      border-bottom-color: var(--fill-color);\n",
              "      border-left-color: var(--fill-color);\n",
              "    }\n",
              "    20% {\n",
              "      border-color: transparent;\n",
              "      border-left-color: var(--fill-color);\n",
              "      border-top-color: var(--fill-color);\n",
              "    }\n",
              "    30% {\n",
              "      border-color: transparent;\n",
              "      border-left-color: var(--fill-color);\n",
              "      border-top-color: var(--fill-color);\n",
              "      border-right-color: var(--fill-color);\n",
              "    }\n",
              "    40% {\n",
              "      border-color: transparent;\n",
              "      border-right-color: var(--fill-color);\n",
              "      border-top-color: var(--fill-color);\n",
              "    }\n",
              "    60% {\n",
              "      border-color: transparent;\n",
              "      border-right-color: var(--fill-color);\n",
              "    }\n",
              "    80% {\n",
              "      border-color: transparent;\n",
              "      border-right-color: var(--fill-color);\n",
              "      border-bottom-color: var(--fill-color);\n",
              "    }\n",
              "    90% {\n",
              "      border-color: transparent;\n",
              "      border-bottom-color: var(--fill-color);\n",
              "    }\n",
              "  }\n",
              "</style>\n",
              "\n",
              "  <script>\n",
              "    async function quickchart(key) {\n",
              "      const quickchartButtonEl =\n",
              "        document.querySelector('#' + key + ' button');\n",
              "      quickchartButtonEl.disabled = true;  // To prevent multiple clicks.\n",
              "      quickchartButtonEl.classList.add('colab-df-spinner');\n",
              "      try {\n",
              "        const charts = await google.colab.kernel.invokeFunction(\n",
              "            'suggestCharts', [key], {});\n",
              "      } catch (error) {\n",
              "        console.error('Error during call to suggestCharts:', error);\n",
              "      }\n",
              "      quickchartButtonEl.classList.remove('colab-df-spinner');\n",
              "      quickchartButtonEl.classList.add('colab-df-quickchart-complete');\n",
              "    }\n",
              "    (() => {\n",
              "      let quickchartButtonEl =\n",
              "        document.querySelector('#df-5b4cb7dd-bd16-4176-99e2-a50dbfd85c68 button');\n",
              "      quickchartButtonEl.style.display =\n",
              "        google.colab.kernel.accessAllowed ? 'block' : 'none';\n",
              "    })();\n",
              "  </script>\n",
              "</div>\n",
              "    </div>\n",
              "  </div>\n"
            ]
          },
          "metadata": {},
          "execution_count": 4
        }
      ]
    },
    {
      "cell_type": "code",
      "source": [
        "housing.info()"
      ],
      "metadata": {
        "colab": {
          "base_uri": "https://localhost:8080/"
        },
        "id": "YHXeG5PswPWs",
        "outputId": "af088304-cc2e-45d4-f20b-45191d836680"
      },
      "execution_count": null,
      "outputs": [
        {
          "output_type": "stream",
          "name": "stdout",
          "text": [
            "<class 'pandas.core.frame.DataFrame'>\n",
            "RangeIndex: 1460 entries, 0 to 1459\n",
            "Data columns (total 81 columns):\n",
            " #   Column         Non-Null Count  Dtype  \n",
            "---  ------         --------------  -----  \n",
            " 0   Id             1460 non-null   int64  \n",
            " 1   MSSubClass     1460 non-null   int64  \n",
            " 2   MSZoning       1460 non-null   object \n",
            " 3   LotFrontage    1201 non-null   float64\n",
            " 4   LotArea        1460 non-null   int64  \n",
            " 5   Street         1460 non-null   object \n",
            " 6   Alley          91 non-null     object \n",
            " 7   LotShape       1460 non-null   object \n",
            " 8   LandContour    1460 non-null   object \n",
            " 9   Utilities      1460 non-null   object \n",
            " 10  LotConfig      1460 non-null   object \n",
            " 11  LandSlope      1460 non-null   object \n",
            " 12  Neighborhood   1460 non-null   object \n",
            " 13  Condition1     1460 non-null   object \n",
            " 14  Condition2     1460 non-null   object \n",
            " 15  BldgType       1460 non-null   object \n",
            " 16  HouseStyle     1460 non-null   object \n",
            " 17  OverallQual    1460 non-null   int64  \n",
            " 18  OverallCond    1460 non-null   int64  \n",
            " 19  YearBuilt      1460 non-null   int64  \n",
            " 20  YearRemodAdd   1460 non-null   int64  \n",
            " 21  RoofStyle      1460 non-null   object \n",
            " 22  RoofMatl       1460 non-null   object \n",
            " 23  Exterior1st    1460 non-null   object \n",
            " 24  Exterior2nd    1460 non-null   object \n",
            " 25  MasVnrType     1452 non-null   object \n",
            " 26  MasVnrArea     1452 non-null   float64\n",
            " 27  ExterQual      1460 non-null   object \n",
            " 28  ExterCond      1460 non-null   object \n",
            " 29  Foundation     1460 non-null   object \n",
            " 30  BsmtQual       1423 non-null   object \n",
            " 31  BsmtCond       1423 non-null   object \n",
            " 32  BsmtExposure   1422 non-null   object \n",
            " 33  BsmtFinType1   1423 non-null   object \n",
            " 34  BsmtFinSF1     1460 non-null   int64  \n",
            " 35  BsmtFinType2   1422 non-null   object \n",
            " 36  BsmtFinSF2     1460 non-null   int64  \n",
            " 37  BsmtUnfSF      1460 non-null   int64  \n",
            " 38  TotalBsmtSF    1460 non-null   int64  \n",
            " 39  Heating        1460 non-null   object \n",
            " 40  HeatingQC      1460 non-null   object \n",
            " 41  CentralAir     1460 non-null   object \n",
            " 42  Electrical     1459 non-null   object \n",
            " 43  1stFlrSF       1460 non-null   int64  \n",
            " 44  2ndFlrSF       1460 non-null   int64  \n",
            " 45  LowQualFinSF   1460 non-null   int64  \n",
            " 46  GrLivArea      1460 non-null   int64  \n",
            " 47  BsmtFullBath   1460 non-null   int64  \n",
            " 48  BsmtHalfBath   1460 non-null   int64  \n",
            " 49  FullBath       1460 non-null   int64  \n",
            " 50  HalfBath       1460 non-null   int64  \n",
            " 51  BedroomAbvGr   1460 non-null   int64  \n",
            " 52  KitchenAbvGr   1460 non-null   int64  \n",
            " 53  KitchenQual    1460 non-null   object \n",
            " 54  TotRmsAbvGrd   1460 non-null   int64  \n",
            " 55  Functional     1460 non-null   object \n",
            " 56  Fireplaces     1460 non-null   int64  \n",
            " 57  FireplaceQu    770 non-null    object \n",
            " 58  GarageType     1379 non-null   object \n",
            " 59  GarageYrBlt    1379 non-null   float64\n",
            " 60  GarageFinish   1379 non-null   object \n",
            " 61  GarageCars     1460 non-null   int64  \n",
            " 62  GarageArea     1460 non-null   int64  \n",
            " 63  GarageQual     1379 non-null   object \n",
            " 64  GarageCond     1379 non-null   object \n",
            " 65  PavedDrive     1460 non-null   object \n",
            " 66  WoodDeckSF     1460 non-null   int64  \n",
            " 67  OpenPorchSF    1460 non-null   int64  \n",
            " 68  EnclosedPorch  1460 non-null   int64  \n",
            " 69  3SsnPorch      1460 non-null   int64  \n",
            " 70  ScreenPorch    1460 non-null   int64  \n",
            " 71  PoolArea       1460 non-null   int64  \n",
            " 72  PoolQC         7 non-null      object \n",
            " 73  Fence          281 non-null    object \n",
            " 74  MiscFeature    54 non-null     object \n",
            " 75  MiscVal        1460 non-null   int64  \n",
            " 76  MoSold         1460 non-null   int64  \n",
            " 77  YrSold         1460 non-null   int64  \n",
            " 78  SaleType       1460 non-null   object \n",
            " 79  SaleCondition  1460 non-null   object \n",
            " 80  SalePrice      1460 non-null   int64  \n",
            "dtypes: float64(3), int64(35), object(43)\n",
            "memory usage: 924.0+ KB\n"
          ]
        }
      ]
    },
    {
      "cell_type": "code",
      "source": [
        "housing.describe(include='all')"
      ],
      "metadata": {
        "colab": {
          "base_uri": "https://localhost:8080/"
        },
        "id": "GieO-o8ewT3x",
        "outputId": "2767ff89-caf3-47a1-d4ae-3d8b57d780b3"
      },
      "execution_count": null,
      "outputs": [
        {
          "output_type": "execute_result",
          "data": {
            "text/plain": [
              "                 Id   MSSubClass MSZoning  LotFrontage        LotArea Street  \\\n",
              "count   1460.000000  1460.000000     1460  1201.000000    1460.000000   1460   \n",
              "unique          NaN          NaN        5          NaN            NaN      2   \n",
              "top             NaN          NaN       RL          NaN            NaN   Pave   \n",
              "freq            NaN          NaN     1151          NaN            NaN   1454   \n",
              "mean     730.500000    56.897260      NaN    70.049958   10516.828082    NaN   \n",
              "std      421.610009    42.300571      NaN    24.284752    9981.264932    NaN   \n",
              "min        1.000000    20.000000      NaN    21.000000    1300.000000    NaN   \n",
              "25%      365.750000    20.000000      NaN    59.000000    7553.500000    NaN   \n",
              "50%      730.500000    50.000000      NaN    69.000000    9478.500000    NaN   \n",
              "75%     1095.250000    70.000000      NaN    80.000000   11601.500000    NaN   \n",
              "max     1460.000000   190.000000      NaN   313.000000  215245.000000    NaN   \n",
              "\n",
              "       Alley LotShape LandContour Utilities  ...     PoolArea PoolQC  Fence  \\\n",
              "count     91     1460        1460      1460  ...  1460.000000      7    281   \n",
              "unique     2        4           4         2  ...          NaN      3      4   \n",
              "top     Grvl      Reg         Lvl    AllPub  ...          NaN     Gd  MnPrv   \n",
              "freq      50      925        1311      1459  ...          NaN      3    157   \n",
              "mean     NaN      NaN         NaN       NaN  ...     2.758904    NaN    NaN   \n",
              "std      NaN      NaN         NaN       NaN  ...    40.177307    NaN    NaN   \n",
              "min      NaN      NaN         NaN       NaN  ...     0.000000    NaN    NaN   \n",
              "25%      NaN      NaN         NaN       NaN  ...     0.000000    NaN    NaN   \n",
              "50%      NaN      NaN         NaN       NaN  ...     0.000000    NaN    NaN   \n",
              "75%      NaN      NaN         NaN       NaN  ...     0.000000    NaN    NaN   \n",
              "max      NaN      NaN         NaN       NaN  ...   738.000000    NaN    NaN   \n",
              "\n",
              "       MiscFeature       MiscVal       MoSold       YrSold  SaleType  \\\n",
              "count           54   1460.000000  1460.000000  1460.000000      1460   \n",
              "unique           4           NaN          NaN          NaN         9   \n",
              "top           Shed           NaN          NaN          NaN        WD   \n",
              "freq            49           NaN          NaN          NaN      1267   \n",
              "mean           NaN     43.489041     6.321918  2007.815753       NaN   \n",
              "std            NaN    496.123024     2.703626     1.328095       NaN   \n",
              "min            NaN      0.000000     1.000000  2006.000000       NaN   \n",
              "25%            NaN      0.000000     5.000000  2007.000000       NaN   \n",
              "50%            NaN      0.000000     6.000000  2008.000000       NaN   \n",
              "75%            NaN      0.000000     8.000000  2009.000000       NaN   \n",
              "max            NaN  15500.000000    12.000000  2010.000000       NaN   \n",
              "\n",
              "        SaleCondition      SalePrice  \n",
              "count            1460    1460.000000  \n",
              "unique              6            NaN  \n",
              "top            Normal            NaN  \n",
              "freq             1198            NaN  \n",
              "mean              NaN  180921.195890  \n",
              "std               NaN   79442.502883  \n",
              "min               NaN   34900.000000  \n",
              "25%               NaN  129975.000000  \n",
              "50%               NaN  163000.000000  \n",
              "75%               NaN  214000.000000  \n",
              "max               NaN  755000.000000  \n",
              "\n",
              "[11 rows x 81 columns]"
            ],
            "text/html": [
              "\n",
              "  <div id=\"df-f3bc7e1f-82ce-4555-94e7-6829237618d9\" class=\"colab-df-container\">\n",
              "    <div>\n",
              "<style scoped>\n",
              "    .dataframe tbody tr th:only-of-type {\n",
              "        vertical-align: middle;\n",
              "    }\n",
              "\n",
              "    .dataframe tbody tr th {\n",
              "        vertical-align: top;\n",
              "    }\n",
              "\n",
              "    .dataframe thead th {\n",
              "        text-align: right;\n",
              "    }\n",
              "</style>\n",
              "<table border=\"1\" class=\"dataframe\">\n",
              "  <thead>\n",
              "    <tr style=\"text-align: right;\">\n",
              "      <th></th>\n",
              "      <th>Id</th>\n",
              "      <th>MSSubClass</th>\n",
              "      <th>MSZoning</th>\n",
              "      <th>LotFrontage</th>\n",
              "      <th>LotArea</th>\n",
              "      <th>Street</th>\n",
              "      <th>Alley</th>\n",
              "      <th>LotShape</th>\n",
              "      <th>LandContour</th>\n",
              "      <th>Utilities</th>\n",
              "      <th>...</th>\n",
              "      <th>PoolArea</th>\n",
              "      <th>PoolQC</th>\n",
              "      <th>Fence</th>\n",
              "      <th>MiscFeature</th>\n",
              "      <th>MiscVal</th>\n",
              "      <th>MoSold</th>\n",
              "      <th>YrSold</th>\n",
              "      <th>SaleType</th>\n",
              "      <th>SaleCondition</th>\n",
              "      <th>SalePrice</th>\n",
              "    </tr>\n",
              "  </thead>\n",
              "  <tbody>\n",
              "    <tr>\n",
              "      <th>count</th>\n",
              "      <td>1460.000000</td>\n",
              "      <td>1460.000000</td>\n",
              "      <td>1460</td>\n",
              "      <td>1201.000000</td>\n",
              "      <td>1460.000000</td>\n",
              "      <td>1460</td>\n",
              "      <td>91</td>\n",
              "      <td>1460</td>\n",
              "      <td>1460</td>\n",
              "      <td>1460</td>\n",
              "      <td>...</td>\n",
              "      <td>1460.000000</td>\n",
              "      <td>7</td>\n",
              "      <td>281</td>\n",
              "      <td>54</td>\n",
              "      <td>1460.000000</td>\n",
              "      <td>1460.000000</td>\n",
              "      <td>1460.000000</td>\n",
              "      <td>1460</td>\n",
              "      <td>1460</td>\n",
              "      <td>1460.000000</td>\n",
              "    </tr>\n",
              "    <tr>\n",
              "      <th>unique</th>\n",
              "      <td>NaN</td>\n",
              "      <td>NaN</td>\n",
              "      <td>5</td>\n",
              "      <td>NaN</td>\n",
              "      <td>NaN</td>\n",
              "      <td>2</td>\n",
              "      <td>2</td>\n",
              "      <td>4</td>\n",
              "      <td>4</td>\n",
              "      <td>2</td>\n",
              "      <td>...</td>\n",
              "      <td>NaN</td>\n",
              "      <td>3</td>\n",
              "      <td>4</td>\n",
              "      <td>4</td>\n",
              "      <td>NaN</td>\n",
              "      <td>NaN</td>\n",
              "      <td>NaN</td>\n",
              "      <td>9</td>\n",
              "      <td>6</td>\n",
              "      <td>NaN</td>\n",
              "    </tr>\n",
              "    <tr>\n",
              "      <th>top</th>\n",
              "      <td>NaN</td>\n",
              "      <td>NaN</td>\n",
              "      <td>RL</td>\n",
              "      <td>NaN</td>\n",
              "      <td>NaN</td>\n",
              "      <td>Pave</td>\n",
              "      <td>Grvl</td>\n",
              "      <td>Reg</td>\n",
              "      <td>Lvl</td>\n",
              "      <td>AllPub</td>\n",
              "      <td>...</td>\n",
              "      <td>NaN</td>\n",
              "      <td>Gd</td>\n",
              "      <td>MnPrv</td>\n",
              "      <td>Shed</td>\n",
              "      <td>NaN</td>\n",
              "      <td>NaN</td>\n",
              "      <td>NaN</td>\n",
              "      <td>WD</td>\n",
              "      <td>Normal</td>\n",
              "      <td>NaN</td>\n",
              "    </tr>\n",
              "    <tr>\n",
              "      <th>freq</th>\n",
              "      <td>NaN</td>\n",
              "      <td>NaN</td>\n",
              "      <td>1151</td>\n",
              "      <td>NaN</td>\n",
              "      <td>NaN</td>\n",
              "      <td>1454</td>\n",
              "      <td>50</td>\n",
              "      <td>925</td>\n",
              "      <td>1311</td>\n",
              "      <td>1459</td>\n",
              "      <td>...</td>\n",
              "      <td>NaN</td>\n",
              "      <td>3</td>\n",
              "      <td>157</td>\n",
              "      <td>49</td>\n",
              "      <td>NaN</td>\n",
              "      <td>NaN</td>\n",
              "      <td>NaN</td>\n",
              "      <td>1267</td>\n",
              "      <td>1198</td>\n",
              "      <td>NaN</td>\n",
              "    </tr>\n",
              "    <tr>\n",
              "      <th>mean</th>\n",
              "      <td>730.500000</td>\n",
              "      <td>56.897260</td>\n",
              "      <td>NaN</td>\n",
              "      <td>70.049958</td>\n",
              "      <td>10516.828082</td>\n",
              "      <td>NaN</td>\n",
              "      <td>NaN</td>\n",
              "      <td>NaN</td>\n",
              "      <td>NaN</td>\n",
              "      <td>NaN</td>\n",
              "      <td>...</td>\n",
              "      <td>2.758904</td>\n",
              "      <td>NaN</td>\n",
              "      <td>NaN</td>\n",
              "      <td>NaN</td>\n",
              "      <td>43.489041</td>\n",
              "      <td>6.321918</td>\n",
              "      <td>2007.815753</td>\n",
              "      <td>NaN</td>\n",
              "      <td>NaN</td>\n",
              "      <td>180921.195890</td>\n",
              "    </tr>\n",
              "    <tr>\n",
              "      <th>std</th>\n",
              "      <td>421.610009</td>\n",
              "      <td>42.300571</td>\n",
              "      <td>NaN</td>\n",
              "      <td>24.284752</td>\n",
              "      <td>9981.264932</td>\n",
              "      <td>NaN</td>\n",
              "      <td>NaN</td>\n",
              "      <td>NaN</td>\n",
              "      <td>NaN</td>\n",
              "      <td>NaN</td>\n",
              "      <td>...</td>\n",
              "      <td>40.177307</td>\n",
              "      <td>NaN</td>\n",
              "      <td>NaN</td>\n",
              "      <td>NaN</td>\n",
              "      <td>496.123024</td>\n",
              "      <td>2.703626</td>\n",
              "      <td>1.328095</td>\n",
              "      <td>NaN</td>\n",
              "      <td>NaN</td>\n",
              "      <td>79442.502883</td>\n",
              "    </tr>\n",
              "    <tr>\n",
              "      <th>min</th>\n",
              "      <td>1.000000</td>\n",
              "      <td>20.000000</td>\n",
              "      <td>NaN</td>\n",
              "      <td>21.000000</td>\n",
              "      <td>1300.000000</td>\n",
              "      <td>NaN</td>\n",
              "      <td>NaN</td>\n",
              "      <td>NaN</td>\n",
              "      <td>NaN</td>\n",
              "      <td>NaN</td>\n",
              "      <td>...</td>\n",
              "      <td>0.000000</td>\n",
              "      <td>NaN</td>\n",
              "      <td>NaN</td>\n",
              "      <td>NaN</td>\n",
              "      <td>0.000000</td>\n",
              "      <td>1.000000</td>\n",
              "      <td>2006.000000</td>\n",
              "      <td>NaN</td>\n",
              "      <td>NaN</td>\n",
              "      <td>34900.000000</td>\n",
              "    </tr>\n",
              "    <tr>\n",
              "      <th>25%</th>\n",
              "      <td>365.750000</td>\n",
              "      <td>20.000000</td>\n",
              "      <td>NaN</td>\n",
              "      <td>59.000000</td>\n",
              "      <td>7553.500000</td>\n",
              "      <td>NaN</td>\n",
              "      <td>NaN</td>\n",
              "      <td>NaN</td>\n",
              "      <td>NaN</td>\n",
              "      <td>NaN</td>\n",
              "      <td>...</td>\n",
              "      <td>0.000000</td>\n",
              "      <td>NaN</td>\n",
              "      <td>NaN</td>\n",
              "      <td>NaN</td>\n",
              "      <td>0.000000</td>\n",
              "      <td>5.000000</td>\n",
              "      <td>2007.000000</td>\n",
              "      <td>NaN</td>\n",
              "      <td>NaN</td>\n",
              "      <td>129975.000000</td>\n",
              "    </tr>\n",
              "    <tr>\n",
              "      <th>50%</th>\n",
              "      <td>730.500000</td>\n",
              "      <td>50.000000</td>\n",
              "      <td>NaN</td>\n",
              "      <td>69.000000</td>\n",
              "      <td>9478.500000</td>\n",
              "      <td>NaN</td>\n",
              "      <td>NaN</td>\n",
              "      <td>NaN</td>\n",
              "      <td>NaN</td>\n",
              "      <td>NaN</td>\n",
              "      <td>...</td>\n",
              "      <td>0.000000</td>\n",
              "      <td>NaN</td>\n",
              "      <td>NaN</td>\n",
              "      <td>NaN</td>\n",
              "      <td>0.000000</td>\n",
              "      <td>6.000000</td>\n",
              "      <td>2008.000000</td>\n",
              "      <td>NaN</td>\n",
              "      <td>NaN</td>\n",
              "      <td>163000.000000</td>\n",
              "    </tr>\n",
              "    <tr>\n",
              "      <th>75%</th>\n",
              "      <td>1095.250000</td>\n",
              "      <td>70.000000</td>\n",
              "      <td>NaN</td>\n",
              "      <td>80.000000</td>\n",
              "      <td>11601.500000</td>\n",
              "      <td>NaN</td>\n",
              "      <td>NaN</td>\n",
              "      <td>NaN</td>\n",
              "      <td>NaN</td>\n",
              "      <td>NaN</td>\n",
              "      <td>...</td>\n",
              "      <td>0.000000</td>\n",
              "      <td>NaN</td>\n",
              "      <td>NaN</td>\n",
              "      <td>NaN</td>\n",
              "      <td>0.000000</td>\n",
              "      <td>8.000000</td>\n",
              "      <td>2009.000000</td>\n",
              "      <td>NaN</td>\n",
              "      <td>NaN</td>\n",
              "      <td>214000.000000</td>\n",
              "    </tr>\n",
              "    <tr>\n",
              "      <th>max</th>\n",
              "      <td>1460.000000</td>\n",
              "      <td>190.000000</td>\n",
              "      <td>NaN</td>\n",
              "      <td>313.000000</td>\n",
              "      <td>215245.000000</td>\n",
              "      <td>NaN</td>\n",
              "      <td>NaN</td>\n",
              "      <td>NaN</td>\n",
              "      <td>NaN</td>\n",
              "      <td>NaN</td>\n",
              "      <td>...</td>\n",
              "      <td>738.000000</td>\n",
              "      <td>NaN</td>\n",
              "      <td>NaN</td>\n",
              "      <td>NaN</td>\n",
              "      <td>15500.000000</td>\n",
              "      <td>12.000000</td>\n",
              "      <td>2010.000000</td>\n",
              "      <td>NaN</td>\n",
              "      <td>NaN</td>\n",
              "      <td>755000.000000</td>\n",
              "    </tr>\n",
              "  </tbody>\n",
              "</table>\n",
              "<p>11 rows × 81 columns</p>\n",
              "</div>\n",
              "    <div class=\"colab-df-buttons\">\n",
              "\n",
              "  <div class=\"colab-df-container\">\n",
              "    <button class=\"colab-df-convert\" onclick=\"convertToInteractive('df-f3bc7e1f-82ce-4555-94e7-6829237618d9')\"\n",
              "            title=\"Convert this dataframe to an interactive table.\"\n",
              "            style=\"display:none;\">\n",
              "\n",
              "  <svg xmlns=\"http://www.w3.org/2000/svg\" height=\"24px\" viewBox=\"0 -960 960 960\">\n",
              "    <path d=\"M120-120v-720h720v720H120Zm60-500h600v-160H180v160Zm220 220h160v-160H400v160Zm0 220h160v-160H400v160ZM180-400h160v-160H180v160Zm440 0h160v-160H620v160ZM180-180h160v-160H180v160Zm440 0h160v-160H620v160Z\"/>\n",
              "  </svg>\n",
              "    </button>\n",
              "\n",
              "  <style>\n",
              "    .colab-df-container {\n",
              "      display:flex;\n",
              "      gap: 12px;\n",
              "    }\n",
              "\n",
              "    .colab-df-convert {\n",
              "      background-color: #E8F0FE;\n",
              "      border: none;\n",
              "      border-radius: 50%;\n",
              "      cursor: pointer;\n",
              "      display: none;\n",
              "      fill: #1967D2;\n",
              "      height: 32px;\n",
              "      padding: 0 0 0 0;\n",
              "      width: 32px;\n",
              "    }\n",
              "\n",
              "    .colab-df-convert:hover {\n",
              "      background-color: #E2EBFA;\n",
              "      box-shadow: 0px 1px 2px rgba(60, 64, 67, 0.3), 0px 1px 3px 1px rgba(60, 64, 67, 0.15);\n",
              "      fill: #174EA6;\n",
              "    }\n",
              "\n",
              "    .colab-df-buttons div {\n",
              "      margin-bottom: 4px;\n",
              "    }\n",
              "\n",
              "    [theme=dark] .colab-df-convert {\n",
              "      background-color: #3B4455;\n",
              "      fill: #D2E3FC;\n",
              "    }\n",
              "\n",
              "    [theme=dark] .colab-df-convert:hover {\n",
              "      background-color: #434B5C;\n",
              "      box-shadow: 0px 1px 3px 1px rgba(0, 0, 0, 0.15);\n",
              "      filter: drop-shadow(0px 1px 2px rgba(0, 0, 0, 0.3));\n",
              "      fill: #FFFFFF;\n",
              "    }\n",
              "  </style>\n",
              "\n",
              "    <script>\n",
              "      const buttonEl =\n",
              "        document.querySelector('#df-f3bc7e1f-82ce-4555-94e7-6829237618d9 button.colab-df-convert');\n",
              "      buttonEl.style.display =\n",
              "        google.colab.kernel.accessAllowed ? 'block' : 'none';\n",
              "\n",
              "      async function convertToInteractive(key) {\n",
              "        const element = document.querySelector('#df-f3bc7e1f-82ce-4555-94e7-6829237618d9');\n",
              "        const dataTable =\n",
              "          await google.colab.kernel.invokeFunction('convertToInteractive',\n",
              "                                                    [key], {});\n",
              "        if (!dataTable) return;\n",
              "\n",
              "        const docLinkHtml = 'Like what you see? Visit the ' +\n",
              "          '<a target=\"_blank\" href=https://colab.research.google.com/notebooks/data_table.ipynb>data table notebook</a>'\n",
              "          + ' to learn more about interactive tables.';\n",
              "        element.innerHTML = '';\n",
              "        dataTable['output_type'] = 'display_data';\n",
              "        await google.colab.output.renderOutput(dataTable, element);\n",
              "        const docLink = document.createElement('div');\n",
              "        docLink.innerHTML = docLinkHtml;\n",
              "        element.appendChild(docLink);\n",
              "      }\n",
              "    </script>\n",
              "  </div>\n",
              "\n",
              "\n",
              "<div id=\"df-07320e0d-231b-47a6-bf25-3c2730f755b9\">\n",
              "  <button class=\"colab-df-quickchart\" onclick=\"quickchart('df-07320e0d-231b-47a6-bf25-3c2730f755b9')\"\n",
              "            title=\"Suggest charts.\"\n",
              "            style=\"display:none;\">\n",
              "\n",
              "<svg xmlns=\"http://www.w3.org/2000/svg\" height=\"24px\"viewBox=\"0 0 24 24\"\n",
              "     width=\"24px\">\n",
              "    <g>\n",
              "        <path d=\"M19 3H5c-1.1 0-2 .9-2 2v14c0 1.1.9 2 2 2h14c1.1 0 2-.9 2-2V5c0-1.1-.9-2-2-2zM9 17H7v-7h2v7zm4 0h-2V7h2v10zm4 0h-2v-4h2v4z\"/>\n",
              "    </g>\n",
              "</svg>\n",
              "  </button>\n",
              "\n",
              "<style>\n",
              "  .colab-df-quickchart {\n",
              "      --bg-color: #E8F0FE;\n",
              "      --fill-color: #1967D2;\n",
              "      --hover-bg-color: #E2EBFA;\n",
              "      --hover-fill-color: #174EA6;\n",
              "      --disabled-fill-color: #AAA;\n",
              "      --disabled-bg-color: #DDD;\n",
              "  }\n",
              "\n",
              "  [theme=dark] .colab-df-quickchart {\n",
              "      --bg-color: #3B4455;\n",
              "      --fill-color: #D2E3FC;\n",
              "      --hover-bg-color: #434B5C;\n",
              "      --hover-fill-color: #FFFFFF;\n",
              "      --disabled-bg-color: #3B4455;\n",
              "      --disabled-fill-color: #666;\n",
              "  }\n",
              "\n",
              "  .colab-df-quickchart {\n",
              "    background-color: var(--bg-color);\n",
              "    border: none;\n",
              "    border-radius: 50%;\n",
              "    cursor: pointer;\n",
              "    display: none;\n",
              "    fill: var(--fill-color);\n",
              "    height: 32px;\n",
              "    padding: 0;\n",
              "    width: 32px;\n",
              "  }\n",
              "\n",
              "  .colab-df-quickchart:hover {\n",
              "    background-color: var(--hover-bg-color);\n",
              "    box-shadow: 0 1px 2px rgba(60, 64, 67, 0.3), 0 1px 3px 1px rgba(60, 64, 67, 0.15);\n",
              "    fill: var(--button-hover-fill-color);\n",
              "  }\n",
              "\n",
              "  .colab-df-quickchart-complete:disabled,\n",
              "  .colab-df-quickchart-complete:disabled:hover {\n",
              "    background-color: var(--disabled-bg-color);\n",
              "    fill: var(--disabled-fill-color);\n",
              "    box-shadow: none;\n",
              "  }\n",
              "\n",
              "  .colab-df-spinner {\n",
              "    border: 2px solid var(--fill-color);\n",
              "    border-color: transparent;\n",
              "    border-bottom-color: var(--fill-color);\n",
              "    animation:\n",
              "      spin 1s steps(1) infinite;\n",
              "  }\n",
              "\n",
              "  @keyframes spin {\n",
              "    0% {\n",
              "      border-color: transparent;\n",
              "      border-bottom-color: var(--fill-color);\n",
              "      border-left-color: var(--fill-color);\n",
              "    }\n",
              "    20% {\n",
              "      border-color: transparent;\n",
              "      border-left-color: var(--fill-color);\n",
              "      border-top-color: var(--fill-color);\n",
              "    }\n",
              "    30% {\n",
              "      border-color: transparent;\n",
              "      border-left-color: var(--fill-color);\n",
              "      border-top-color: var(--fill-color);\n",
              "      border-right-color: var(--fill-color);\n",
              "    }\n",
              "    40% {\n",
              "      border-color: transparent;\n",
              "      border-right-color: var(--fill-color);\n",
              "      border-top-color: var(--fill-color);\n",
              "    }\n",
              "    60% {\n",
              "      border-color: transparent;\n",
              "      border-right-color: var(--fill-color);\n",
              "    }\n",
              "    80% {\n",
              "      border-color: transparent;\n",
              "      border-right-color: var(--fill-color);\n",
              "      border-bottom-color: var(--fill-color);\n",
              "    }\n",
              "    90% {\n",
              "      border-color: transparent;\n",
              "      border-bottom-color: var(--fill-color);\n",
              "    }\n",
              "  }\n",
              "</style>\n",
              "\n",
              "  <script>\n",
              "    async function quickchart(key) {\n",
              "      const quickchartButtonEl =\n",
              "        document.querySelector('#' + key + ' button');\n",
              "      quickchartButtonEl.disabled = true;  // To prevent multiple clicks.\n",
              "      quickchartButtonEl.classList.add('colab-df-spinner');\n",
              "      try {\n",
              "        const charts = await google.colab.kernel.invokeFunction(\n",
              "            'suggestCharts', [key], {});\n",
              "      } catch (error) {\n",
              "        console.error('Error during call to suggestCharts:', error);\n",
              "      }\n",
              "      quickchartButtonEl.classList.remove('colab-df-spinner');\n",
              "      quickchartButtonEl.classList.add('colab-df-quickchart-complete');\n",
              "    }\n",
              "    (() => {\n",
              "      let quickchartButtonEl =\n",
              "        document.querySelector('#df-07320e0d-231b-47a6-bf25-3c2730f755b9 button');\n",
              "      quickchartButtonEl.style.display =\n",
              "        google.colab.kernel.accessAllowed ? 'block' : 'none';\n",
              "    })();\n",
              "  </script>\n",
              "</div>\n",
              "    </div>\n",
              "  </div>\n"
            ]
          },
          "metadata": {},
          "execution_count": 6
        }
      ]
    },
    {
      "cell_type": "code",
      "source": [
        "%matplotlib inline\n",
        "import matplotlib.pyplot as plt\n",
        "housing.hist(bins = 50, figsize=(20,20))\n",
        "plt.show()\n",
        "#save_fig(\"attribute_histogram_plots\")"
      ],
      "metadata": {
        "colab": {
          "base_uri": "https://localhost:8080/"
        },
        "id": "s0mZbrXYwYqS",
        "outputId": "c74bcce4-e288-4abc-a131-598611c720e2"
      },
      "execution_count": null,
      "outputs": [
        {
          "output_type": "display_data",
          "data": {
            "text/plain": [
              "<Figure size 2000x2000 with 42 Axes>"
            ],
            "image/png": "[encoded data removed]"
          },
          "metadata": {}
        }
      ]
    },
    {
      "cell_type": "code",
      "source": [
        "from sklearn.model_selection import train_test_split\n",
        "train_set, test_set = train_test_split(housing, test_size = 0.2, random_state = 73)"
      ],
      "metadata": {
        "id": "GkZiEfXFwdAV"
      },
      "execution_count": null,
      "outputs": []
    },
    {
      "cell_type": "code",
      "source": [
        "print(train_set.shape)\n",
        "print(test_set.shape)"
      ],
      "metadata": {
        "colab": {
          "base_uri": "https://localhost:8080/"
        },
        "id": "Dq4MrNdgwgYq",
        "outputId": "c47d022f-4d36-4d29-8d4f-22bf090bcf16"
      },
      "execution_count": null,
      "outputs": [
        {
          "output_type": "stream",
          "name": "stdout",
          "text": [
            "(1168, 81)\n",
            "(292, 81)\n"
          ]
        }
      ]
    },
    {
      "cell_type": "code",
      "source": [
        "housing[\"OverallQual\"].hist()"
      ],
      "metadata": {
        "colab": {
          "base_uri": "https://localhost:8080/"
        },
        "id": "7ZnKXqF_wjEl",
        "outputId": "15091a7d-6017-4154-92ef-2910bf664c8c"
      },
      "execution_count": null,
      "outputs": [
        {
          "output_type": "execute_result",
          "data": {
            "text/plain": [
              "<Axes: >"
            ]
          },
          "metadata": {},
          "execution_count": 10
        },
        {
          "output_type": "display_data",
          "data": {
            "text/plain": [
              "<Figure size 640x480 with 1 Axes>"
            ],
            "image/png": "[encoded data removed]"
          },
          "metadata": {}
        }
      ]
    },
    {
      "cell_type": "code",
      "source": [
        "housing[\"cond_cat\"] = pd.cut(housing[\"OverallQual\"], bins=[-np.inf,3,4,5,6,7,8,9,np.inf], labels=[1,2,3,4,5,6,7,8])"
      ],
      "metadata": {
        "id": "VD1T2RUwwlYe"
      },
      "execution_count": null,
      "outputs": []
    },
    {
      "cell_type": "code",
      "source": [
        "housing[\"cond_cat\"].value_counts()"
      ],
      "metadata": {
        "colab": {
          "base_uri": "https://localhost:8080/"
        },
        "id": "CHGNVwV4wnF6",
        "outputId": "20c42f87-ee8f-4ccd-81bd-618c565ddea1"
      },
      "execution_count": null,
      "outputs": [
        {
          "output_type": "execute_result",
          "data": {
            "text/plain": [
              "3    397\n",
              "4    374\n",
              "5    319\n",
              "6    168\n",
              "2    116\n",
              "7     43\n",
              "1     25\n",
              "8     18\n",
              "Name: cond_cat, dtype: int64"
            ]
          },
          "metadata": {},
          "execution_count": 12
        }
      ]
    },
    {
      "cell_type": "code",
      "source": [
        "housing[\"cond_cat\"].hist()"
      ],
      "metadata": {
        "colab": {
          "base_uri": "https://localhost:8080/"
        },
        "id": "qJ0GsZqcwtDw",
        "outputId": "85c5206e-6bf8-4b02-b68a-a58d74dd0f81"
      },
      "execution_count": null,
      "outputs": [
        {
          "output_type": "execute_result",
          "data": {
            "text/plain": [
              "<Axes: >"
            ]
          },
          "metadata": {},
          "execution_count": 13
        },
        {
          "output_type": "display_data",
          "data": {
            "text/plain": [
              "<Figure size 640x480 with 1 Axes>"
            ],
            "image/png": "[encoded data removed]"
          },
          "metadata": {}
        }
      ]
    },
    {
      "cell_type": "code",
      "source": [
        "from sklearn.model_selection import StratifiedShuffleSplit\n",
        "\n",
        "split = StratifiedShuffleSplit(n_splits=1,test_size=0.2,random_state=73)\n",
        "for train_index, test_index in split.split(housing, housing[\"cond_cat\"]):\n",
        "    strat_train_set = housing.loc[train_index]\n",
        "    strat_test_set=housing.loc[test_index]"
      ],
      "metadata": {
        "id": "lxp5BBAGwwLE"
      },
      "execution_count": null,
      "outputs": []
    },
    {
      "cell_type": "markdown",
      "metadata": {
        "id": "j5cT4JBSYOS6"
      },
      "source": [
        "## Step 3. Discover and visualize the data to gain insights\n",
        "**Data Discovery:** Plot out all correlations among the features. You should notice some features are more correlated with your predicted value than others. This information will help you confirm the weights of your regression model later on."
      ]
    },
    {
      "cell_type": "code",
      "metadata": {
        "id": "HqfralxMGqCt"
      },
      "source": [
        "# Your code to visualize the data here\n",
        "for set_ in(strat_train_set, strat_test_set):\n",
        "    set_.drop(\"cond_cat\", axis = 1, inplace=True)"
      ],
      "execution_count": null,
      "outputs": []
    },
    {
      "cell_type": "code",
      "source": [
        "housing = strat_train_set.copy()"
      ],
      "metadata": {
        "id": "K9W0AkjCxAKg"
      },
      "execution_count": null,
      "outputs": []
    },
    {
      "cell_type": "code",
      "source": [
        "corr_matrix = housing.corr()\n",
        "corr_matrix.shape"
      ],
      "metadata": {
        "colab": {
          "base_uri": "https://localhost:8080/"
        },
        "id": "4LWdQEMoxCo4",
        "outputId": "b87ab5ec-3096-4274-c702-9bd8f6b8b57a"
      },
      "execution_count": null,
      "outputs": [
        {
          "output_type": "stream",
          "name": "stderr",
          "text": [
            "<ipython-input-17-591c6c82d5ba>:1: FutureWarning: The default value of numeric_only in DataFrame.corr is deprecated. In a future version, it will default to False. Select only valid columns or specify the value of numeric_only to silence this warning.\n",
            "  corr_matrix = housing.corr()\n"
          ]
        },
        {
          "output_type": "execute_result",
          "data": {
            "text/plain": [
              "(38, 38)"
            ]
          },
          "metadata": {},
          "execution_count": 17
        }
      ]
    },
    {
      "cell_type": "code",
      "source": [
        "corr_matrix[\"SalePrice\"].sort_values(ascending=False)"
      ],
      "metadata": {
        "colab": {
          "base_uri": "https://localhost:8080/"
        },
        "id": "kCcNpDRqxFfn",
        "outputId": "15f6aadc-df07-4d1d-f035-53ff6fed8004"
      },
      "execution_count": null,
      "outputs": [
        {
          "output_type": "execute_result",
          "data": {
            "text/plain": [
              "SalePrice        1.000000\n",
              "OverallQual      0.794624\n",
              "GrLivArea        0.688720\n",
              "GarageCars       0.642661\n",
              "GarageArea       0.627363\n",
              "1stFlrSF         0.598824\n",
              "TotalBsmtSF      0.598625\n",
              "FullBath         0.568309\n",
              "YearBuilt        0.533382\n",
              "TotRmsAbvGrd     0.531120\n",
              "YearRemodAdd     0.522378\n",
              "GarageYrBlt      0.502749\n",
              "Fireplaces       0.469477\n",
              "MasVnrArea       0.453140\n",
              "BsmtFinSF1       0.348367\n",
              "LotFrontage      0.346862\n",
              "WoodDeckSF       0.306044\n",
              "OpenPorchSF      0.303196\n",
              "2ndFlrSF         0.293768\n",
              "LotArea          0.264616\n",
              "HalfBath         0.263621\n",
              "BsmtUnfSF        0.233877\n",
              "BsmtFullBath     0.215869\n",
              "BedroomAbvGr     0.169110\n",
              "ScreenPorch      0.125981\n",
              "MoSold           0.058385\n",
              "3SsnPorch        0.055235\n",
              "PoolArea         0.006996\n",
              "BsmtFinSF2       0.005033\n",
              "Id              -0.019769\n",
              "MiscVal         -0.021260\n",
              "LowQualFinSF    -0.021851\n",
              "YrSold          -0.037433\n",
              "BsmtHalfBath    -0.047284\n",
              "OverallCond     -0.067049\n",
              "MSSubClass      -0.105406\n",
              "EnclosedPorch   -0.140751\n",
              "KitchenAbvGr    -0.151379\n",
              "Name: SalePrice, dtype: float64"
            ]
          },
          "metadata": {},
          "execution_count": 18
        }
      ]
    },
    {
      "cell_type": "code",
      "source": [
        "from pandas.plotting import scatter_matrix\n",
        "\n",
        "attributes = [\"SalePrice\", \"OverallQual\", \"GrLivArea\", \"GarageCars\", \"GarageArea\", \"1stFlrSF\"]\n",
        "\n",
        "scatter_matrix(housing[attributes], figsize=(12,8))\n",
        "# save_fig(\"scatter_matrix_plot\")"
      ],
      "metadata": {
        "colab": {
          "base_uri": "https://localhost:8080/"
        },
        "id": "gtNw-LsZxJLG",
        "outputId": "5d2eab90-0807-4d3f-c3b8-eb08a41e847d"
      },
      "execution_count": null,
      "outputs": [
        {
          "output_type": "execute_result",
          "data": {
            "text/plain": [
              "array([[<Axes: xlabel='SalePrice', ylabel='SalePrice'>,\n",
              "        <Axes: xlabel='OverallQual', ylabel='SalePrice'>,\n",
              "        <Axes: xlabel='GrLivArea', ylabel='SalePrice'>,\n",
              "        <Axes: xlabel='GarageCars', ylabel='SalePrice'>,\n",
              "        <Axes: xlabel='GarageArea', ylabel='SalePrice'>,\n",
              "        <Axes: xlabel='1stFlrSF', ylabel='SalePrice'>],\n",
              "       [<Axes: xlabel='SalePrice', ylabel='OverallQual'>,\n",
              "        <Axes: xlabel='OverallQual', ylabel='OverallQual'>,\n",
              "        <Axes: xlabel='GrLivArea', ylabel='OverallQual'>,\n",
              "        <Axes: xlabel='GarageCars', ylabel='OverallQual'>,\n",
              "        <Axes: xlabel='GarageArea', ylabel='OverallQual'>,\n",
              "        <Axes: xlabel='1stFlrSF', ylabel='OverallQual'>],\n",
              "       [<Axes: xlabel='SalePrice', ylabel='GrLivArea'>,\n",
              "        <Axes: xlabel='OverallQual', ylabel='GrLivArea'>,\n",
              "        <Axes: xlabel='GrLivArea', ylabel='GrLivArea'>,\n",
              "        <Axes: xlabel='GarageCars', ylabel='GrLivArea'>,\n",
              "        <Axes: xlabel='GarageArea', ylabel='GrLivArea'>,\n",
              "        <Axes: xlabel='1stFlrSF', ylabel='GrLivArea'>],\n",
              "       [<Axes: xlabel='SalePrice', ylabel='GarageCars'>,\n",
              "        <Axes: xlabel='OverallQual', ylabel='GarageCars'>,\n",
              "        <Axes: xlabel='GrLivArea', ylabel='GarageCars'>,\n",
              "        <Axes: xlabel='GarageCars', ylabel='GarageCars'>,\n",
              "        <Axes: xlabel='GarageArea', ylabel='GarageCars'>,\n",
              "        <Axes: xlabel='1stFlrSF', ylabel='GarageCars'>],\n",
              "       [<Axes: xlabel='SalePrice', ylabel='GarageArea'>,\n",
              "        <Axes: xlabel='OverallQual', ylabel='GarageArea'>,\n",
              "        <Axes: xlabel='GrLivArea', ylabel='GarageArea'>,\n",
              "        <Axes: xlabel='GarageCars', ylabel='GarageArea'>,\n",
              "        <Axes: xlabel='GarageArea', ylabel='GarageArea'>,\n",
              "        <Axes: xlabel='1stFlrSF', ylabel='GarageArea'>],\n",
              "       [<Axes: xlabel='SalePrice', ylabel='1stFlrSF'>,\n",
              "        <Axes: xlabel='OverallQual', ylabel='1stFlrSF'>,\n",
              "        <Axes: xlabel='GrLivArea', ylabel='1stFlrSF'>,\n",
              "        <Axes: xlabel='GarageCars', ylabel='1stFlrSF'>,\n",
              "        <Axes: xlabel='GarageArea', ylabel='1stFlrSF'>,\n",
              "        <Axes: xlabel='1stFlrSF', ylabel='1stFlrSF'>]], dtype=object)"
            ]
          },
          "metadata": {},
          "execution_count": 19
        },
        {
          "output_type": "display_data",
          "data": {
            "text/plain": [
              "<Figure size 1200x800 with 36 Axes>"
            ],
            "image/png": "[encoded data removed]"
          },
          "metadata": {}
        }
      ]
    },
    {
      "cell_type": "code",
      "source": [
        "housing.plot(kind = \"scatter\", x = \"OverallQual\", y = \"SalePrice\", alpha = 0.1)\n",
        "plt.axis([0,16,0,550000])\n",
        "# save_fig(\"quality_vs_sale_price\")"
      ],
      "metadata": {
        "colab": {
          "base_uri": "https://localhost:8080/"
        },
        "id": "QT7r_UFrxN8L",
        "outputId": "e6fd1441-a208-447a-ac9a-d6868868f180"
      },
      "execution_count": null,
      "outputs": [
        {
          "output_type": "execute_result",
          "data": {
            "text/plain": [
              "(0.0, 16.0, 0.0, 550000.0)"
            ]
          },
          "metadata": {},
          "execution_count": 20
        },
        {
          "output_type": "display_data",
          "data": {
            "text/plain": [
              "<Figure size 640x480 with 1 Axes>"
            ],
            "image/png": "[encoded data removed]"
          },
          "metadata": {}
        }
      ]
    },
    {
      "cell_type": "markdown",
      "metadata": {
        "id": "Hr8UHps5Z0cF"
      },
      "source": [
        "##  Step 4: Data Preparation and Cleaning\n",
        "Since we can only use the \"train.csv\", you have to \"artificially\" split the data into training set, validation set, and test set. You may use the `train_test_split()` function *twice*: first is to split into train and test, then to split the train again into training and validation sets.\n",
        "\n",
        "Next, you need to construct the following:\n",
        "\n",
        "* **Data Cleaning:** If your dataset has some missing values, make sure you are able to fill those values with the `Imputer` class.\n",
        "\n",
        "* **Feature Scaling:** Your task is to call the `StandardScaler` to normalize the value of each feature.\n",
        "\n",
        "* **Transformation Pipeline:** More importantly, you will need to integrate the above operations into a `Pipeline` to process and transform the training data (via `fit_transform()`), then use the same pipeline to transform any validation and testing data (using `transform()` only)."
      ]
    },
    {
      "cell_type": "code",
      "metadata": {
        "id": "ju-kzr0LaFb_"
      },
      "source": [
        "# Your code check for missing values, feature scaling, and put all transformation into a pipeline here\n",
        "housing = strat_train_set.drop(\"SalePrice\", axis = 1)\n",
        "housing_labels = strat_train_set[\"SalePrice\"].copy()"
      ],
      "execution_count": null,
      "outputs": []
    },
    {
      "cell_type": "code",
      "source": [
        "housing = housing.drop([\"Id\",\"Alley\", \"FireplaceQu\",\"PoolQC\",\"Fence\",\"MiscFeature\"],axis = 1)"
      ],
      "metadata": {
        "id": "Iyhtl6Jgx4B7"
      },
      "execution_count": null,
      "outputs": []
    },
    {
      "cell_type": "code",
      "source": [
        "housing.shape"
      ],
      "metadata": {
        "colab": {
          "base_uri": "https://localhost:8080/"
        },
        "id": "cJt6-7yW2ohU",
        "outputId": "dbd5a85b-7903-4ea1-b6ce-2e5ac6ef86e5"
      },
      "execution_count": null,
      "outputs": [
        {
          "output_type": "execute_result",
          "data": {
            "text/plain": [
              "(1168, 74)"
            ]
          },
          "metadata": {},
          "execution_count": 23
        }
      ]
    },
    {
      "cell_type": "code",
      "source": [
        "from sklearn.impute import SimpleImputer\n",
        "imputer = SimpleImputer(strategy=\"median\")"
      ],
      "metadata": {
        "id": "8YuFi6WF2vBW"
      },
      "execution_count": null,
      "outputs": []
    },
    {
      "cell_type": "code",
      "source": [
        "housing_num = housing.select_dtypes(include=[np.number])"
      ],
      "metadata": {
        "id": "yqMHZv2z2zCs"
      },
      "execution_count": null,
      "outputs": []
    },
    {
      "cell_type": "code",
      "source": [
        "imputer.fit(housing_num)"
      ],
      "metadata": {
        "colab": {
          "base_uri": "https://localhost:8080/",
          "height": 75
        },
        "id": "MRWJ5MaY4TP0",
        "outputId": "ea89c630-641c-4e29-c421-79698f2dac1f"
      },
      "execution_count": null,
      "outputs": [
        {
          "output_type": "execute_result",
          "data": {
            "text/plain": [
              "SimpleImputer(strategy='median')"
            ],
            "text/html": [
              "<style>#sk-container-id-1 {color: black;background-color: white;}#sk-container-id-1 pre{padding: 0;}#sk-container-id-1 div.sk-toggleable {background-color: white;}#sk-container-id-1 label.sk-toggleable__label {cursor: pointer;display: block;width: 100%;margin-bottom: 0;padding: 0.3em;box-sizing: border-box;text-align: center;}#sk-container-id-1 label.sk-toggleable__label-arrow:before {content: \"▸\";float: left;margin-right: 0.25em;color: #696969;}#sk-container-id-1 label.sk-toggleable__label-arrow:hover:before {color: black;}#sk-container-id-1 div.sk-estimator:hover label.sk-toggleable__label-arrow:before {color: black;}#sk-container-id-1 div.sk-toggleable__content {max-height: 0;max-width: 0;overflow: hidden;text-align: left;background-color: #f0f8ff;}#sk-container-id-1 div.sk-toggleable__content pre {margin: 0.2em;color: black;border-radius: 0.25em;background-color: #f0f8ff;}#sk-container-id-1 input.sk-toggleable__control:checked~div.sk-toggleable__content {max-height: 200px;max-width: 100%;overflow: auto;}#sk-container-id-1 input.sk-toggleable__control:checked~label.sk-toggleable__label-arrow:before {content: \"▾\";}#sk-container-id-1 div.sk-estimator input.sk-toggleable__control:checked~label.sk-toggleable__label {background-color: #d4ebff;}#sk-container-id-1 div.sk-label input.sk-toggleable__control:checked~label.sk-toggleable__label {background-color: #d4ebff;}#sk-container-id-1 input.sk-hidden--visually {border: 0;clip: rect(1px 1px 1px 1px);clip: rect(1px, 1px, 1px, 1px);height: 1px;margin: -1px;overflow: hidden;padding: 0;position: absolute;width: 1px;}#sk-container-id-1 div.sk-estimator {font-family: monospace;background-color: #f0f8ff;border: 1px dotted black;border-radius: 0.25em;box-sizing: border-box;margin-bottom: 0.5em;}#sk-container-id-1 div.sk-estimator:hover {background-color: #d4ebff;}#sk-container-id-1 div.sk-parallel-item::after {content: \"\";width: 100%;border-bottom: 1px solid gray;flex-grow: 1;}#sk-container-id-1 div.sk-label:hover label.sk-toggleable__label {background-color: #d4ebff;}#sk-container-id-1 div.sk-serial::before {content: \"\";position: absolute;border-left: 1px solid gray;box-sizing: border-box;top: 0;bottom: 0;left: 50%;z-index: 0;}#sk-container-id-1 div.sk-serial {display: flex;flex-direction: column;align-items: center;background-color: white;padding-right: 0.2em;padding-left: 0.2em;position: relative;}#sk-container-id-1 div.sk-item {position: relative;z-index: 1;}#sk-container-id-1 div.sk-parallel {display: flex;align-items: stretch;justify-content: center;background-color: white;position: relative;}#sk-container-id-1 div.sk-item::before, #sk-container-id-1 div.sk-parallel-item::before {content: \"\";position: absolute;border-left: 1px solid gray;box-sizing: border-box;top: 0;bottom: 0;left: 50%;z-index: -1;}#sk-container-id-1 div.sk-parallel-item {display: flex;flex-direction: column;z-index: 1;position: relative;background-color: white;}#sk-container-id-1 div.sk-parallel-item:first-child::after {align-self: flex-end;width: 50%;}#sk-container-id-1 div.sk-parallel-item:last-child::after {align-self: flex-start;width: 50%;}#sk-container-id-1 div.sk-parallel-item:only-child::after {width: 0;}#sk-container-id-1 div.sk-dashed-wrapped {border: 1px dashed gray;margin: 0 0.4em 0.5em 0.4em;box-sizing: border-box;padding-bottom: 0.4em;background-color: white;}#sk-container-id-1 div.sk-label label {font-family: monospace;font-weight: bold;display: inline-block;line-height: 1.2em;}#sk-container-id-1 div.sk-label-container {text-align: center;}#sk-container-id-1 div.sk-container {/* jupyter's `normalize.less` sets `[hidden] { display: none; }` but bootstrap.min.css set `[hidden] { display: none !important; }` so we also need the `!important` here to be able to override the default hidden behavior on the sphinx rendered scikit-learn.org. See: https://github.com/scikit-learn/scikit-learn/issues/21755 */display: inline-block !important;position: relative;}#sk-container-id-1 div.sk-text-repr-fallback {display: none;}</style><div id=\"sk-container-id-1\" class=\"sk-top-container\"><div class=\"sk-text-repr-fallback\"><pre>SimpleImputer(strategy=&#x27;median&#x27;)</pre><b>In a Jupyter environment, please rerun this cell to show the HTML representation or trust the notebook. <br />On GitHub, the HTML representation is unable to render, please try loading this page with nbviewer.org.</b></div><div class=\"sk-container\" hidden><div class=\"sk-item\"><div class=\"sk-estimator sk-toggleable\"><input class=\"sk-toggleable__control sk-hidden--visually\" id=\"sk-estimator-id-1\" type=\"checkbox\" checked><label for=\"sk-estimator-id-1\" class=\"sk-toggleable__label sk-toggleable__label-arrow\">SimpleImputer</label><div class=\"sk-toggleable__content\"><pre>SimpleImputer(strategy=&#x27;median&#x27;)</pre></div></div></div></div></div>"
            ]
          },
          "metadata": {},
          "execution_count": 26
        }
      ]
    },
    {
      "cell_type": "code",
      "source": [
        "imputer.statistics_"
      ],
      "metadata": {
        "colab": {
          "base_uri": "https://localhost:8080/"
        },
        "id": "z_bSdQlz4W17",
        "outputId": "b7162898-95ca-479c-c7e5-9efd4160d818"
      },
      "execution_count": null,
      "outputs": [
        {
          "output_type": "execute_result",
          "data": {
            "text/plain": [
              "array([5.0000e+01, 6.9000e+01, 9.4445e+03, 6.0000e+00, 5.0000e+00,\n",
              "       1.9725e+03, 1.9930e+03, 0.0000e+00, 3.7950e+02, 0.0000e+00,\n",
              "       4.6650e+02, 1.0025e+03, 1.0930e+03, 0.0000e+00, 0.0000e+00,\n",
              "       1.4660e+03, 0.0000e+00, 0.0000e+00, 2.0000e+00, 0.0000e+00,\n",
              "       3.0000e+00, 1.0000e+00, 6.0000e+00, 1.0000e+00, 1.9790e+03,\n",
              "       2.0000e+00, 4.8000e+02, 0.0000e+00, 2.4000e+01, 0.0000e+00,\n",
              "       0.0000e+00, 0.0000e+00, 0.0000e+00, 0.0000e+00, 6.0000e+00,\n",
              "       2.0080e+03])"
            ]
          },
          "metadata": {},
          "execution_count": 27
        }
      ]
    },
    {
      "cell_type": "code",
      "source": [
        "X = imputer.transform(housing_num)\n",
        "print(X)"
      ],
      "metadata": {
        "colab": {
          "base_uri": "https://localhost:8080/"
        },
        "id": "2fiGLluI4bjv",
        "outputId": "10345183-6611-4e5c-d90b-17df0f12d250"
      },
      "execution_count": null,
      "outputs": [
        {
          "output_type": "stream",
          "name": "stdout",
          "text": [
            "[[8.0000e+01 5.9000e+01 9.5870e+03 ... 0.0000e+00 7.0000e+00 2.0080e+03]\n",
            " [2.0000e+01 7.0000e+01 7.0000e+03 ... 0.0000e+00 4.0000e+00 2.0070e+03]\n",
            " [2.0000e+01 6.0000e+01 7.1800e+03 ... 0.0000e+00 5.0000e+00 2.0080e+03]\n",
            " ...\n",
            " [1.2000e+02 4.1000e+01 5.3300e+03 ... 0.0000e+00 8.0000e+00 2.0070e+03]\n",
            " [1.6000e+02 2.1000e+01 1.6800e+03 ... 0.0000e+00 5.0000e+00 2.0060e+03]\n",
            " [6.0000e+01 8.3000e+01 1.0005e+04 ... 0.0000e+00 3.0000e+00 2.0080e+03]]\n"
          ]
        }
      ]
    },
    {
      "cell_type": "code",
      "source": [
        "housing_tr = pd.DataFrame(X,columns=housing_num.columns,index = housing.index)"
      ],
      "metadata": {
        "id": "_XBQLgD24m2p"
      },
      "execution_count": null,
      "outputs": []
    },
    {
      "cell_type": "code",
      "source": [
        "housing_cat = housing.select_dtypes(include = [object])\n",
        "housing_cat.head(20)"
      ],
      "metadata": {
        "colab": {
          "base_uri": "https://localhost:8080/",
          "height": 706
        },
        "id": "ENoijbpI4yrI",
        "outputId": "35c9f0fe-6f77-4125-a1b3-d2e954571ad7"
      },
      "execution_count": null,
      "outputs": [
        {
          "output_type": "execute_result",
          "data": {
            "text/plain": [
              "     MSZoning Street LotShape LandContour Utilities LotConfig LandSlope  \\\n",
              "1258       RL   Pave      IR1         Lvl    AllPub    Inside       Gtl   \n",
              "1102       RL   Pave      Reg         Lvl    AllPub    Inside       Gtl   \n",
              "194        RL   Pave      IR1         Lvl    AllPub    Inside       Gtl   \n",
              "699        FV   Pave      IR2         Lvl    AllPub    Inside       Gtl   \n",
              "1181       RM   Pave      IR1         HLS    AllPub    Inside       Mod   \n",
              "291        RL   Pave      Reg         Bnk    AllPub    Inside       Gtl   \n",
              "302        RL   Pave      IR1         Lvl    AllPub    Corner       Gtl   \n",
              "1322       RL   Pave      IR1         Lvl    AllPub    Inside       Gtl   \n",
              "52         RM   Grvl      IR2         Bnk    AllPub    Corner       Mod   \n",
              "954        RL   Pave      IR1         Lvl    AllPub   CulDSac       Gtl   \n",
              "58         RL   Pave      IR2         HLS    AllPub   CulDSac       Gtl   \n",
              "1211       RL   Pave      IR1         Bnk    AllPub    Inside       Mod   \n",
              "600        RL   Pave      Reg         Lvl    AllPub    Inside       Gtl   \n",
              "894        RL   Pave      Reg         Bnk    AllPub    Inside       Gtl   \n",
              "85         RL   Pave      Reg         Lvl    AllPub    Corner       Gtl   \n",
              "452        RL   Pave      IR1         Lvl    AllPub    Corner       Gtl   \n",
              "871        RL   Pave      Reg         Lvl    AllPub    Inside       Gtl   \n",
              "555        RM   Pave      Reg         Lvl    AllPub    Inside       Gtl   \n",
              "1351       RL   Pave      IR1         Lvl    AllPub    Inside       Gtl   \n",
              "1166       RL   Pave      IR1         Lvl    AllPub    Corner       Gtl   \n",
              "\n",
              "     Neighborhood Condition1 Condition2  ... Electrical KitchenQual  \\\n",
              "1258      Gilbert       Norm       Norm  ...      SBrkr          Gd   \n",
              "1102        NAmes       Norm       Norm  ...      SBrkr          TA   \n",
              "194       CollgCr       Norm       Norm  ...      SBrkr          TA   \n",
              "699       Somerst       Norm       Norm  ...      SBrkr          Gd   \n",
              "1181      Crawfor       Norm       Norm  ...      SBrkr          Gd   \n",
              "291         SWISU       Norm       Norm  ...      SBrkr          Fa   \n",
              "302       CollgCr       Norm       Norm  ...      SBrkr          Gd   \n",
              "1322      NoRidge       Norm       Norm  ...      SBrkr          Gd   \n",
              "52         IDOTRR       RRNn       Norm  ...      SBrkr          TA   \n",
              "954       Edwards       Norm       Norm  ...      SBrkr          TA   \n",
              "58        StoneBr       Norm       Norm  ...      SBrkr          Gd   \n",
              "1211      Gilbert       Norm       Norm  ...      SBrkr          TA   \n",
              "600       NridgHt       Norm       Norm  ...      SBrkr          Ex   \n",
              "894       SawyerW       Norm       Norm  ...      SBrkr          TA   \n",
              "85        NoRidge       Norm       Norm  ...      SBrkr          Gd   \n",
              "452        Timber       Norm       Norm  ...      SBrkr          TA   \n",
              "871       CollgCr       Norm       Norm  ...      SBrkr          Gd   \n",
              "555       BrkSide       Norm       Norm  ...      FuseA          TA   \n",
              "1351        NAmes       Norm       Norm  ...      SBrkr          TA   \n",
              "1166      CollgCr       Norm       Norm  ...      SBrkr          Gd   \n",
              "\n",
              "     Functional GarageType GarageFinish GarageQual GarageCond PavedDrive  \\\n",
              "1258        Typ     Attchd          Fin         TA         TA          Y   \n",
              "1102        Typ     Attchd          RFn         TA         TA          Y   \n",
              "194         Typ     Detchd          Unf         TA         TA          Y   \n",
              "699         Typ     Attchd          RFn         TA         TA          Y   \n",
              "1181        Typ     Attchd          Fin         TA         TA          Y   \n",
              "291         Typ        NaN          NaN        NaN        NaN          N   \n",
              "302         Typ     Attchd          RFn         TA         TA          Y   \n",
              "1322        Typ     Attchd          RFn         TA         TA          Y   \n",
              "52          Typ    CarPort          Unf         TA         TA          Y   \n",
              "954         Typ        NaN          NaN        NaN        NaN          Y   \n",
              "58          Typ    BuiltIn          Fin         TA         TA          Y   \n",
              "1211        Typ    Basment          RFn         TA         TA          Y   \n",
              "600         Typ    BuiltIn          Fin         TA         TA          Y   \n",
              "894         Typ     Attchd          Unf         TA         TA          Y   \n",
              "85          Typ     Attchd          Unf         TA         TA          Y   \n",
              "452         Typ     Attchd          Fin         TA         TA          Y   \n",
              "871         Typ     Attchd          RFn         TA         TA          Y   \n",
              "555         Typ     Detchd          Unf         TA         TA          Y   \n",
              "1351        Typ     Attchd          Fin         TA         TA          Y   \n",
              "1166        Typ     Attchd          RFn         TA         TA          Y   \n",
              "\n",
              "     SaleType SaleCondition  \n",
              "1258       WD        Normal  \n",
              "1102       WD        Family  \n",
              "194        WD        Normal  \n",
              "699        WD        Normal  \n",
              "1181      New       Partial  \n",
              "291        WD        Normal  \n",
              "302        WD        Normal  \n",
              "1322       WD        Normal  \n",
              "52         WD        Normal  \n",
              "954        WD       AdjLand  \n",
              "58        New       Partial  \n",
              "1211       WD        Normal  \n",
              "600        WD        Normal  \n",
              "894        WD        Alloca  \n",
              "85         WD        Normal  \n",
              "452        WD        Normal  \n",
              "871        WD        Normal  \n",
              "555        WD        Normal  \n",
              "1351       WD        Normal  \n",
              "1166       WD        Normal  \n",
              "\n",
              "[20 rows x 38 columns]"
            ],
            "text/html": [
              "\n",
              "  <div id=\"df-016875b6-0ad1-4721-a1c2-9a2f6a884aa1\" class=\"colab-df-container\">\n",
              "    <div>\n",
              "<style scoped>\n",
              "    .dataframe tbody tr th:only-of-type {\n",
              "        vertical-align: middle;\n",
              "    }\n",
              "\n",
              "    .dataframe tbody tr th {\n",
              "        vertical-align: top;\n",
              "    }\n",
              "\n",
              "    .dataframe thead th {\n",
              "        text-align: right;\n",
              "    }\n",
              "</style>\n",
              "<table border=\"1\" class=\"dataframe\">\n",
              "  <thead>\n",
              "    <tr style=\"text-align: right;\">\n",
              "      <th></th>\n",
              "      <th>MSZoning</th>\n",
              "      <th>Street</th>\n",
              "      <th>LotShape</th>\n",
              "      <th>LandContour</th>\n",
              "      <th>Utilities</th>\n",
              "      <th>LotConfig</th>\n",
              "      <th>LandSlope</th>\n",
              "      <th>Neighborhood</th>\n",
              "      <th>Condition1</th>\n",
              "      <th>Condition2</th>\n",
              "      <th>...</th>\n",
              "      <th>Electrical</th>\n",
              "      <th>KitchenQual</th>\n",
              "      <th>Functional</th>\n",
              "      <th>GarageType</th>\n",
              "      <th>GarageFinish</th>\n",
              "      <th>GarageQual</th>\n",
              "      <th>GarageCond</th>\n",
              "      <th>PavedDrive</th>\n",
              "      <th>SaleType</th>\n",
              "      <th>SaleCondition</th>\n",
              "    </tr>\n",
              "  </thead>\n",
              "  <tbody>\n",
              "    <tr>\n",
              "      <th>1258</th>\n",
              "      <td>RL</td>\n",
              "      <td>Pave</td>\n",
              "      <td>IR1</td>\n",
              "      <td>Lvl</td>\n",
              "      <td>AllPub</td>\n",
              "      <td>Inside</td>\n",
              "      <td>Gtl</td>\n",
              "      <td>Gilbert</td>\n",
              "      <td>Norm</td>\n",
              "      <td>Norm</td>\n",
              "      <td>...</td>\n",
              "      <td>SBrkr</td>\n",
              "      <td>Gd</td>\n",
              "      <td>Typ</td>\n",
              "      <td>Attchd</td>\n",
              "      <td>Fin</td>\n",
              "      <td>TA</td>\n",
              "      <td>TA</td>\n",
              "      <td>Y</td>\n",
              "      <td>WD</td>\n",
              "      <td>Normal</td>\n",
              "    </tr>\n",
              "    <tr>\n",
              "      <th>1102</th>\n",
              "      <td>RL</td>\n",
              "      <td>Pave</td>\n",
              "      <td>Reg</td>\n",
              "      <td>Lvl</td>\n",
              "      <td>AllPub</td>\n",
              "      <td>Inside</td>\n",
              "      <td>Gtl</td>\n",
              "      <td>NAmes</td>\n",
              "      <td>Norm</td>\n",
              "      <td>Norm</td>\n",
              "      <td>...</td>\n",
              "      <td>SBrkr</td>\n",
              "      <td>TA</td>\n",
              "      <td>Typ</td>\n",
              "      <td>Attchd</td>\n",
              "      <td>RFn</td>\n",
              "      <td>TA</td>\n",
              "      <td>TA</td>\n",
              "      <td>Y</td>\n",
              "      <td>WD</td>\n",
              "      <td>Family</td>\n",
              "    </tr>\n",
              "    <tr>\n",
              "      <th>194</th>\n",
              "      <td>RL</td>\n",
              "      <td>Pave</td>\n",
              "      <td>IR1</td>\n",
              "      <td>Lvl</td>\n",
              "      <td>AllPub</td>\n",
              "      <td>Inside</td>\n",
              "      <td>Gtl</td>\n",
              "      <td>CollgCr</td>\n",
              "      <td>Norm</td>\n",
              "      <td>Norm</td>\n",
              "      <td>...</td>\n",
              "      <td>SBrkr</td>\n",
              "      <td>TA</td>\n",
              "      <td>Typ</td>\n",
              "      <td>Detchd</td>\n",
              "      <td>Unf</td>\n",
              "      <td>TA</td>\n",
              "      <td>TA</td>\n",
              "      <td>Y</td>\n",
              "      <td>WD</td>\n",
              "      <td>Normal</td>\n",
              "    </tr>\n",
              "    <tr>\n",
              "      <th>699</th>\n",
              "      <td>FV</td>\n",
              "      <td>Pave</td>\n",
              "      <td>IR2</td>\n",
              "      <td>Lvl</td>\n",
              "      <td>AllPub</td>\n",
              "      <td>Inside</td>\n",
              "      <td>Gtl</td>\n",
              "      <td>Somerst</td>\n",
              "      <td>Norm</td>\n",
              "      <td>Norm</td>\n",
              "      <td>...</td>\n",
              "      <td>SBrkr</td>\n",
              "      <td>Gd</td>\n",
              "      <td>Typ</td>\n",
              "      <td>Attchd</td>\n",
              "      <td>RFn</td>\n",
              "      <td>TA</td>\n",
              "      <td>TA</td>\n",
              "      <td>Y</td>\n",
              "      <td>WD</td>\n",
              "      <td>Normal</td>\n",
              "    </tr>\n",
              "    <tr>\n",
              "      <th>1181</th>\n",
              "      <td>RM</td>\n",
              "      <td>Pave</td>\n",
              "      <td>IR1</td>\n",
              "      <td>HLS</td>\n",
              "      <td>AllPub</td>\n",
              "      <td>Inside</td>\n",
              "      <td>Mod</td>\n",
              "      <td>Crawfor</td>\n",
              "      <td>Norm</td>\n",
              "      <td>Norm</td>\n",
              "      <td>...</td>\n",
              "      <td>SBrkr</td>\n",
              "      <td>Gd</td>\n",
              "      <td>Typ</td>\n",
              "      <td>Attchd</td>\n",
              "      <td>Fin</td>\n",
              "      <td>TA</td>\n",
              "      <td>TA</td>\n",
              "      <td>Y</td>\n",
              "      <td>New</td>\n",
              "      <td>Partial</td>\n",
              "    </tr>\n",
              "    <tr>\n",
              "      <th>291</th>\n",
              "      <td>RL</td>\n",
              "      <td>Pave</td>\n",
              "      <td>Reg</td>\n",
              "      <td>Bnk</td>\n",
              "      <td>AllPub</td>\n",
              "      <td>Inside</td>\n",
              "      <td>Gtl</td>\n",
              "      <td>SWISU</td>\n",
              "      <td>Norm</td>\n",
              "      <td>Norm</td>\n",
              "      <td>...</td>\n",
              "      <td>SBrkr</td>\n",
              "      <td>Fa</td>\n",
              "      <td>Typ</td>\n",
              "      <td>NaN</td>\n",
              "      <td>NaN</td>\n",
              "      <td>NaN</td>\n",
              "      <td>NaN</td>\n",
              "      <td>N</td>\n",
              "      <td>WD</td>\n",
              "      <td>Normal</td>\n",
              "    </tr>\n",
              "    <tr>\n",
              "      <th>302</th>\n",
              "      <td>RL</td>\n",
              "      <td>Pave</td>\n",
              "      <td>IR1</td>\n",
              "      <td>Lvl</td>\n",
              "      <td>AllPub</td>\n",
              "      <td>Corner</td>\n",
              "      <td>Gtl</td>\n",
              "      <td>CollgCr</td>\n",
              "      <td>Norm</td>\n",
              "      <td>Norm</td>\n",
              "      <td>...</td>\n",
              "      <td>SBrkr</td>\n",
              "      <td>Gd</td>\n",
              "      <td>Typ</td>\n",
              "      <td>Attchd</td>\n",
              "      <td>RFn</td>\n",
              "      <td>TA</td>\n",
              "      <td>TA</td>\n",
              "      <td>Y</td>\n",
              "      <td>WD</td>\n",
              "      <td>Normal</td>\n",
              "    </tr>\n",
              "    <tr>\n",
              "      <th>1322</th>\n",
              "      <td>RL</td>\n",
              "      <td>Pave</td>\n",
              "      <td>IR1</td>\n",
              "      <td>Lvl</td>\n",
              "      <td>AllPub</td>\n",
              "      <td>Inside</td>\n",
              "      <td>Gtl</td>\n",
              "      <td>NoRidge</td>\n",
              "      <td>Norm</td>\n",
              "      <td>Norm</td>\n",
              "      <td>...</td>\n",
              "      <td>SBrkr</td>\n",
              "      <td>Gd</td>\n",
              "      <td>Typ</td>\n",
              "      <td>Attchd</td>\n",
              "      <td>RFn</td>\n",
              "      <td>TA</td>\n",
              "      <td>TA</td>\n",
              "      <td>Y</td>\n",
              "      <td>WD</td>\n",
              "      <td>Normal</td>\n",
              "    </tr>\n",
              "    <tr>\n",
              "      <th>52</th>\n",
              "      <td>RM</td>\n",
              "      <td>Grvl</td>\n",
              "      <td>IR2</td>\n",
              "      <td>Bnk</td>\n",
              "      <td>AllPub</td>\n",
              "      <td>Corner</td>\n",
              "      <td>Mod</td>\n",
              "      <td>IDOTRR</td>\n",
              "      <td>RRNn</td>\n",
              "      <td>Norm</td>\n",
              "      <td>...</td>\n",
              "      <td>SBrkr</td>\n",
              "      <td>TA</td>\n",
              "      <td>Typ</td>\n",
              "      <td>CarPort</td>\n",
              "      <td>Unf</td>\n",
              "      <td>TA</td>\n",
              "      <td>TA</td>\n",
              "      <td>Y</td>\n",
              "      <td>WD</td>\n",
              "      <td>Normal</td>\n",
              "    </tr>\n",
              "    <tr>\n",
              "      <th>954</th>\n",
              "      <td>RL</td>\n",
              "      <td>Pave</td>\n",
              "      <td>IR1</td>\n",
              "      <td>Lvl</td>\n",
              "      <td>AllPub</td>\n",
              "      <td>CulDSac</td>\n",
              "      <td>Gtl</td>\n",
              "      <td>Edwards</td>\n",
              "      <td>Norm</td>\n",
              "      <td>Norm</td>\n",
              "      <td>...</td>\n",
              "      <td>SBrkr</td>\n",
              "      <td>TA</td>\n",
              "      <td>Typ</td>\n",
              "      <td>NaN</td>\n",
              "      <td>NaN</td>\n",
              "      <td>NaN</td>\n",
              "      <td>NaN</td>\n",
              "      <td>Y</td>\n",
              "      <td>WD</td>\n",
              "      <td>AdjLand</td>\n",
              "    </tr>\n",
              "    <tr>\n",
              "      <th>58</th>\n",
              "      <td>RL</td>\n",
              "      <td>Pave</td>\n",
              "      <td>IR2</td>\n",
              "      <td>HLS</td>\n",
              "      <td>AllPub</td>\n",
              "      <td>CulDSac</td>\n",
              "      <td>Gtl</td>\n",
              "      <td>StoneBr</td>\n",
              "      <td>Norm</td>\n",
              "      <td>Norm</td>\n",
              "      <td>...</td>\n",
              "      <td>SBrkr</td>\n",
              "      <td>Gd</td>\n",
              "      <td>Typ</td>\n",
              "      <td>BuiltIn</td>\n",
              "      <td>Fin</td>\n",
              "      <td>TA</td>\n",
              "      <td>TA</td>\n",
              "      <td>Y</td>\n",
              "      <td>New</td>\n",
              "      <td>Partial</td>\n",
              "    </tr>\n",
              "    <tr>\n",
              "      <th>1211</th>\n",
              "      <td>RL</td>\n",
              "      <td>Pave</td>\n",
              "      <td>IR1</td>\n",
              "      <td>Bnk</td>\n",
              "      <td>AllPub</td>\n",
              "      <td>Inside</td>\n",
              "      <td>Mod</td>\n",
              "      <td>Gilbert</td>\n",
              "      <td>Norm</td>\n",
              "      <td>Norm</td>\n",
              "      <td>...</td>\n",
              "      <td>SBrkr</td>\n",
              "      <td>TA</td>\n",
              "      <td>Typ</td>\n",
              "      <td>Basment</td>\n",
              "      <td>RFn</td>\n",
              "      <td>TA</td>\n",
              "      <td>TA</td>\n",
              "      <td>Y</td>\n",
              "      <td>WD</td>\n",
              "      <td>Normal</td>\n",
              "    </tr>\n",
              "    <tr>\n",
              "      <th>600</th>\n",
              "      <td>RL</td>\n",
              "      <td>Pave</td>\n",
              "      <td>Reg</td>\n",
              "      <td>Lvl</td>\n",
              "      <td>AllPub</td>\n",
              "      <td>Inside</td>\n",
              "      <td>Gtl</td>\n",
              "      <td>NridgHt</td>\n",
              "      <td>Norm</td>\n",
              "      <td>Norm</td>\n",
              "      <td>...</td>\n",
              "      <td>SBrkr</td>\n",
              "      <td>Ex</td>\n",
              "      <td>Typ</td>\n",
              "      <td>BuiltIn</td>\n",
              "      <td>Fin</td>\n",
              "      <td>TA</td>\n",
              "      <td>TA</td>\n",
              "      <td>Y</td>\n",
              "      <td>WD</td>\n",
              "      <td>Normal</td>\n",
              "    </tr>\n",
              "    <tr>\n",
              "      <th>894</th>\n",
              "      <td>RL</td>\n",
              "      <td>Pave</td>\n",
              "      <td>Reg</td>\n",
              "      <td>Bnk</td>\n",
              "      <td>AllPub</td>\n",
              "      <td>Inside</td>\n",
              "      <td>Gtl</td>\n",
              "      <td>SawyerW</td>\n",
              "      <td>Norm</td>\n",
              "      <td>Norm</td>\n",
              "      <td>...</td>\n",
              "      <td>SBrkr</td>\n",
              "      <td>TA</td>\n",
              "      <td>Typ</td>\n",
              "      <td>Attchd</td>\n",
              "      <td>Unf</td>\n",
              "      <td>TA</td>\n",
              "      <td>TA</td>\n",
              "      <td>Y</td>\n",
              "      <td>WD</td>\n",
              "      <td>Alloca</td>\n",
              "    </tr>\n",
              "    <tr>\n",
              "      <th>85</th>\n",
              "      <td>RL</td>\n",
              "      <td>Pave</td>\n",
              "      <td>Reg</td>\n",
              "      <td>Lvl</td>\n",
              "      <td>AllPub</td>\n",
              "      <td>Corner</td>\n",
              "      <td>Gtl</td>\n",
              "      <td>NoRidge</td>\n",
              "      <td>Norm</td>\n",
              "      <td>Norm</td>\n",
              "      <td>...</td>\n",
              "      <td>SBrkr</td>\n",
              "      <td>Gd</td>\n",
              "      <td>Typ</td>\n",
              "      <td>Attchd</td>\n",
              "      <td>Unf</td>\n",
              "      <td>TA</td>\n",
              "      <td>TA</td>\n",
              "      <td>Y</td>\n",
              "      <td>WD</td>\n",
              "      <td>Normal</td>\n",
              "    </tr>\n",
              "    <tr>\n",
              "      <th>452</th>\n",
              "      <td>RL</td>\n",
              "      <td>Pave</td>\n",
              "      <td>IR1</td>\n",
              "      <td>Lvl</td>\n",
              "      <td>AllPub</td>\n",
              "      <td>Corner</td>\n",
              "      <td>Gtl</td>\n",
              "      <td>Timber</td>\n",
              "      <td>Norm</td>\n",
              "      <td>Norm</td>\n",
              "      <td>...</td>\n",
              "      <td>SBrkr</td>\n",
              "      <td>TA</td>\n",
              "      <td>Typ</td>\n",
              "      <td>Attchd</td>\n",
              "      <td>Fin</td>\n",
              "      <td>TA</td>\n",
              "      <td>TA</td>\n",
              "      <td>Y</td>\n",
              "      <td>WD</td>\n",
              "      <td>Normal</td>\n",
              "    </tr>\n",
              "    <tr>\n",
              "      <th>871</th>\n",
              "      <td>RL</td>\n",
              "      <td>Pave</td>\n",
              "      <td>Reg</td>\n",
              "      <td>Lvl</td>\n",
              "      <td>AllPub</td>\n",
              "      <td>Inside</td>\n",
              "      <td>Gtl</td>\n",
              "      <td>CollgCr</td>\n",
              "      <td>Norm</td>\n",
              "      <td>Norm</td>\n",
              "      <td>...</td>\n",
              "      <td>SBrkr</td>\n",
              "      <td>Gd</td>\n",
              "      <td>Typ</td>\n",
              "      <td>Attchd</td>\n",
              "      <td>RFn</td>\n",
              "      <td>TA</td>\n",
              "      <td>TA</td>\n",
              "      <td>Y</td>\n",
              "      <td>WD</td>\n",
              "      <td>Normal</td>\n",
              "    </tr>\n",
              "    <tr>\n",
              "      <th>555</th>\n",
              "      <td>RM</td>\n",
              "      <td>Pave</td>\n",
              "      <td>Reg</td>\n",
              "      <td>Lvl</td>\n",
              "      <td>AllPub</td>\n",
              "      <td>Inside</td>\n",
              "      <td>Gtl</td>\n",
              "      <td>BrkSide</td>\n",
              "      <td>Norm</td>\n",
              "      <td>Norm</td>\n",
              "      <td>...</td>\n",
              "      <td>FuseA</td>\n",
              "      <td>TA</td>\n",
              "      <td>Typ</td>\n",
              "      <td>Detchd</td>\n",
              "      <td>Unf</td>\n",
              "      <td>TA</td>\n",
              "      <td>TA</td>\n",
              "      <td>Y</td>\n",
              "      <td>WD</td>\n",
              "      <td>Normal</td>\n",
              "    </tr>\n",
              "    <tr>\n",
              "      <th>1351</th>\n",
              "      <td>RL</td>\n",
              "      <td>Pave</td>\n",
              "      <td>IR1</td>\n",
              "      <td>Lvl</td>\n",
              "      <td>AllPub</td>\n",
              "      <td>Inside</td>\n",
              "      <td>Gtl</td>\n",
              "      <td>NAmes</td>\n",
              "      <td>Norm</td>\n",
              "      <td>Norm</td>\n",
              "      <td>...</td>\n",
              "      <td>SBrkr</td>\n",
              "      <td>TA</td>\n",
              "      <td>Typ</td>\n",
              "      <td>Attchd</td>\n",
              "      <td>Fin</td>\n",
              "      <td>TA</td>\n",
              "      <td>TA</td>\n",
              "      <td>Y</td>\n",
              "      <td>WD</td>\n",
              "      <td>Normal</td>\n",
              "    </tr>\n",
              "    <tr>\n",
              "      <th>1166</th>\n",
              "      <td>RL</td>\n",
              "      <td>Pave</td>\n",
              "      <td>IR1</td>\n",
              "      <td>Lvl</td>\n",
              "      <td>AllPub</td>\n",
              "      <td>Corner</td>\n",
              "      <td>Gtl</td>\n",
              "      <td>CollgCr</td>\n",
              "      <td>Norm</td>\n",
              "      <td>Norm</td>\n",
              "      <td>...</td>\n",
              "      <td>SBrkr</td>\n",
              "      <td>Gd</td>\n",
              "      <td>Typ</td>\n",
              "      <td>Attchd</td>\n",
              "      <td>RFn</td>\n",
              "      <td>TA</td>\n",
              "      <td>TA</td>\n",
              "      <td>Y</td>\n",
              "      <td>WD</td>\n",
              "      <td>Normal</td>\n",
              "    </tr>\n",
              "  </tbody>\n",
              "</table>\n",
              "<p>20 rows × 38 columns</p>\n",
              "</div>\n",
              "    <div class=\"colab-df-buttons\">\n",
              "\n",
              "  <div class=\"colab-df-container\">\n",
              "    <button class=\"colab-df-convert\" onclick=\"convertToInteractive('df-016875b6-0ad1-4721-a1c2-9a2f6a884aa1')\"\n",
              "            title=\"Convert this dataframe to an interactive table.\"\n",
              "            style=\"display:none;\">\n",
              "\n",
              "  <svg xmlns=\"http://www.w3.org/2000/svg\" height=\"24px\" viewBox=\"0 -960 960 960\">\n",
              "    <path d=\"M120-120v-720h720v720H120Zm60-500h600v-160H180v160Zm220 220h160v-160H400v160Zm0 220h160v-160H400v160ZM180-400h160v-160H180v160Zm440 0h160v-160H620v160ZM180-180h160v-160H180v160Zm440 0h160v-160H620v160Z\"/>\n",
              "  </svg>\n",
              "    </button>\n",
              "\n",
              "  <style>\n",
              "    .colab-df-container {\n",
              "      display:flex;\n",
              "      gap: 12px;\n",
              "    }\n",
              "\n",
              "    .colab-df-convert {\n",
              "      background-color: #E8F0FE;\n",
              "      border: none;\n",
              "      border-radius: 50%;\n",
              "      cursor: pointer;\n",
              "      display: none;\n",
              "      fill: #1967D2;\n",
              "      height: 32px;\n",
              "      padding: 0 0 0 0;\n",
              "      width: 32px;\n",
              "    }\n",
              "\n",
              "    .colab-df-convert:hover {\n",
              "      background-color: #E2EBFA;\n",
              "      box-shadow: 0px 1px 2px rgba(60, 64, 67, 0.3), 0px 1px 3px 1px rgba(60, 64, 67, 0.15);\n",
              "      fill: #174EA6;\n",
              "    }\n",
              "\n",
              "    .colab-df-buttons div {\n",
              "      margin-bottom: 4px;\n",
              "    }\n",
              "\n",
              "    [theme=dark] .colab-df-convert {\n",
              "      background-color: #3B4455;\n",
              "      fill: #D2E3FC;\n",
              "    }\n",
              "\n",
              "    [theme=dark] .colab-df-convert:hover {\n",
              "      background-color: #434B5C;\n",
              "      box-shadow: 0px 1px 3px 1px rgba(0, 0, 0, 0.15);\n",
              "      filter: drop-shadow(0px 1px 2px rgba(0, 0, 0, 0.3));\n",
              "      fill: #FFFFFF;\n",
              "    }\n",
              "  </style>\n",
              "\n",
              "    <script>\n",
              "      const buttonEl =\n",
              "        document.querySelector('#df-016875b6-0ad1-4721-a1c2-9a2f6a884aa1 button.colab-df-convert');\n",
              "      buttonEl.style.display =\n",
              "        google.colab.kernel.accessAllowed ? 'block' : 'none';\n",
              "\n",
              "      async function convertToInteractive(key) {\n",
              "        const element = document.querySelector('#df-016875b6-0ad1-4721-a1c2-9a2f6a884aa1');\n",
              "        const dataTable =\n",
              "          await google.colab.kernel.invokeFunction('convertToInteractive',\n",
              "                                                    [key], {});\n",
              "        if (!dataTable) return;\n",
              "\n",
              "        const docLinkHtml = 'Like what you see? Visit the ' +\n",
              "          '<a target=\"_blank\" href=https://colab.research.google.com/notebooks/data_table.ipynb>data table notebook</a>'\n",
              "          + ' to learn more about interactive tables.';\n",
              "        element.innerHTML = '';\n",
              "        dataTable['output_type'] = 'display_data';\n",
              "        await google.colab.output.renderOutput(dataTable, element);\n",
              "        const docLink = document.createElement('div');\n",
              "        docLink.innerHTML = docLinkHtml;\n",
              "        element.appendChild(docLink);\n",
              "      }\n",
              "    </script>\n",
              "  </div>\n",
              "\n",
              "\n",
              "<div id=\"df-b2fe2733-764f-4c30-8dd8-58bce830ceb3\">\n",
              "  <button class=\"colab-df-quickchart\" onclick=\"quickchart('df-b2fe2733-764f-4c30-8dd8-58bce830ceb3')\"\n",
              "            title=\"Suggest charts.\"\n",
              "            style=\"display:none;\">\n",
              "\n",
              "<svg xmlns=\"http://www.w3.org/2000/svg\" height=\"24px\"viewBox=\"0 0 24 24\"\n",
              "     width=\"24px\">\n",
              "    <g>\n",
              "        <path d=\"M19 3H5c-1.1 0-2 .9-2 2v14c0 1.1.9 2 2 2h14c1.1 0 2-.9 2-2V5c0-1.1-.9-2-2-2zM9 17H7v-7h2v7zm4 0h-2V7h2v10zm4 0h-2v-4h2v4z\"/>\n",
              "    </g>\n",
              "</svg>\n",
              "  </button>\n",
              "\n",
              "<style>\n",
              "  .colab-df-quickchart {\n",
              "      --bg-color: #E8F0FE;\n",
              "      --fill-color: #1967D2;\n",
              "      --hover-bg-color: #E2EBFA;\n",
              "      --hover-fill-color: #174EA6;\n",
              "      --disabled-fill-color: #AAA;\n",
              "      --disabled-bg-color: #DDD;\n",
              "  }\n",
              "\n",
              "  [theme=dark] .colab-df-quickchart {\n",
              "      --bg-color: #3B4455;\n",
              "      --fill-color: #D2E3FC;\n",
              "      --hover-bg-color: #434B5C;\n",
              "      --hover-fill-color: #FFFFFF;\n",
              "      --disabled-bg-color: #3B4455;\n",
              "      --disabled-fill-color: #666;\n",
              "  }\n",
              "\n",
              "  .colab-df-quickchart {\n",
              "    background-color: var(--bg-color);\n",
              "    border: none;\n",
              "    border-radius: 50%;\n",
              "    cursor: pointer;\n",
              "    display: none;\n",
              "    fill: var(--fill-color);\n",
              "    height: 32px;\n",
              "    padding: 0;\n",
              "    width: 32px;\n",
              "  }\n",
              "\n",
              "  .colab-df-quickchart:hover {\n",
              "    background-color: var(--hover-bg-color);\n",
              "    box-shadow: 0 1px 2px rgba(60, 64, 67, 0.3), 0 1px 3px 1px rgba(60, 64, 67, 0.15);\n",
              "    fill: var(--button-hover-fill-color);\n",
              "  }\n",
              "\n",
              "  .colab-df-quickchart-complete:disabled,\n",
              "  .colab-df-quickchart-complete:disabled:hover {\n",
              "    background-color: var(--disabled-bg-color);\n",
              "    fill: var(--disabled-fill-color);\n",
              "    box-shadow: none;\n",
              "  }\n",
              "\n",
              "  .colab-df-spinner {\n",
              "    border: 2px solid var(--fill-color);\n",
              "    border-color: transparent;\n",
              "    border-bottom-color: var(--fill-color);\n",
              "    animation:\n",
              "      spin 1s steps(1) infinite;\n",
              "  }\n",
              "\n",
              "  @keyframes spin {\n",
              "    0% {\n",
              "      border-color: transparent;\n",
              "      border-bottom-color: var(--fill-color);\n",
              "      border-left-color: var(--fill-color);\n",
              "    }\n",
              "    20% {\n",
              "      border-color: transparent;\n",
              "      border-left-color: var(--fill-color);\n",
              "      border-top-color: var(--fill-color);\n",
              "    }\n",
              "    30% {\n",
              "      border-color: transparent;\n",
              "      border-left-color: var(--fill-color);\n",
              "      border-top-color: var(--fill-color);\n",
              "      border-right-color: var(--fill-color);\n",
              "    }\n",
              "    40% {\n",
              "      border-color: transparent;\n",
              "      border-right-color: var(--fill-color);\n",
              "      border-top-color: var(--fill-color);\n",
              "    }\n",
              "    60% {\n",
              "      border-color: transparent;\n",
              "      border-right-color: var(--fill-color);\n",
              "    }\n",
              "    80% {\n",
              "      border-color: transparent;\n",
              "      border-right-color: var(--fill-color);\n",
              "      border-bottom-color: var(--fill-color);\n",
              "    }\n",
              "    90% {\n",
              "      border-color: transparent;\n",
              "      border-bottom-color: var(--fill-color);\n",
              "    }\n",
              "  }\n",
              "</style>\n",
              "\n",
              "  <script>\n",
              "    async function quickchart(key) {\n",
              "      const quickchartButtonEl =\n",
              "        document.querySelector('#' + key + ' button');\n",
              "      quickchartButtonEl.disabled = true;  // To prevent multiple clicks.\n",
              "      quickchartButtonEl.classList.add('colab-df-spinner');\n",
              "      try {\n",
              "        const charts = await google.colab.kernel.invokeFunction(\n",
              "            'suggestCharts', [key], {});\n",
              "      } catch (error) {\n",
              "        console.error('Error during call to suggestCharts:', error);\n",
              "      }\n",
              "      quickchartButtonEl.classList.remove('colab-df-spinner');\n",
              "      quickchartButtonEl.classList.add('colab-df-quickchart-complete');\n",
              "    }\n",
              "    (() => {\n",
              "      let quickchartButtonEl =\n",
              "        document.querySelector('#df-b2fe2733-764f-4c30-8dd8-58bce830ceb3 button');\n",
              "      quickchartButtonEl.style.display =\n",
              "        google.colab.kernel.accessAllowed ? 'block' : 'none';\n",
              "    })();\n",
              "  </script>\n",
              "</div>\n",
              "    </div>\n",
              "  </div>\n"
            ]
          },
          "metadata": {},
          "execution_count": 30
        }
      ]
    },
    {
      "cell_type": "code",
      "source": [
        "from sklearn.preprocessing import OrdinalEncoder\n",
        "# OrdinalEncoder encodes consecutive numbers for the categories (5 categories --> 0,1,2,3,4)\n",
        "ordinal_encoder = OrdinalEncoder()\n",
        "housing_cat_encoded = ordinal_encoder.fit_transform(housing_cat)\n",
        "housing_cat_encoded[:10]"
      ],
      "metadata": {
        "colab": {
          "base_uri": "https://localhost:8080/"
        },
        "id": "jaz-NLOR5EeA",
        "outputId": "7c9349e3-5c48-4955-b387-974c4ad60411"
      },
      "execution_count": null,
      "outputs": [
        {
          "output_type": "execute_result",
          "data": {
            "text/plain": [
              "array([[ 3.,  1.,  0.,  3.,  0.,  4.,  0.,  8.,  2.,  2.,  0.,  7.,  1.,\n",
              "         1., 12., 12.,  3.,  2.,  4.,  2.,  2.,  3.,  1.,  2.,  5.,  1.,\n",
              "         0.,  1.,  4.,  2.,  6.,  1.,  0.,  4.,  4.,  2.,  8.,  4.],\n",
              "       [ 3.,  1.,  3.,  3.,  0.,  4.,  0., 12.,  2.,  2.,  0.,  2.,  1.,\n",
              "         1., 13., 13.,  1.,  3.,  4.,  1.,  3.,  3.,  3.,  4.,  5.,  1.,\n",
              "         0.,  1.,  4.,  3.,  6.,  1.,  1.,  4.,  4.,  2.,  8.,  3.],\n",
              "       [ 3.,  1.,  0.,  3.,  0.,  4.,  0.,  5.,  2.,  2.,  0.,  2.,  3.,\n",
              "         1.,  6.,  6.,  2.,  3.,  4.,  1.,  3.,  3.,  0.,  0.,  5.,  1.,\n",
              "         4.,  1.,  4.,  3.,  6.,  5.,  2.,  4.,  4.,  2.,  8.,  4.],\n",
              "       [ 1.,  1.,  1.,  3.,  0.,  4.,  0., 21.,  2.,  2.,  4.,  2.,  1.,\n",
              "         1.,  8.,  8.,  2.,  2.,  4.,  2.,  2.,  3.,  2.,  2.,  5.,  1.,\n",
              "         0.,  1.,  4.,  2.,  6.,  1.,  1.,  4.,  4.,  2.,  8.,  4.],\n",
              "       [ 4.,  1.,  0.,  1.,  0.,  4.,  1.,  6.,  2.,  2.,  4.,  2.,  3.,\n",
              "         1.,  5.,  5.,  3.,  0.,  4.,  2.,  0.,  3.,  1.,  2.,  5.,  1.,\n",
              "         0.,  1.,  4.,  2.,  6.,  1.,  0.,  4.,  4.,  2.,  6.,  5.],\n",
              "       [ 3.,  1.,  3.,  0.,  0.,  4.,  0., 18.,  2.,  2.,  1.,  5.,  1.,\n",
              "         1., 12., 12.,  2.,  3.,  1.,  2.,  3.,  0.,  3.,  4.,  5.,  1.,\n",
              "         0.,  0.,  4.,  1.,  6., nan, nan, nan, nan,  0.,  8.,  4.],\n",
              "       [ 3.,  1.,  0.,  3.,  0.,  0.,  0.,  5.,  2.,  2.,  0.,  2.,  1.,\n",
              "         1., 12., 12.,  1.,  2.,  4.,  2.,  2.,  3.,  3.,  5.,  5.,  1.,\n",
              "         0.,  1.,  4.,  2.,  6.,  1.,  1.,  4.,  4.,  2.,  8.,  4.],\n",
              "       [ 3.,  1.,  0.,  3.,  0.,  4.,  0., 15.,  2.,  2.,  0.,  5.,  1.,\n",
              "         1.,  6.,  6.,  2.,  2.,  4.,  2.,  2.,  3.,  3.,  2.,  5.,  1.,\n",
              "         0.,  1.,  4.,  2.,  6.,  1.,  1.,  4.,  4.,  2.,  8.,  4.],\n",
              "       [ 4.,  0.,  1.,  0.,  0.,  0.,  1.,  9.,  8.,  2.,  2.,  2.,  1.,\n",
              "         1., 13., 13.,  2.,  1.,  4.,  1.,  2.,  3.,  1.,  3.,  2.,  1.,\n",
              "         4.,  0.,  4.,  3.,  6.,  4.,  2.,  4.,  4.,  2.,  8.,  4.],\n",
              "       [ 3.,  1.,  0.,  3.,  0.,  1.,  0.,  7.,  2.,  2.,  2.,  6.,  0.,\n",
              "         4., 14.,  9.,  1.,  3.,  4.,  1.,  2.,  1.,  1.,  2.,  5.,  1.,\n",
              "         4.,  1.,  4.,  3.,  6., nan, nan, nan, nan,  2.,  8.,  1.]])"
            ]
          },
          "metadata": {},
          "execution_count": 31
        }
      ]
    },
    {
      "cell_type": "code",
      "source": [
        "ordinal_encoder.categories_"
      ],
      "metadata": {
        "colab": {
          "base_uri": "https://localhost:8080/"
        },
        "id": "4MeYBjyi5HOY",
        "outputId": "c03d3cc1-561e-43cc-b72a-4821055451f2"
      },
      "execution_count": null,
      "outputs": [
        {
          "output_type": "execute_result",
          "data": {
            "text/plain": [
              "[array(['C (all)', 'FV', 'RH', 'RL', 'RM'], dtype=object),\n",
              " array(['Grvl', 'Pave'], dtype=object),\n",
              " array(['IR1', 'IR2', 'IR3', 'Reg'], dtype=object),\n",
              " array(['Bnk', 'HLS', 'Low', 'Lvl'], dtype=object),\n",
              " array(['AllPub', 'NoSeWa'], dtype=object),\n",
              " array(['Corner', 'CulDSac', 'FR2', 'FR3', 'Inside'], dtype=object),\n",
              " array(['Gtl', 'Mod', 'Sev'], dtype=object),\n",
              " array(['Blmngtn', 'Blueste', 'BrDale', 'BrkSide', 'ClearCr', 'CollgCr',\n",
              "        'Crawfor', 'Edwards', 'Gilbert', 'IDOTRR', 'MeadowV', 'Mitchel',\n",
              "        'NAmes', 'NPkVill', 'NWAmes', 'NoRidge', 'NridgHt', 'OldTown',\n",
              "        'SWISU', 'Sawyer', 'SawyerW', 'Somerst', 'StoneBr', 'Timber',\n",
              "        'Veenker'], dtype=object),\n",
              " array(['Artery', 'Feedr', 'Norm', 'PosA', 'PosN', 'RRAe', 'RRAn', 'RRNe',\n",
              "        'RRNn'], dtype=object),\n",
              " array(['Artery', 'Feedr', 'Norm', 'PosA', 'PosN', 'RRAe', 'RRAn', 'RRNn'],\n",
              "       dtype=object),\n",
              " array(['1Fam', '2fmCon', 'Duplex', 'Twnhs', 'TwnhsE'], dtype=object),\n",
              " array(['1.5Fin', '1.5Unf', '1Story', '2.5Fin', '2.5Unf', '2Story',\n",
              "        'SFoyer', 'SLvl'], dtype=object),\n",
              " array(['Flat', 'Gable', 'Gambrel', 'Hip', 'Mansard', 'Shed'], dtype=object),\n",
              " array(['ClyTile', 'CompShg', 'Membran', 'Metal', 'Tar&Grv', 'WdShake',\n",
              "        'WdShngl'], dtype=object),\n",
              " array(['AsbShng', 'AsphShn', 'BrkComm', 'BrkFace', 'CBlock', 'CemntBd',\n",
              "        'HdBoard', 'ImStucc', 'MetalSd', 'Plywood', 'Stone', 'Stucco',\n",
              "        'VinylSd', 'Wd Sdng', 'WdShing'], dtype=object),\n",
              " array(['AsbShng', 'AsphShn', 'Brk Cmn', 'BrkFace', 'CBlock', 'CmentBd',\n",
              "        'HdBoard', 'ImStucc', 'MetalSd', 'Plywood', 'Stone', 'Stucco',\n",
              "        'VinylSd', 'Wd Sdng', 'Wd Shng'], dtype=object),\n",
              " array(['BrkCmn', 'BrkFace', 'None', 'Stone', nan], dtype=object),\n",
              " array(['Ex', 'Fa', 'Gd', 'TA'], dtype=object),\n",
              " array(['Ex', 'Fa', 'Gd', 'Po', 'TA'], dtype=object),\n",
              " array(['BrkTil', 'CBlock', 'PConc', 'Slab', 'Stone', 'Wood'], dtype=object),\n",
              " array(['Ex', 'Fa', 'Gd', 'TA', nan], dtype=object),\n",
              " array(['Fa', 'Gd', 'Po', 'TA', nan], dtype=object),\n",
              " array(['Av', 'Gd', 'Mn', 'No', nan], dtype=object),\n",
              " array(['ALQ', 'BLQ', 'GLQ', 'LwQ', 'Rec', 'Unf', nan], dtype=object),\n",
              " array(['ALQ', 'BLQ', 'GLQ', 'LwQ', 'Rec', 'Unf', nan], dtype=object),\n",
              " array(['Floor', 'GasA', 'GasW', 'Grav', 'OthW', 'Wall'], dtype=object),\n",
              " array(['Ex', 'Fa', 'Gd', 'Po', 'TA'], dtype=object),\n",
              " array(['N', 'Y'], dtype=object),\n",
              " array(['FuseA', 'FuseF', 'FuseP', 'Mix', 'SBrkr', nan], dtype=object),\n",
              " array(['Ex', 'Fa', 'Gd', 'TA'], dtype=object),\n",
              " array(['Maj1', 'Maj2', 'Min1', 'Min2', 'Mod', 'Sev', 'Typ'], dtype=object),\n",
              " array(['2Types', 'Attchd', 'Basment', 'BuiltIn', 'CarPort', 'Detchd', nan],\n",
              "       dtype=object),\n",
              " array(['Fin', 'RFn', 'Unf', nan], dtype=object),\n",
              " array(['Ex', 'Fa', 'Gd', 'Po', 'TA', nan], dtype=object),\n",
              " array(['Ex', 'Fa', 'Gd', 'Po', 'TA', nan], dtype=object),\n",
              " array(['N', 'P', 'Y'], dtype=object),\n",
              " array(['COD', 'CWD', 'Con', 'ConLD', 'ConLI', 'ConLw', 'New', 'Oth', 'WD'],\n",
              "       dtype=object),\n",
              " array(['Abnorml', 'AdjLand', 'Alloca', 'Family', 'Normal', 'Partial'],\n",
              "       dtype=object)]"
            ]
          },
          "metadata": {},
          "execution_count": 32
        }
      ]
    },
    {
      "cell_type": "code",
      "source": [
        "from sklearn.preprocessing import OneHotEncoder\n",
        "\n",
        "cat_encoder = OneHotEncoder()\n",
        "housing_cat_1hot = cat_encoder.fit_transform(housing_cat)\n",
        "housing_cat_1hot"
      ],
      "metadata": {
        "colab": {
          "base_uri": "https://localhost:8080/"
        },
        "id": "bEKO8K4_5LL7",
        "outputId": "899c0bef-b3d4-4a43-b402-59952acff4d8"
      },
      "execution_count": null,
      "outputs": [
        {
          "output_type": "execute_result",
          "data": {
            "text/plain": [
              "<1168x243 sparse matrix of type '<class 'numpy.float64'>'\n",
              "\twith 44384 stored elements in Compressed Sparse Row format>"
            ]
          },
          "metadata": {},
          "execution_count": 33
        }
      ]
    },
    {
      "cell_type": "code",
      "source": [
        "housing_cat_1hot.toarray()"
      ],
      "metadata": {
        "colab": {
          "base_uri": "https://localhost:8080/"
        },
        "id": "ZPai1X5D5bam",
        "outputId": "35384bd6-5c15-464c-a41f-332cdc324b34"
      },
      "execution_count": null,
      "outputs": [
        {
          "output_type": "execute_result",
          "data": {
            "text/plain": [
              "array([[0., 0., 0., ..., 0., 1., 0.],\n",
              "       [0., 0., 0., ..., 1., 0., 0.],\n",
              "       [0., 0., 0., ..., 0., 1., 0.],\n",
              "       ...,\n",
              "       [0., 0., 0., ..., 0., 1., 0.],\n",
              "       [0., 0., 0., ..., 0., 1., 0.],\n",
              "       [0., 0., 0., ..., 0., 1., 0.]])"
            ]
          },
          "metadata": {},
          "execution_count": 34
        }
      ]
    },
    {
      "cell_type": "code",
      "source": [
        "cat_encoder.categories_"
      ],
      "metadata": {
        "colab": {
          "base_uri": "https://localhost:8080/"
        },
        "id": "QsJDdWFU5lBl",
        "outputId": "aa5f53fe-387b-4c4d-9fbb-34054b6a3e63"
      },
      "execution_count": null,
      "outputs": [
        {
          "output_type": "execute_result",
          "data": {
            "text/plain": [
              "[array(['C (all)', 'FV', 'RH', 'RL', 'RM'], dtype=object),\n",
              " array(['Grvl', 'Pave'], dtype=object),\n",
              " array(['IR1', 'IR2', 'IR3', 'Reg'], dtype=object),\n",
              " array(['Bnk', 'HLS', 'Low', 'Lvl'], dtype=object),\n",
              " array(['AllPub', 'NoSeWa'], dtype=object),\n",
              " array(['Corner', 'CulDSac', 'FR2', 'FR3', 'Inside'], dtype=object),\n",
              " array(['Gtl', 'Mod', 'Sev'], dtype=object),\n",
              " array(['Blmngtn', 'Blueste', 'BrDale', 'BrkSide', 'ClearCr', 'CollgCr',\n",
              "        'Crawfor', 'Edwards', 'Gilbert', 'IDOTRR', 'MeadowV', 'Mitchel',\n",
              "        'NAmes', 'NPkVill', 'NWAmes', 'NoRidge', 'NridgHt', 'OldTown',\n",
              "        'SWISU', 'Sawyer', 'SawyerW', 'Somerst', 'StoneBr', 'Timber',\n",
              "        'Veenker'], dtype=object),\n",
              " array(['Artery', 'Feedr', 'Norm', 'PosA', 'PosN', 'RRAe', 'RRAn', 'RRNe',\n",
              "        'RRNn'], dtype=object),\n",
              " array(['Artery', 'Feedr', 'Norm', 'PosA', 'PosN', 'RRAe', 'RRAn', 'RRNn'],\n",
              "       dtype=object),\n",
              " array(['1Fam', '2fmCon', 'Duplex', 'Twnhs', 'TwnhsE'], dtype=object),\n",
              " array(['1.5Fin', '1.5Unf', '1Story', '2.5Fin', '2.5Unf', '2Story',\n",
              "        'SFoyer', 'SLvl'], dtype=object),\n",
              " array(['Flat', 'Gable', 'Gambrel', 'Hip', 'Mansard', 'Shed'], dtype=object),\n",
              " array(['ClyTile', 'CompShg', 'Membran', 'Metal', 'Tar&Grv', 'WdShake',\n",
              "        'WdShngl'], dtype=object),\n",
              " array(['AsbShng', 'AsphShn', 'BrkComm', 'BrkFace', 'CBlock', 'CemntBd',\n",
              "        'HdBoard', 'ImStucc', 'MetalSd', 'Plywood', 'Stone', 'Stucco',\n",
              "        'VinylSd', 'Wd Sdng', 'WdShing'], dtype=object),\n",
              " array(['AsbShng', 'AsphShn', 'Brk Cmn', 'BrkFace', 'CBlock', 'CmentBd',\n",
              "        'HdBoard', 'ImStucc', 'MetalSd', 'Plywood', 'Stone', 'Stucco',\n",
              "        'VinylSd', 'Wd Sdng', 'Wd Shng'], dtype=object),\n",
              " array(['BrkCmn', 'BrkFace', 'None', 'Stone', nan], dtype=object),\n",
              " array(['Ex', 'Fa', 'Gd', 'TA'], dtype=object),\n",
              " array(['Ex', 'Fa', 'Gd', 'Po', 'TA'], dtype=object),\n",
              " array(['BrkTil', 'CBlock', 'PConc', 'Slab', 'Stone', 'Wood'], dtype=object),\n",
              " array(['Ex', 'Fa', 'Gd', 'TA', nan], dtype=object),\n",
              " array(['Fa', 'Gd', 'Po', 'TA', nan], dtype=object),\n",
              " array(['Av', 'Gd', 'Mn', 'No', nan], dtype=object),\n",
              " array(['ALQ', 'BLQ', 'GLQ', 'LwQ', 'Rec', 'Unf', nan], dtype=object),\n",
              " array(['ALQ', 'BLQ', 'GLQ', 'LwQ', 'Rec', 'Unf', nan], dtype=object),\n",
              " array(['Floor', 'GasA', 'GasW', 'Grav', 'OthW', 'Wall'], dtype=object),\n",
              " array(['Ex', 'Fa', 'Gd', 'Po', 'TA'], dtype=object),\n",
              " array(['N', 'Y'], dtype=object),\n",
              " array(['FuseA', 'FuseF', 'FuseP', 'Mix', 'SBrkr', nan], dtype=object),\n",
              " array(['Ex', 'Fa', 'Gd', 'TA'], dtype=object),\n",
              " array(['Maj1', 'Maj2', 'Min1', 'Min2', 'Mod', 'Sev', 'Typ'], dtype=object),\n",
              " array(['2Types', 'Attchd', 'Basment', 'BuiltIn', 'CarPort', 'Detchd', nan],\n",
              "       dtype=object),\n",
              " array(['Fin', 'RFn', 'Unf', nan], dtype=object),\n",
              " array(['Ex', 'Fa', 'Gd', 'Po', 'TA', nan], dtype=object),\n",
              " array(['Ex', 'Fa', 'Gd', 'Po', 'TA', nan], dtype=object),\n",
              " array(['N', 'P', 'Y'], dtype=object),\n",
              " array(['COD', 'CWD', 'Con', 'ConLD', 'ConLI', 'ConLw', 'New', 'Oth', 'WD'],\n",
              "       dtype=object),\n",
              " array(['Abnorml', 'AdjLand', 'Alloca', 'Family', 'Normal', 'Partial'],\n",
              "       dtype=object)]"
            ]
          },
          "metadata": {},
          "execution_count": 35
        }
      ]
    },
    {
      "cell_type": "code",
      "source": [
        "from sklearn.pipeline import Pipeline\n",
        "from sklearn.preprocessing import StandardScaler\n",
        "num_pipeline = Pipeline([\n",
        "        ('imputer', SimpleImputer(strategy=\"median\")),\n",
        "        ('std_scaler', StandardScaler()),\n",
        "    ])\n",
        "\n",
        "housing_num_tr = num_pipeline.fit_transform(housing_num)"
      ],
      "metadata": {
        "id": "M68xhTJk5sLR"
      },
      "execution_count": null,
      "outputs": []
    },
    {
      "cell_type": "code",
      "source": [
        "from sklearn.compose import ColumnTransformer\n",
        "\n",
        "num_attribs = list(housing_num)\n",
        "cat_attribs = list(housing_cat)\n",
        "\n",
        "full_pipeline = ColumnTransformer([\n",
        "        (\"num\", num_pipeline, num_attribs),\n",
        "        (\"cat\", OneHotEncoder(handle_unknown='ignore'), cat_attribs),\n",
        "    ])\n",
        "\n",
        "housing_prepared = full_pipeline.fit_transform(housing)"
      ],
      "metadata": {
        "id": "BCy7eG_n5-N5"
      },
      "execution_count": null,
      "outputs": []
    },
    {
      "cell_type": "code",
      "source": [
        "print(housing.shape)\n",
        "print(housing_prepared.shape)"
      ],
      "metadata": {
        "colab": {
          "base_uri": "https://localhost:8080/"
        },
        "id": "EMlf9M5H9k8Q",
        "outputId": "ce4852f7-a79d-4971-a195-90c4a57b0cae"
      },
      "execution_count": null,
      "outputs": [
        {
          "output_type": "stream",
          "name": "stdout",
          "text": [
            "(1168, 74)\n",
            "(1168, 279)\n"
          ]
        }
      ]
    },
    {
      "cell_type": "code",
      "source": [
        "housing_prepared.toarray()"
      ],
      "metadata": {
        "colab": {
          "base_uri": "https://localhost:8080/"
        },
        "id": "WXISxUf69taM",
        "outputId": "0c9f495c-d2b5-4154-cad7-e4f3739fd46e"
      },
      "execution_count": null,
      "outputs": [
        {
          "output_type": "execute_result",
          "data": {
            "text/plain": [
              "array([[ 0.56947054, -0.51453602, -0.10136603, ...,  0.        ,\n",
              "         1.        ,  0.        ],\n",
              "       [-0.86094148,  0.02048816, -0.33929328, ...,  1.        ,\n",
              "         0.        ,  0.        ],\n",
              "       [-0.86094148, -0.46589746, -0.32273862, ...,  0.        ,\n",
              "         1.        ,  0.        ],\n",
              "       ...,\n",
              "       [ 1.52307855, -1.39003015, -0.49288373, ...,  0.        ,\n",
              "         1.        ,  0.        ],\n",
              "       [ 2.47668656, -2.36280139, -0.82857544, ...,  0.        ,\n",
              "         1.        ,  0.        ],\n",
              "       [ 0.09266653,  0.65278947, -0.06292243, ...,  0.        ,\n",
              "         1.        ,  0.        ]])"
            ]
          },
          "metadata": {},
          "execution_count": 39
        }
      ]
    },
    {
      "cell_type": "markdown",
      "metadata": {
        "id": "8ExMZjJgaZ7j"
      },
      "source": [
        "## Step 5: Model Selection\n",
        "You should use (at the minimum) the basic ML models which we’ve covered: `LinearRegression`, `DecisionTreeRegressor`, `RandomForestRegressor`. Optionally, you may go for the extra miles by doing some research and try some more advanced models (ie. `Artificial Neural Networks`). You may use `RMSE` as the performance measure.\n",
        "\n",
        "You must use 5-fold CV on the data set to evaluate the performance of your models (following the sample codes on Colab 02).\n"
      ]
    },
    {
      "cell_type": "code",
      "metadata": {
        "id": "waI2JEldacQF",
        "colab": {
          "base_uri": "https://localhost:8080/",
          "height": 75
        },
        "outputId": "a883aadc-6f75-4243-f8d0-e72a64851e43"
      },
      "source": [
        "# Try a few models here\n",
        "from sklearn.linear_model import LinearRegression\n",
        "\n",
        "lin_reg = LinearRegression()\n",
        "lin_reg.fit(housing_prepared, housing_labels)"
      ],
      "execution_count": null,
      "outputs": [
        {
          "output_type": "execute_result",
          "data": {
            "text/plain": [
              "LinearRegression()"
            ],
            "text/html": [
              "<style>#sk-container-id-16 {color: black;background-color: white;}#sk-container-id-16 pre{padding: 0;}#sk-container-id-16 div.sk-toggleable {background-color: white;}#sk-container-id-16 label.sk-toggleable__label {cursor: pointer;display: block;width: 100%;margin-bottom: 0;padding: 0.3em;box-sizing: border-box;text-align: center;}#sk-container-id-16 label.sk-toggleable__label-arrow:before {content: \"▸\";float: left;margin-right: 0.25em;color: #696969;}#sk-container-id-16 label.sk-toggleable__label-arrow:hover:before {color: black;}#sk-container-id-16 div.sk-estimator:hover label.sk-toggleable__label-arrow:before {color: black;}#sk-container-id-16 div.sk-toggleable__content {max-height: 0;max-width: 0;overflow: hidden;text-align: left;background-color: #f0f8ff;}#sk-container-id-16 div.sk-toggleable__content pre {margin: 0.2em;color: black;border-radius: 0.25em;background-color: #f0f8ff;}#sk-container-id-16 input.sk-toggleable__control:checked~div.sk-toggleable__content {max-height: 200px;max-width: 100%;overflow: auto;}#sk-container-id-16 input.sk-toggleable__control:checked~label.sk-toggleable__label-arrow:before {content: \"▾\";}#sk-container-id-16 div.sk-estimator input.sk-toggleable__control:checked~label.sk-toggleable__label {background-color: #d4ebff;}#sk-container-id-16 div.sk-label input.sk-toggleable__control:checked~label.sk-toggleable__label {background-color: #d4ebff;}#sk-container-id-16 input.sk-hidden--visually {border: 0;clip: rect(1px 1px 1px 1px);clip: rect(1px, 1px, 1px, 1px);height: 1px;margin: -1px;overflow: hidden;padding: 0;position: absolute;width: 1px;}#sk-container-id-16 div.sk-estimator {font-family: monospace;background-color: #f0f8ff;border: 1px dotted black;border-radius: 0.25em;box-sizing: border-box;margin-bottom: 0.5em;}#sk-container-id-16 div.sk-estimator:hover {background-color: #d4ebff;}#sk-container-id-16 div.sk-parallel-item::after {content: \"\";width: 100%;border-bottom: 1px solid gray;flex-grow: 1;}#sk-container-id-16 div.sk-label:hover label.sk-toggleable__label {background-color: #d4ebff;}#sk-container-id-16 div.sk-serial::before {content: \"\";position: absolute;border-left: 1px solid gray;box-sizing: border-box;top: 0;bottom: 0;left: 50%;z-index: 0;}#sk-container-id-16 div.sk-serial {display: flex;flex-direction: column;align-items: center;background-color: white;padding-right: 0.2em;padding-left: 0.2em;position: relative;}#sk-container-id-16 div.sk-item {position: relative;z-index: 1;}#sk-container-id-16 div.sk-parallel {display: flex;align-items: stretch;justify-content: center;background-color: white;position: relative;}#sk-container-id-16 div.sk-item::before, #sk-container-id-16 div.sk-parallel-item::before {content: \"\";position: absolute;border-left: 1px solid gray;box-sizing: border-box;top: 0;bottom: 0;left: 50%;z-index: -1;}#sk-container-id-16 div.sk-parallel-item {display: flex;flex-direction: column;z-index: 1;position: relative;background-color: white;}#sk-container-id-16 div.sk-parallel-item:first-child::after {align-self: flex-end;width: 50%;}#sk-container-id-16 div.sk-parallel-item:last-child::after {align-self: flex-start;width: 50%;}#sk-container-id-16 div.sk-parallel-item:only-child::after {width: 0;}#sk-container-id-16 div.sk-dashed-wrapped {border: 1px dashed gray;margin: 0 0.4em 0.5em 0.4em;box-sizing: border-box;padding-bottom: 0.4em;background-color: white;}#sk-container-id-16 div.sk-label label {font-family: monospace;font-weight: bold;display: inline-block;line-height: 1.2em;}#sk-container-id-16 div.sk-label-container {text-align: center;}#sk-container-id-16 div.sk-container {/* jupyter's `normalize.less` sets `[hidden] { display: none; }` but bootstrap.min.css set `[hidden] { display: none !important; }` so we also need the `!important` here to be able to override the default hidden behavior on the sphinx rendered scikit-learn.org. See: https://github.com/scikit-learn/scikit-learn/issues/21755 */display: inline-block !important;position: relative;}#sk-container-id-16 div.sk-text-repr-fallback {display: none;}</style><div id=\"sk-container-id-16\" class=\"sk-top-container\"><div class=\"sk-text-repr-fallback\"><pre>LinearRegression()</pre><b>In a Jupyter environment, please rerun this cell to show the HTML representation or trust the notebook. <br />On GitHub, the HTML representation is unable to render, please try loading this page with nbviewer.org.</b></div><div class=\"sk-container\" hidden><div class=\"sk-item\"><div class=\"sk-estimator sk-toggleable\"><input class=\"sk-toggleable__control sk-hidden--visually\" id=\"sk-estimator-id-28\" type=\"checkbox\" checked><label for=\"sk-estimator-id-28\" class=\"sk-toggleable__label sk-toggleable__label-arrow\">LinearRegression</label><div class=\"sk-toggleable__content\"><pre>LinearRegression()</pre></div></div></div></div></div>"
            ]
          },
          "metadata": {},
          "execution_count": 184
        }
      ]
    },
    {
      "cell_type": "code",
      "source": [
        "some_data = housing.iloc[:5]\n",
        "some_labels = housing_labels.iloc[:5]\n",
        "some_data_prepared = full_pipeline.transform(some_data)\n",
        "\n",
        "print(\"Predictions:\", lin_reg.predict(some_data_prepared))"
      ],
      "metadata": {
        "colab": {
          "base_uri": "https://localhost:8080/"
        },
        "id": "qg3E0w8j57gQ",
        "outputId": "4d49db99-918a-48e6-da5e-34cbc79c0ef1"
      },
      "execution_count": null,
      "outputs": [
        {
          "output_type": "stream",
          "name": "stdout",
          "text": [
            "Predictions: [199416.23243462 123356.75058829 124325.65819921 188427.25317661\n",
            " 330764.98051222]\n"
          ]
        }
      ]
    },
    {
      "cell_type": "code",
      "source": [
        "print(\"Labels:\", list(some_labels))"
      ],
      "metadata": {
        "colab": {
          "base_uri": "https://localhost:8080/"
        },
        "id": "95rAwMDF9xzU",
        "outputId": "981647f2-a93a-4e4c-bffe-bf8c43013feb"
      },
      "execution_count": null,
      "outputs": [
        {
          "output_type": "stream",
          "name": "stdout",
          "text": [
            "Labels: [190000, 135000, 127000, 196000, 392500]\n"
          ]
        }
      ]
    },
    {
      "cell_type": "code",
      "source": [
        "some_data_prepared.toarray()"
      ],
      "metadata": {
        "colab": {
          "base_uri": "https://localhost:8080/"
        },
        "id": "mXSNvo4r978A",
        "outputId": "5daee7f1-3540-4f26-b75a-574804a1d6af"
      },
      "execution_count": null,
      "outputs": [
        {
          "output_type": "execute_result",
          "data": {
            "text/plain": [
              "array([[ 0.56947054, -0.51453602, -0.10136603, ...,  0.        ,\n",
              "         1.        ,  0.        ],\n",
              "       [-0.86094148,  0.02048816, -0.33929328, ...,  1.        ,\n",
              "         0.        ,  0.        ],\n",
              "       [-0.86094148, -0.46589746, -0.32273862, ...,  0.        ,\n",
              "         1.        ,  0.        ],\n",
              "       [ 1.52307855, -0.51453602, -0.58926864, ...,  0.        ,\n",
              "         1.        ,  0.        ],\n",
              "       [ 1.52307855, -0.27134321, -0.46924736, ...,  0.        ,\n",
              "         0.        ,  1.        ]])"
            ]
          },
          "metadata": {},
          "execution_count": 187
        }
      ]
    },
    {
      "cell_type": "code",
      "source": [
        "from sklearn.metrics import mean_squared_error\n",
        "\n",
        "housing_predictions = lin_reg.predict(housing_prepared)\n",
        "lin_mse = mean_squared_error(housing_labels, housing_predictions)\n",
        "lin_rmse = np.sqrt(lin_mse)\n",
        "lin_rmse"
      ],
      "metadata": {
        "colab": {
          "base_uri": "https://localhost:8080/"
        },
        "id": "icMQc6z9-EYO",
        "outputId": "c84cd711-86b2-446e-bf6a-d482d47dc865"
      },
      "execution_count": null,
      "outputs": [
        {
          "output_type": "execute_result",
          "data": {
            "text/plain": [
              "20108.004782359647"
            ]
          },
          "metadata": {},
          "execution_count": 188
        }
      ]
    },
    {
      "cell_type": "code",
      "source": [
        "from sklearn.tree import DecisionTreeRegressor\n",
        "\n",
        "tree_reg = DecisionTreeRegressor(random_state=73)\n",
        "tree_reg.fit(housing_prepared, housing_labels)"
      ],
      "metadata": {
        "colab": {
          "base_uri": "https://localhost:8080/",
          "height": 75
        },
        "id": "_9WKVbu7-ccd",
        "outputId": "56859c12-50e7-467a-d7e8-161dd0b8587b"
      },
      "execution_count": null,
      "outputs": [
        {
          "output_type": "execute_result",
          "data": {
            "text/plain": [
              "DecisionTreeRegressor(random_state=73)"
            ],
            "text/html": [
              "<style>#sk-container-id-17 {color: black;background-color: white;}#sk-container-id-17 pre{padding: 0;}#sk-container-id-17 div.sk-toggleable {background-color: white;}#sk-container-id-17 label.sk-toggleable__label {cursor: pointer;display: block;width: 100%;margin-bottom: 0;padding: 0.3em;box-sizing: border-box;text-align: center;}#sk-container-id-17 label.sk-toggleable__label-arrow:before {content: \"▸\";float: left;margin-right: 0.25em;color: #696969;}#sk-container-id-17 label.sk-toggleable__label-arrow:hover:before {color: black;}#sk-container-id-17 div.sk-estimator:hover label.sk-toggleable__label-arrow:before {color: black;}#sk-container-id-17 div.sk-toggleable__content {max-height: 0;max-width: 0;overflow: hidden;text-align: left;background-color: #f0f8ff;}#sk-container-id-17 div.sk-toggleable__content pre {margin: 0.2em;color: black;border-radius: 0.25em;background-color: #f0f8ff;}#sk-container-id-17 input.sk-toggleable__control:checked~div.sk-toggleable__content {max-height: 200px;max-width: 100%;overflow: auto;}#sk-container-id-17 input.sk-toggleable__control:checked~label.sk-toggleable__label-arrow:before {content: \"▾\";}#sk-container-id-17 div.sk-estimator input.sk-toggleable__control:checked~label.sk-toggleable__label {background-color: #d4ebff;}#sk-container-id-17 div.sk-label input.sk-toggleable__control:checked~label.sk-toggleable__label {background-color: #d4ebff;}#sk-container-id-17 input.sk-hidden--visually {border: 0;clip: rect(1px 1px 1px 1px);clip: rect(1px, 1px, 1px, 1px);height: 1px;margin: -1px;overflow: hidden;padding: 0;position: absolute;width: 1px;}#sk-container-id-17 div.sk-estimator {font-family: monospace;background-color: #f0f8ff;border: 1px dotted black;border-radius: 0.25em;box-sizing: border-box;margin-bottom: 0.5em;}#sk-container-id-17 div.sk-estimator:hover {background-color: #d4ebff;}#sk-container-id-17 div.sk-parallel-item::after {content: \"\";width: 100%;border-bottom: 1px solid gray;flex-grow: 1;}#sk-container-id-17 div.sk-label:hover label.sk-toggleable__label {background-color: #d4ebff;}#sk-container-id-17 div.sk-serial::before {content: \"\";position: absolute;border-left: 1px solid gray;box-sizing: border-box;top: 0;bottom: 0;left: 50%;z-index: 0;}#sk-container-id-17 div.sk-serial {display: flex;flex-direction: column;align-items: center;background-color: white;padding-right: 0.2em;padding-left: 0.2em;position: relative;}#sk-container-id-17 div.sk-item {position: relative;z-index: 1;}#sk-container-id-17 div.sk-parallel {display: flex;align-items: stretch;justify-content: center;background-color: white;position: relative;}#sk-container-id-17 div.sk-item::before, #sk-container-id-17 div.sk-parallel-item::before {content: \"\";position: absolute;border-left: 1px solid gray;box-sizing: border-box;top: 0;bottom: 0;left: 50%;z-index: -1;}#sk-container-id-17 div.sk-parallel-item {display: flex;flex-direction: column;z-index: 1;position: relative;background-color: white;}#sk-container-id-17 div.sk-parallel-item:first-child::after {align-self: flex-end;width: 50%;}#sk-container-id-17 div.sk-parallel-item:last-child::after {align-self: flex-start;width: 50%;}#sk-container-id-17 div.sk-parallel-item:only-child::after {width: 0;}#sk-container-id-17 div.sk-dashed-wrapped {border: 1px dashed gray;margin: 0 0.4em 0.5em 0.4em;box-sizing: border-box;padding-bottom: 0.4em;background-color: white;}#sk-container-id-17 div.sk-label label {font-family: monospace;font-weight: bold;display: inline-block;line-height: 1.2em;}#sk-container-id-17 div.sk-label-container {text-align: center;}#sk-container-id-17 div.sk-container {/* jupyter's `normalize.less` sets `[hidden] { display: none; }` but bootstrap.min.css set `[hidden] { display: none !important; }` so we also need the `!important` here to be able to override the default hidden behavior on the sphinx rendered scikit-learn.org. See: https://github.com/scikit-learn/scikit-learn/issues/21755 */display: inline-block !important;position: relative;}#sk-container-id-17 div.sk-text-repr-fallback {display: none;}</style><div id=\"sk-container-id-17\" class=\"sk-top-container\"><div class=\"sk-text-repr-fallback\"><pre>DecisionTreeRegressor(random_state=73)</pre><b>In a Jupyter environment, please rerun this cell to show the HTML representation or trust the notebook. <br />On GitHub, the HTML representation is unable to render, please try loading this page with nbviewer.org.</b></div><div class=\"sk-container\" hidden><div class=\"sk-item\"><div class=\"sk-estimator sk-toggleable\"><input class=\"sk-toggleable__control sk-hidden--visually\" id=\"sk-estimator-id-29\" type=\"checkbox\" checked><label for=\"sk-estimator-id-29\" class=\"sk-toggleable__label sk-toggleable__label-arrow\">DecisionTreeRegressor</label><div class=\"sk-toggleable__content\"><pre>DecisionTreeRegressor(random_state=73)</pre></div></div></div></div></div>"
            ]
          },
          "metadata": {},
          "execution_count": 189
        }
      ]
    },
    {
      "cell_type": "code",
      "source": [
        "housing_predictions = tree_reg.predict(housing_prepared)\n",
        "tree_mse = mean_squared_error(housing_labels, housing_predictions)\n",
        "tree_rmse = np.sqrt(tree_mse)\n",
        "tree_rmse"
      ],
      "metadata": {
        "colab": {
          "base_uri": "https://localhost:8080/"
        },
        "id": "oQ9ULzc4DeOx",
        "outputId": "dc1b1634-eeeb-4bee-8b34-1018da69c770"
      },
      "execution_count": null,
      "outputs": [
        {
          "output_type": "execute_result",
          "data": {
            "text/plain": [
              "0.0"
            ]
          },
          "metadata": {},
          "execution_count": 190
        }
      ]
    },
    {
      "cell_type": "code",
      "source": [
        "from sklearn.model_selection import cross_val_score\n",
        "\n",
        "scores = cross_val_score(tree_reg, housing_prepared, housing_labels,\n",
        "                        scoring = \"neg_mean_squared_error\", cv = 5)\n",
        "tree_rmse_scores = np.sqrt(-scores)"
      ],
      "metadata": {
        "id": "21khGLrdD2km"
      },
      "execution_count": null,
      "outputs": []
    },
    {
      "cell_type": "code",
      "source": [
        "def display_scores(scores):\n",
        "    print(\"Scores:\",scores)\n",
        "    print(\"Mean:\",scores.mean())\n",
        "    print(\"Standard deviation:\", scores.std())\n",
        "\n",
        "display_scores(tree_rmse_scores)"
      ],
      "metadata": {
        "colab": {
          "base_uri": "https://localhost:8080/"
        },
        "id": "C7KRFFlEKNbE",
        "outputId": "63b19270-fe58-4bdb-eb78-118bc8a15dc3"
      },
      "execution_count": null,
      "outputs": [
        {
          "output_type": "stream",
          "name": "stdout",
          "text": [
            "Scores: [49864.17050888 41136.95973973 35582.34156001 37827.64759465\n",
            " 47370.51206844]\n",
            "Mean: 42356.32629434246\n",
            "Standard deviation: 5466.12181473242\n"
          ]
        }
      ]
    },
    {
      "cell_type": "code",
      "source": [
        "lin_scores = cross_val_score(lin_reg, housing_prepared, housing_labels,\n",
        "                             scoring = \"neg_mean_squared_error\", cv = 5)\n",
        "lin_rmse_scores = np.sqrt(-lin_scores)\n",
        "display_scores(lin_rmse_scores)"
      ],
      "metadata": {
        "colab": {
          "base_uri": "https://localhost:8080/"
        },
        "id": "Z1hxMJZ6LR0S",
        "outputId": "7cf409f9-cdc5-4226-d338-7c9f1899c1d8"
      },
      "execution_count": null,
      "outputs": [
        {
          "output_type": "stream",
          "name": "stdout",
          "text": [
            "Scores: [57827.88906052 29983.49812952 25621.36465597 25099.94319417\n",
            " 39356.38912221]\n",
            "Mean: 35577.81683247797\n",
            "Standard deviation: 12243.827019161678\n"
          ]
        }
      ]
    },
    {
      "cell_type": "code",
      "source": [
        "from sklearn.ensemble import RandomForestRegressor\n",
        "\n",
        "forest_reg = RandomForestRegressor(n_estimators = 100, random_state=73)\n",
        "forest_reg.fit(housing_prepared, housing_labels)"
      ],
      "metadata": {
        "colab": {
          "base_uri": "https://localhost:8080/",
          "height": 75
        },
        "id": "q_w7LJhJMF0T",
        "outputId": "4f190692-6d13-40cf-8f30-8f1111c318b4"
      },
      "execution_count": null,
      "outputs": [
        {
          "output_type": "execute_result",
          "data": {
            "text/plain": [
              "RandomForestRegressor(random_state=73)"
            ],
            "text/html": [
              "<style>#sk-container-id-18 {color: black;background-color: white;}#sk-container-id-18 pre{padding: 0;}#sk-container-id-18 div.sk-toggleable {background-color: white;}#sk-container-id-18 label.sk-toggleable__label {cursor: pointer;display: block;width: 100%;margin-bottom: 0;padding: 0.3em;box-sizing: border-box;text-align: center;}#sk-container-id-18 label.sk-toggleable__label-arrow:before {content: \"▸\";float: left;margin-right: 0.25em;color: #696969;}#sk-container-id-18 label.sk-toggleable__label-arrow:hover:before {color: black;}#sk-container-id-18 div.sk-estimator:hover label.sk-toggleable__label-arrow:before {color: black;}#sk-container-id-18 div.sk-toggleable__content {max-height: 0;max-width: 0;overflow: hidden;text-align: left;background-color: #f0f8ff;}#sk-container-id-18 div.sk-toggleable__content pre {margin: 0.2em;color: black;border-radius: 0.25em;background-color: #f0f8ff;}#sk-container-id-18 input.sk-toggleable__control:checked~div.sk-toggleable__content {max-height: 200px;max-width: 100%;overflow: auto;}#sk-container-id-18 input.sk-toggleable__control:checked~label.sk-toggleable__label-arrow:before {content: \"▾\";}#sk-container-id-18 div.sk-estimator input.sk-toggleable__control:checked~label.sk-toggleable__label {background-color: #d4ebff;}#sk-container-id-18 div.sk-label input.sk-toggleable__control:checked~label.sk-toggleable__label {background-color: #d4ebff;}#sk-container-id-18 input.sk-hidden--visually {border: 0;clip: rect(1px 1px 1px 1px);clip: rect(1px, 1px, 1px, 1px);height: 1px;margin: -1px;overflow: hidden;padding: 0;position: absolute;width: 1px;}#sk-container-id-18 div.sk-estimator {font-family: monospace;background-color: #f0f8ff;border: 1px dotted black;border-radius: 0.25em;box-sizing: border-box;margin-bottom: 0.5em;}#sk-container-id-18 div.sk-estimator:hover {background-color: #d4ebff;}#sk-container-id-18 div.sk-parallel-item::after {content: \"\";width: 100%;border-bottom: 1px solid gray;flex-grow: 1;}#sk-container-id-18 div.sk-label:hover label.sk-toggleable__label {background-color: #d4ebff;}#sk-container-id-18 div.sk-serial::before {content: \"\";position: absolute;border-left: 1px solid gray;box-sizing: border-box;top: 0;bottom: 0;left: 50%;z-index: 0;}#sk-container-id-18 div.sk-serial {display: flex;flex-direction: column;align-items: center;background-color: white;padding-right: 0.2em;padding-left: 0.2em;position: relative;}#sk-container-id-18 div.sk-item {position: relative;z-index: 1;}#sk-container-id-18 div.sk-parallel {display: flex;align-items: stretch;justify-content: center;background-color: white;position: relative;}#sk-container-id-18 div.sk-item::before, #sk-container-id-18 div.sk-parallel-item::before {content: \"\";position: absolute;border-left: 1px solid gray;box-sizing: border-box;top: 0;bottom: 0;left: 50%;z-index: -1;}#sk-container-id-18 div.sk-parallel-item {display: flex;flex-direction: column;z-index: 1;position: relative;background-color: white;}#sk-container-id-18 div.sk-parallel-item:first-child::after {align-self: flex-end;width: 50%;}#sk-container-id-18 div.sk-parallel-item:last-child::after {align-self: flex-start;width: 50%;}#sk-container-id-18 div.sk-parallel-item:only-child::after {width: 0;}#sk-container-id-18 div.sk-dashed-wrapped {border: 1px dashed gray;margin: 0 0.4em 0.5em 0.4em;box-sizing: border-box;padding-bottom: 0.4em;background-color: white;}#sk-container-id-18 div.sk-label label {font-family: monospace;font-weight: bold;display: inline-block;line-height: 1.2em;}#sk-container-id-18 div.sk-label-container {text-align: center;}#sk-container-id-18 div.sk-container {/* jupyter's `normalize.less` sets `[hidden] { display: none; }` but bootstrap.min.css set `[hidden] { display: none !important; }` so we also need the `!important` here to be able to override the default hidden behavior on the sphinx rendered scikit-learn.org. See: https://github.com/scikit-learn/scikit-learn/issues/21755 */display: inline-block !important;position: relative;}#sk-container-id-18 div.sk-text-repr-fallback {display: none;}</style><div id=\"sk-container-id-18\" class=\"sk-top-container\"><div class=\"sk-text-repr-fallback\"><pre>RandomForestRegressor(random_state=73)</pre><b>In a Jupyter environment, please rerun this cell to show the HTML representation or trust the notebook. <br />On GitHub, the HTML representation is unable to render, please try loading this page with nbviewer.org.</b></div><div class=\"sk-container\" hidden><div class=\"sk-item\"><div class=\"sk-estimator sk-toggleable\"><input class=\"sk-toggleable__control sk-hidden--visually\" id=\"sk-estimator-id-30\" type=\"checkbox\" checked><label for=\"sk-estimator-id-30\" class=\"sk-toggleable__label sk-toggleable__label-arrow\">RandomForestRegressor</label><div class=\"sk-toggleable__content\"><pre>RandomForestRegressor(random_state=73)</pre></div></div></div></div></div>"
            ]
          },
          "metadata": {},
          "execution_count": 194
        }
      ]
    },
    {
      "cell_type": "code",
      "source": [
        "housing_predictions = forest_reg.predict(housing_prepared)\n",
        "forest_mse = mean_squared_error(housing_labels, housing_predictions)\n",
        "forest_rmse = np.sqrt(forest_mse)\n",
        "forest_rmse"
      ],
      "metadata": {
        "colab": {
          "base_uri": "https://localhost:8080/"
        },
        "id": "M6-fRq9oMkXT",
        "outputId": "6b112d9d-130e-49d5-a4bd-aefeaa6648a0"
      },
      "execution_count": null,
      "outputs": [
        {
          "output_type": "execute_result",
          "data": {
            "text/plain": [
              "11087.377963749464"
            ]
          },
          "metadata": {},
          "execution_count": 195
        }
      ]
    },
    {
      "cell_type": "code",
      "source": [
        "from sklearn.model_selection import cross_val_score\n",
        "\n",
        "forest_scores = cross_val_score(forest_reg, housing_prepared, housing_labels,\n",
        "                                scoring = \"neg_mean_squared_error\", cv = 5)\n",
        "forest_rmse_scores = np.sqrt(-forest_scores)\n",
        "display_scores(forest_rmse_scores)"
      ],
      "metadata": {
        "colab": {
          "base_uri": "https://localhost:8080/"
        },
        "id": "YUgjtTawNIS7",
        "outputId": "f9c8b7e2-0f67-4459-bb11-24c2c28da872"
      },
      "execution_count": null,
      "outputs": [
        {
          "output_type": "stream",
          "name": "stdout",
          "text": [
            "Scores: [43472.12217183 29833.36150832 24284.14191039 23059.30354632\n",
            " 32501.32952579]\n",
            "Mean: 30630.05173253075\n",
            "Standard deviation: 7302.629233782474\n"
          ]
        }
      ]
    },
    {
      "cell_type": "markdown",
      "metadata": {
        "id": "FFiwPfmZeK2i"
      },
      "source": [
        "## Step 6: Model Tuning\n",
        "\n",
        "In this step, you should attempt to use one of the provided tools for hyperparameter tuning: `GridSearchCV`, `RandomizedSearchCV` to identify the best set of hyperparameters for your model. After tweaking your models, you eventually should report the 5-fold CV RMSE of your tuned model."
      ]
    },
    {
      "cell_type": "code",
      "metadata": {
        "id": "xmXB7iTPdIuu",
        "colab": {
          "base_uri": "https://localhost:8080/",
          "height": 118
        },
        "outputId": "4cc77c79-b1bd-4605-dfbf-909fda5e03ec"
      },
      "source": [
        "from sklearn.model_selection import GridSearchCV\n",
        "\n",
        "param_grid = [\n",
        "    {'n_estimators': [3, 10, 30, 40, 60, 80, 100], 'max_features': [2, 4, 6, 8, 10, 12,14,16,18,20,22,24,26,28,30,32,34]},\n",
        "    {'bootstrap': [False], 'n_estimators': [3, 10, 30, 40, 60], 'max_features': [2, 3, 4, 6, 8, 10, 12,14,16,18,20]},\n",
        "  ]\n",
        "\n",
        "forest_reg = RandomForestRegressor(random_state=73)\n",
        "grid_search = GridSearchCV(forest_reg, param_grid, cv=5,\n",
        "                           scoring='neg_mean_squared_error',\n",
        "                           return_train_score=True)\n",
        "grid_search.fit(housing_prepared, housing_labels)"
      ],
      "execution_count": null,
      "outputs": [
        {
          "output_type": "execute_result",
          "data": {
            "text/plain": [
              "GridSearchCV(cv=5, estimator=RandomForestRegressor(random_state=73),\n",
              "             param_grid=[{'max_features': [2, 4, 6, 8, 10, 12, 14, 16, 18, 20,\n",
              "                                           22, 24, 26, 28, 30, 32, 34],\n",
              "                          'n_estimators': [3, 10, 30, 40, 60, 80, 100]},\n",
              "                         {'bootstrap': [False],\n",
              "                          'max_features': [2, 3, 4, 6, 8, 10, 12, 14, 16, 18,\n",
              "                                           20],\n",
              "                          'n_estimators': [3, 10, 30, 40, 60]}],\n",
              "             return_train_score=True, scoring='neg_mean_squared_error')"
            ],
            "text/html": [
              "<style>#sk-container-id-19 {color: black;background-color: white;}#sk-container-id-19 pre{padding: 0;}#sk-container-id-19 div.sk-toggleable {background-color: white;}#sk-container-id-19 label.sk-toggleable__label {cursor: pointer;display: block;width: 100%;margin-bottom: 0;padding: 0.3em;box-sizing: border-box;text-align: center;}#sk-container-id-19 label.sk-toggleable__label-arrow:before {content: \"▸\";float: left;margin-right: 0.25em;color: #696969;}#sk-container-id-19 label.sk-toggleable__label-arrow:hover:before {color: black;}#sk-container-id-19 div.sk-estimator:hover label.sk-toggleable__label-arrow:before {color: black;}#sk-container-id-19 div.sk-toggleable__content {max-height: 0;max-width: 0;overflow: hidden;text-align: left;background-color: #f0f8ff;}#sk-container-id-19 div.sk-toggleable__content pre {margin: 0.2em;color: black;border-radius: 0.25em;background-color: #f0f8ff;}#sk-container-id-19 input.sk-toggleable__control:checked~div.sk-toggleable__content {max-height: 200px;max-width: 100%;overflow: auto;}#sk-container-id-19 input.sk-toggleable__control:checked~label.sk-toggleable__label-arrow:before {content: \"▾\";}#sk-container-id-19 div.sk-estimator input.sk-toggleable__control:checked~label.sk-toggleable__label {background-color: #d4ebff;}#sk-container-id-19 div.sk-label input.sk-toggleable__control:checked~label.sk-toggleable__label {background-color: #d4ebff;}#sk-container-id-19 input.sk-hidden--visually {border: 0;clip: rect(1px 1px 1px 1px);clip: rect(1px, 1px, 1px, 1px);height: 1px;margin: -1px;overflow: hidden;padding: 0;position: absolute;width: 1px;}#sk-container-id-19 div.sk-estimator {font-family: monospace;background-color: #f0f8ff;border: 1px dotted black;border-radius: 0.25em;box-sizing: border-box;margin-bottom: 0.5em;}#sk-container-id-19 div.sk-estimator:hover {background-color: #d4ebff;}#sk-container-id-19 div.sk-parallel-item::after {content: \"\";width: 100%;border-bottom: 1px solid gray;flex-grow: 1;}#sk-container-id-19 div.sk-label:hover label.sk-toggleable__label {background-color: #d4ebff;}#sk-container-id-19 div.sk-serial::before {content: \"\";position: absolute;border-left: 1px solid gray;box-sizing: border-box;top: 0;bottom: 0;left: 50%;z-index: 0;}#sk-container-id-19 div.sk-serial {display: flex;flex-direction: column;align-items: center;background-color: white;padding-right: 0.2em;padding-left: 0.2em;position: relative;}#sk-container-id-19 div.sk-item {position: relative;z-index: 1;}#sk-container-id-19 div.sk-parallel {display: flex;align-items: stretch;justify-content: center;background-color: white;position: relative;}#sk-container-id-19 div.sk-item::before, #sk-container-id-19 div.sk-parallel-item::before {content: \"\";position: absolute;border-left: 1px solid gray;box-sizing: border-box;top: 0;bottom: 0;left: 50%;z-index: -1;}#sk-container-id-19 div.sk-parallel-item {display: flex;flex-direction: column;z-index: 1;position: relative;background-color: white;}#sk-container-id-19 div.sk-parallel-item:first-child::after {align-self: flex-end;width: 50%;}#sk-container-id-19 div.sk-parallel-item:last-child::after {align-self: flex-start;width: 50%;}#sk-container-id-19 div.sk-parallel-item:only-child::after {width: 0;}#sk-container-id-19 div.sk-dashed-wrapped {border: 1px dashed gray;margin: 0 0.4em 0.5em 0.4em;box-sizing: border-box;padding-bottom: 0.4em;background-color: white;}#sk-container-id-19 div.sk-label label {font-family: monospace;font-weight: bold;display: inline-block;line-height: 1.2em;}#sk-container-id-19 div.sk-label-container {text-align: center;}#sk-container-id-19 div.sk-container {/* jupyter's `normalize.less` sets `[hidden] { display: none; }` but bootstrap.min.css set `[hidden] { display: none !important; }` so we also need the `!important` here to be able to override the default hidden behavior on the sphinx rendered scikit-learn.org. See: https://github.com/scikit-learn/scikit-learn/issues/21755 */display: inline-block !important;position: relative;}#sk-container-id-19 div.sk-text-repr-fallback {display: none;}</style><div id=\"sk-container-id-19\" class=\"sk-top-container\"><div class=\"sk-text-repr-fallback\"><pre>GridSearchCV(cv=5, estimator=RandomForestRegressor(random_state=73),\n",
              "             param_grid=[{&#x27;max_features&#x27;: [2, 4, 6, 8, 10, 12, 14, 16, 18, 20,\n",
              "                                           22, 24, 26, 28, 30, 32, 34],\n",
              "                          &#x27;n_estimators&#x27;: [3, 10, 30, 40, 60, 80, 100]},\n",
              "                         {&#x27;bootstrap&#x27;: [False],\n",
              "                          &#x27;max_features&#x27;: [2, 3, 4, 6, 8, 10, 12, 14, 16, 18,\n",
              "                                           20],\n",
              "                          &#x27;n_estimators&#x27;: [3, 10, 30, 40, 60]}],\n",
              "             return_train_score=True, scoring=&#x27;neg_mean_squared_error&#x27;)</pre><b>In a Jupyter environment, please rerun this cell to show the HTML representation or trust the notebook. <br />On GitHub, the HTML representation is unable to render, please try loading this page with nbviewer.org.</b></div><div class=\"sk-container\" hidden><div class=\"sk-item sk-dashed-wrapped\"><div class=\"sk-label-container\"><div class=\"sk-label sk-toggleable\"><input class=\"sk-toggleable__control sk-hidden--visually\" id=\"sk-estimator-id-31\" type=\"checkbox\" ><label for=\"sk-estimator-id-31\" class=\"sk-toggleable__label sk-toggleable__label-arrow\">GridSearchCV</label><div class=\"sk-toggleable__content\"><pre>GridSearchCV(cv=5, estimator=RandomForestRegressor(random_state=73),\n",
              "             param_grid=[{&#x27;max_features&#x27;: [2, 4, 6, 8, 10, 12, 14, 16, 18, 20,\n",
              "                                           22, 24, 26, 28, 30, 32, 34],\n",
              "                          &#x27;n_estimators&#x27;: [3, 10, 30, 40, 60, 80, 100]},\n",
              "                         {&#x27;bootstrap&#x27;: [False],\n",
              "                          &#x27;max_features&#x27;: [2, 3, 4, 6, 8, 10, 12, 14, 16, 18,\n",
              "                                           20],\n",
              "                          &#x27;n_estimators&#x27;: [3, 10, 30, 40, 60]}],\n",
              "             return_train_score=True, scoring=&#x27;neg_mean_squared_error&#x27;)</pre></div></div></div><div class=\"sk-parallel\"><div class=\"sk-parallel-item\"><div class=\"sk-item\"><div class=\"sk-label-container\"><div class=\"sk-label sk-toggleable\"><input class=\"sk-toggleable__control sk-hidden--visually\" id=\"sk-estimator-id-32\" type=\"checkbox\" ><label for=\"sk-estimator-id-32\" class=\"sk-toggleable__label sk-toggleable__label-arrow\">estimator: RandomForestRegressor</label><div class=\"sk-toggleable__content\"><pre>RandomForestRegressor(random_state=73)</pre></div></div></div><div class=\"sk-serial\"><div class=\"sk-item\"><div class=\"sk-estimator sk-toggleable\"><input class=\"sk-toggleable__control sk-hidden--visually\" id=\"sk-estimator-id-33\" type=\"checkbox\" ><label for=\"sk-estimator-id-33\" class=\"sk-toggleable__label sk-toggleable__label-arrow\">RandomForestRegressor</label><div class=\"sk-toggleable__content\"><pre>RandomForestRegressor(random_state=73)</pre></div></div></div></div></div></div></div></div></div></div>"
            ]
          },
          "metadata": {},
          "execution_count": 197
        }
      ]
    },
    {
      "cell_type": "code",
      "source": [
        "grid_search.best_params_"
      ],
      "metadata": {
        "colab": {
          "base_uri": "https://localhost:8080/"
        },
        "id": "HFcUzR_qloq9",
        "outputId": "3b620ffb-d787-4291-baa7-fe445b69622b"
      },
      "execution_count": null,
      "outputs": [
        {
          "output_type": "execute_result",
          "data": {
            "text/plain": [
              "{'max_features': 34, 'n_estimators': 100}"
            ]
          },
          "metadata": {},
          "execution_count": 198
        }
      ]
    },
    {
      "cell_type": "code",
      "source": [
        "cvres = grid_search.cv_results_\n",
        "# zip() is to combine the column \"mean_test_score\" with struct \"params\"\n",
        "for mean_score, params in zip(cvres[\"mean_test_score\"], cvres[\"params\"]):\n",
        "    print(np.sqrt(-mean_score), params)"
      ],
      "metadata": {
        "colab": {
          "base_uri": "https://localhost:8080/"
        },
        "id": "XBOZ60Zslyy0",
        "outputId": "9581105c-8d8e-40e0-c2a9-9fb8c91bc8a6"
      },
      "execution_count": null,
      "outputs": [
        {
          "output_type": "stream",
          "name": "stdout",
          "text": [
            "46698.54284668837 {'max_features': 2, 'n_estimators': 3}\n",
            "37310.79644714945 {'max_features': 2, 'n_estimators': 10}\n",
            "36526.8484890227 {'max_features': 2, 'n_estimators': 30}\n",
            "37084.49036834273 {'max_features': 2, 'n_estimators': 40}\n",
            "36869.625579390144 {'max_features': 2, 'n_estimators': 60}\n",
            "36649.594717775246 {'max_features': 2, 'n_estimators': 80}\n",
            "36548.93061100511 {'max_features': 2, 'n_estimators': 100}\n",
            "42687.204240738385 {'max_features': 4, 'n_estimators': 3}\n",
            "36878.31512270831 {'max_features': 4, 'n_estimators': 10}\n",
            "35475.481430577274 {'max_features': 4, 'n_estimators': 30}\n",
            "34786.53955662697 {'max_features': 4, 'n_estimators': 40}\n",
            "34480.19403511226 {'max_features': 4, 'n_estimators': 60}\n",
            "34428.732796237615 {'max_features': 4, 'n_estimators': 80}\n",
            "34506.49121587746 {'max_features': 4, 'n_estimators': 100}\n",
            "45108.44398438214 {'max_features': 6, 'n_estimators': 3}\n",
            "36195.90700464376 {'max_features': 6, 'n_estimators': 10}\n",
            "34678.011550238705 {'max_features': 6, 'n_estimators': 30}\n",
            "34297.99826275644 {'max_features': 6, 'n_estimators': 40}\n",
            "34142.84427516022 {'max_features': 6, 'n_estimators': 60}\n",
            "33915.48204603539 {'max_features': 6, 'n_estimators': 80}\n",
            "33907.69849379283 {'max_features': 6, 'n_estimators': 100}\n",
            "41196.38248731893 {'max_features': 8, 'n_estimators': 3}\n",
            "36285.067207737775 {'max_features': 8, 'n_estimators': 10}\n",
            "33792.78097702865 {'max_features': 8, 'n_estimators': 30}\n",
            "33300.36739495871 {'max_features': 8, 'n_estimators': 40}\n",
            "33146.76089431224 {'max_features': 8, 'n_estimators': 60}\n",
            "33218.54192800586 {'max_features': 8, 'n_estimators': 80}\n",
            "33240.811849595855 {'max_features': 8, 'n_estimators': 100}\n",
            "42130.29242944863 {'max_features': 10, 'n_estimators': 3}\n",
            "35794.39631176489 {'max_features': 10, 'n_estimators': 10}\n",
            "33161.38712935644 {'max_features': 10, 'n_estimators': 30}\n",
            "32482.162617527956 {'max_features': 10, 'n_estimators': 40}\n",
            "32509.939503426827 {'max_features': 10, 'n_estimators': 60}\n",
            "32510.594029537348 {'max_features': 10, 'n_estimators': 80}\n",
            "32337.412211623345 {'max_features': 10, 'n_estimators': 100}\n",
            "42447.629365643064 {'max_features': 12, 'n_estimators': 3}\n",
            "33744.15979342517 {'max_features': 12, 'n_estimators': 10}\n",
            "32451.868496506042 {'max_features': 12, 'n_estimators': 30}\n",
            "32638.378166066224 {'max_features': 12, 'n_estimators': 40}\n",
            "32556.646795522065 {'max_features': 12, 'n_estimators': 60}\n",
            "32071.72909301238 {'max_features': 12, 'n_estimators': 80}\n",
            "31985.133179259534 {'max_features': 12, 'n_estimators': 100}\n",
            "40802.97808566013 {'max_features': 14, 'n_estimators': 3}\n",
            "34727.980144317924 {'max_features': 14, 'n_estimators': 10}\n",
            "32936.810499941144 {'max_features': 14, 'n_estimators': 30}\n",
            "32486.09680046463 {'max_features': 14, 'n_estimators': 40}\n",
            "32597.47644246849 {'max_features': 14, 'n_estimators': 60}\n",
            "32438.376858997173 {'max_features': 14, 'n_estimators': 80}\n",
            "32279.16159595759 {'max_features': 14, 'n_estimators': 100}\n",
            "40831.32152576702 {'max_features': 16, 'n_estimators': 3}\n",
            "33205.815899192836 {'max_features': 16, 'n_estimators': 10}\n",
            "31903.636574776217 {'max_features': 16, 'n_estimators': 30}\n",
            "31403.69623446403 {'max_features': 16, 'n_estimators': 40}\n",
            "31512.334280802002 {'max_features': 16, 'n_estimators': 60}\n",
            "31477.233506129905 {'max_features': 16, 'n_estimators': 80}\n",
            "31509.802681749385 {'max_features': 16, 'n_estimators': 100}\n",
            "38714.83066647866 {'max_features': 18, 'n_estimators': 3}\n",
            "32992.03744604228 {'max_features': 18, 'n_estimators': 10}\n",
            "31769.47550315428 {'max_features': 18, 'n_estimators': 30}\n",
            "31605.220703357787 {'max_features': 18, 'n_estimators': 40}\n",
            "31695.96747518678 {'max_features': 18, 'n_estimators': 60}\n",
            "31294.220786748716 {'max_features': 18, 'n_estimators': 80}\n",
            "31320.208054345017 {'max_features': 18, 'n_estimators': 100}\n",
            "38454.22586088461 {'max_features': 20, 'n_estimators': 3}\n",
            "33226.476362785914 {'max_features': 20, 'n_estimators': 10}\n",
            "31894.69448733605 {'max_features': 20, 'n_estimators': 30}\n",
            "31582.617743772436 {'max_features': 20, 'n_estimators': 40}\n",
            "31366.942386392897 {'max_features': 20, 'n_estimators': 60}\n",
            "31352.85050950176 {'max_features': 20, 'n_estimators': 80}\n",
            "31213.557261737747 {'max_features': 20, 'n_estimators': 100}\n",
            "37838.44559532412 {'max_features': 22, 'n_estimators': 3}\n",
            "32882.46046366655 {'max_features': 22, 'n_estimators': 10}\n",
            "31479.089720544063 {'max_features': 22, 'n_estimators': 30}\n",
            "31469.27078060218 {'max_features': 22, 'n_estimators': 40}\n",
            "31685.159995079062 {'max_features': 22, 'n_estimators': 60}\n",
            "31470.68703477541 {'max_features': 22, 'n_estimators': 80}\n",
            "31390.788548687815 {'max_features': 22, 'n_estimators': 100}\n",
            "39238.10387232415 {'max_features': 24, 'n_estimators': 3}\n",
            "33591.71578197769 {'max_features': 24, 'n_estimators': 10}\n",
            "31984.46056258548 {'max_features': 24, 'n_estimators': 30}\n",
            "32011.939601774768 {'max_features': 24, 'n_estimators': 40}\n",
            "31608.288354165627 {'max_features': 24, 'n_estimators': 60}\n",
            "31313.281082993435 {'max_features': 24, 'n_estimators': 80}\n",
            "31098.792003299524 {'max_features': 24, 'n_estimators': 100}\n",
            "37356.25420614629 {'max_features': 26, 'n_estimators': 3}\n",
            "32820.86065902468 {'max_features': 26, 'n_estimators': 10}\n",
            "31508.67173840767 {'max_features': 26, 'n_estimators': 30}\n",
            "31305.923459572106 {'max_features': 26, 'n_estimators': 40}\n",
            "31524.660809284058 {'max_features': 26, 'n_estimators': 60}\n",
            "31087.412316106605 {'max_features': 26, 'n_estimators': 80}\n",
            "30821.45963802377 {'max_features': 26, 'n_estimators': 100}\n",
            "36444.64747832588 {'max_features': 28, 'n_estimators': 3}\n",
            "32544.47704192778 {'max_features': 28, 'n_estimators': 10}\n",
            "31610.395087542867 {'max_features': 28, 'n_estimators': 30}\n",
            "31396.713436102073 {'max_features': 28, 'n_estimators': 40}\n",
            "30920.67335441784 {'max_features': 28, 'n_estimators': 60}\n",
            "30786.48821768582 {'max_features': 28, 'n_estimators': 80}\n",
            "30804.458538017083 {'max_features': 28, 'n_estimators': 100}\n",
            "36995.0255583646 {'max_features': 30, 'n_estimators': 3}\n",
            "32312.028609225184 {'max_features': 30, 'n_estimators': 10}\n",
            "31057.93431712458 {'max_features': 30, 'n_estimators': 30}\n",
            "30616.384360852142 {'max_features': 30, 'n_estimators': 40}\n",
            "30857.52314755275 {'max_features': 30, 'n_estimators': 60}\n",
            "30611.548474682582 {'max_features': 30, 'n_estimators': 80}\n",
            "30521.568247939722 {'max_features': 30, 'n_estimators': 100}\n",
            "37768.961146594804 {'max_features': 32, 'n_estimators': 3}\n",
            "32806.89630266882 {'max_features': 32, 'n_estimators': 10}\n",
            "31173.70280970175 {'max_features': 32, 'n_estimators': 30}\n",
            "30810.950626560294 {'max_features': 32, 'n_estimators': 40}\n",
            "30591.018294500725 {'max_features': 32, 'n_estimators': 60}\n",
            "30666.835506521755 {'max_features': 32, 'n_estimators': 80}\n",
            "30674.50044704228 {'max_features': 32, 'n_estimators': 100}\n",
            "38928.79764187803 {'max_features': 34, 'n_estimators': 3}\n",
            "32548.538036432357 {'max_features': 34, 'n_estimators': 10}\n",
            "30812.39633107775 {'max_features': 34, 'n_estimators': 30}\n",
            "30590.00473393142 {'max_features': 34, 'n_estimators': 40}\n",
            "30631.470923172375 {'max_features': 34, 'n_estimators': 60}\n",
            "30480.828801855692 {'max_features': 34, 'n_estimators': 80}\n",
            "30239.531269506006 {'max_features': 34, 'n_estimators': 100}\n",
            "46333.11499667353 {'bootstrap': False, 'max_features': 2, 'n_estimators': 3}\n",
            "37576.61911520794 {'bootstrap': False, 'max_features': 2, 'n_estimators': 10}\n",
            "35942.62458678363 {'bootstrap': False, 'max_features': 2, 'n_estimators': 30}\n",
            "36192.94108691105 {'bootstrap': False, 'max_features': 2, 'n_estimators': 40}\n",
            "35710.995313574575 {'bootstrap': False, 'max_features': 2, 'n_estimators': 60}\n",
            "44662.49519319237 {'bootstrap': False, 'max_features': 3, 'n_estimators': 3}\n",
            "35593.929638949856 {'bootstrap': False, 'max_features': 3, 'n_estimators': 10}\n",
            "34554.94815987086 {'bootstrap': False, 'max_features': 3, 'n_estimators': 30}\n",
            "34288.39194367937 {'bootstrap': False, 'max_features': 3, 'n_estimators': 40}\n",
            "34479.10031387872 {'bootstrap': False, 'max_features': 3, 'n_estimators': 60}\n",
            "44010.086429367075 {'bootstrap': False, 'max_features': 4, 'n_estimators': 3}\n",
            "36839.23113626269 {'bootstrap': False, 'max_features': 4, 'n_estimators': 10}\n",
            "34826.89390789865 {'bootstrap': False, 'max_features': 4, 'n_estimators': 30}\n",
            "34661.51402632105 {'bootstrap': False, 'max_features': 4, 'n_estimators': 40}\n",
            "34102.422894022486 {'bootstrap': False, 'max_features': 4, 'n_estimators': 60}\n",
            "42308.81036671535 {'bootstrap': False, 'max_features': 6, 'n_estimators': 3}\n",
            "35081.80198652923 {'bootstrap': False, 'max_features': 6, 'n_estimators': 10}\n",
            "34226.473460326306 {'bootstrap': False, 'max_features': 6, 'n_estimators': 30}\n",
            "33875.175409454285 {'bootstrap': False, 'max_features': 6, 'n_estimators': 40}\n",
            "33332.059496688744 {'bootstrap': False, 'max_features': 6, 'n_estimators': 60}\n",
            "44348.34403404408 {'bootstrap': False, 'max_features': 8, 'n_estimators': 3}\n",
            "36678.593960503844 {'bootstrap': False, 'max_features': 8, 'n_estimators': 10}\n",
            "32814.788945035965 {'bootstrap': False, 'max_features': 8, 'n_estimators': 30}\n",
            "32556.9545456918 {'bootstrap': False, 'max_features': 8, 'n_estimators': 40}\n",
            "32038.71673369883 {'bootstrap': False, 'max_features': 8, 'n_estimators': 60}\n",
            "40099.877043451976 {'bootstrap': False, 'max_features': 10, 'n_estimators': 3}\n",
            "33821.40856431889 {'bootstrap': False, 'max_features': 10, 'n_estimators': 10}\n",
            "32031.635507997733 {'bootstrap': False, 'max_features': 10, 'n_estimators': 30}\n",
            "31629.080952144337 {'bootstrap': False, 'max_features': 10, 'n_estimators': 40}\n",
            "31802.60332755333 {'bootstrap': False, 'max_features': 10, 'n_estimators': 60}\n",
            "39744.45109708668 {'bootstrap': False, 'max_features': 12, 'n_estimators': 3}\n",
            "33308.43635983585 {'bootstrap': False, 'max_features': 12, 'n_estimators': 10}\n",
            "31493.11721572752 {'bootstrap': False, 'max_features': 12, 'n_estimators': 30}\n",
            "31814.722848126832 {'bootstrap': False, 'max_features': 12, 'n_estimators': 40}\n",
            "31540.43909536378 {'bootstrap': False, 'max_features': 12, 'n_estimators': 60}\n",
            "39409.44399855192 {'bootstrap': False, 'max_features': 14, 'n_estimators': 3}\n",
            "32269.028261707816 {'bootstrap': False, 'max_features': 14, 'n_estimators': 10}\n",
            "31020.31481547424 {'bootstrap': False, 'max_features': 14, 'n_estimators': 30}\n",
            "31105.187077590046 {'bootstrap': False, 'max_features': 14, 'n_estimators': 40}\n",
            "31225.44834427762 {'bootstrap': False, 'max_features': 14, 'n_estimators': 60}\n",
            "39645.301267212715 {'bootstrap': False, 'max_features': 16, 'n_estimators': 3}\n",
            "32486.058630546842 {'bootstrap': False, 'max_features': 16, 'n_estimators': 10}\n",
            "31076.989073997705 {'bootstrap': False, 'max_features': 16, 'n_estimators': 30}\n",
            "30981.612836791977 {'bootstrap': False, 'max_features': 16, 'n_estimators': 40}\n",
            "30754.82324106188 {'bootstrap': False, 'max_features': 16, 'n_estimators': 60}\n",
            "38195.22374637035 {'bootstrap': False, 'max_features': 18, 'n_estimators': 3}\n",
            "33257.94667587508 {'bootstrap': False, 'max_features': 18, 'n_estimators': 10}\n",
            "31437.8140662489 {'bootstrap': False, 'max_features': 18, 'n_estimators': 30}\n",
            "31271.027160441074 {'bootstrap': False, 'max_features': 18, 'n_estimators': 40}\n",
            "31009.514465478504 {'bootstrap': False, 'max_features': 18, 'n_estimators': 60}\n",
            "37852.73695986545 {'bootstrap': False, 'max_features': 20, 'n_estimators': 3}\n",
            "33217.43781021768 {'bootstrap': False, 'max_features': 20, 'n_estimators': 10}\n",
            "31166.236015952745 {'bootstrap': False, 'max_features': 20, 'n_estimators': 30}\n",
            "30886.80392048727 {'bootstrap': False, 'max_features': 20, 'n_estimators': 40}\n",
            "30896.762607663004 {'bootstrap': False, 'max_features': 20, 'n_estimators': 60}\n"
          ]
        }
      ]
    },
    {
      "cell_type": "code",
      "source": [
        "from sklearn.model_selection import RandomizedSearchCV\n",
        "from scipy.stats import randint\n",
        "\n",
        "param_distribs = {\n",
        "        'n_estimators': randint(low=1, high=400),\n",
        "        'max_features': randint(low=1, high=60),\n",
        "    }\n",
        "\n",
        "forest_reg = RandomForestRegressor(random_state=73)\n",
        "rnd_search = RandomizedSearchCV(forest_reg, param_distributions=param_distribs,\n",
        "                                n_iter=100, cv=5, scoring='neg_mean_squared_error', random_state=73)\n",
        "rnd_search.fit(housing_prepared, housing_labels)"
      ],
      "metadata": {
        "colab": {
          "base_uri": "https://localhost:8080/",
          "height": 118
        },
        "id": "4dVQuydVl0e0",
        "outputId": "3341c2b9-40c8-4cba-ae54-e461b0397b14"
      },
      "execution_count": null,
      "outputs": [
        {
          "output_type": "execute_result",
          "data": {
            "text/plain": [
              "RandomizedSearchCV(cv=5, estimator=RandomForestRegressor(random_state=73),\n",
              "                   n_iter=100,\n",
              "                   param_distributions={'max_features': <scipy.stats._distn_infrastructure.rv_discrete_frozen object at 0x7e05590e8cd0>,\n",
              "                                        'n_estimators': <scipy.stats._distn_infrastructure.rv_discrete_frozen object at 0x7e05590e9540>},\n",
              "                   random_state=73, scoring='neg_mean_squared_error')"
            ],
            "text/html": [
              "<style>#sk-container-id-21 {color: black;background-color: white;}#sk-container-id-21 pre{padding: 0;}#sk-container-id-21 div.sk-toggleable {background-color: white;}#sk-container-id-21 label.sk-toggleable__label {cursor: pointer;display: block;width: 100%;margin-bottom: 0;padding: 0.3em;box-sizing: border-box;text-align: center;}#sk-container-id-21 label.sk-toggleable__label-arrow:before {content: \"▸\";float: left;margin-right: 0.25em;color: #696969;}#sk-container-id-21 label.sk-toggleable__label-arrow:hover:before {color: black;}#sk-container-id-21 div.sk-estimator:hover label.sk-toggleable__label-arrow:before {color: black;}#sk-container-id-21 div.sk-toggleable__content {max-height: 0;max-width: 0;overflow: hidden;text-align: left;background-color: #f0f8ff;}#sk-container-id-21 div.sk-toggleable__content pre {margin: 0.2em;color: black;border-radius: 0.25em;background-color: #f0f8ff;}#sk-container-id-21 input.sk-toggleable__control:checked~div.sk-toggleable__content {max-height: 200px;max-width: 100%;overflow: auto;}#sk-container-id-21 input.sk-toggleable__control:checked~label.sk-toggleable__label-arrow:before {content: \"▾\";}#sk-container-id-21 div.sk-estimator input.sk-toggleable__control:checked~label.sk-toggleable__label {background-color: #d4ebff;}#sk-container-id-21 div.sk-label input.sk-toggleable__control:checked~label.sk-toggleable__label {background-color: #d4ebff;}#sk-container-id-21 input.sk-hidden--visually {border: 0;clip: rect(1px 1px 1px 1px);clip: rect(1px, 1px, 1px, 1px);height: 1px;margin: -1px;overflow: hidden;padding: 0;position: absolute;width: 1px;}#sk-container-id-21 div.sk-estimator {font-family: monospace;background-color: #f0f8ff;border: 1px dotted black;border-radius: 0.25em;box-sizing: border-box;margin-bottom: 0.5em;}#sk-container-id-21 div.sk-estimator:hover {background-color: #d4ebff;}#sk-container-id-21 div.sk-parallel-item::after {content: \"\";width: 100%;border-bottom: 1px solid gray;flex-grow: 1;}#sk-container-id-21 div.sk-label:hover label.sk-toggleable__label {background-color: #d4ebff;}#sk-container-id-21 div.sk-serial::before {content: \"\";position: absolute;border-left: 1px solid gray;box-sizing: border-box;top: 0;bottom: 0;left: 50%;z-index: 0;}#sk-container-id-21 div.sk-serial {display: flex;flex-direction: column;align-items: center;background-color: white;padding-right: 0.2em;padding-left: 0.2em;position: relative;}#sk-container-id-21 div.sk-item {position: relative;z-index: 1;}#sk-container-id-21 div.sk-parallel {display: flex;align-items: stretch;justify-content: center;background-color: white;position: relative;}#sk-container-id-21 div.sk-item::before, #sk-container-id-21 div.sk-parallel-item::before {content: \"\";position: absolute;border-left: 1px solid gray;box-sizing: border-box;top: 0;bottom: 0;left: 50%;z-index: -1;}#sk-container-id-21 div.sk-parallel-item {display: flex;flex-direction: column;z-index: 1;position: relative;background-color: white;}#sk-container-id-21 div.sk-parallel-item:first-child::after {align-self: flex-end;width: 50%;}#sk-container-id-21 div.sk-parallel-item:last-child::after {align-self: flex-start;width: 50%;}#sk-container-id-21 div.sk-parallel-item:only-child::after {width: 0;}#sk-container-id-21 div.sk-dashed-wrapped {border: 1px dashed gray;margin: 0 0.4em 0.5em 0.4em;box-sizing: border-box;padding-bottom: 0.4em;background-color: white;}#sk-container-id-21 div.sk-label label {font-family: monospace;font-weight: bold;display: inline-block;line-height: 1.2em;}#sk-container-id-21 div.sk-label-container {text-align: center;}#sk-container-id-21 div.sk-container {/* jupyter's `normalize.less` sets `[hidden] { display: none; }` but bootstrap.min.css set `[hidden] { display: none !important; }` so we also need the `!important` here to be able to override the default hidden behavior on the sphinx rendered scikit-learn.org. See: https://github.com/scikit-learn/scikit-learn/issues/21755 */display: inline-block !important;position: relative;}#sk-container-id-21 div.sk-text-repr-fallback {display: none;}</style><div id=\"sk-container-id-21\" class=\"sk-top-container\"><div class=\"sk-text-repr-fallback\"><pre>RandomizedSearchCV(cv=5, estimator=RandomForestRegressor(random_state=73),\n",
              "                   n_iter=100,\n",
              "                   param_distributions={&#x27;max_features&#x27;: &lt;scipy.stats._distn_infrastructure.rv_discrete_frozen object at 0x7e05590e8cd0&gt;,\n",
              "                                        &#x27;n_estimators&#x27;: &lt;scipy.stats._distn_infrastructure.rv_discrete_frozen object at 0x7e05590e9540&gt;},\n",
              "                   random_state=73, scoring=&#x27;neg_mean_squared_error&#x27;)</pre><b>In a Jupyter environment, please rerun this cell to show the HTML representation or trust the notebook. <br />On GitHub, the HTML representation is unable to render, please try loading this page with nbviewer.org.</b></div><div class=\"sk-container\" hidden><div class=\"sk-item sk-dashed-wrapped\"><div class=\"sk-label-container\"><div class=\"sk-label sk-toggleable\"><input class=\"sk-toggleable__control sk-hidden--visually\" id=\"sk-estimator-id-37\" type=\"checkbox\" ><label for=\"sk-estimator-id-37\" class=\"sk-toggleable__label sk-toggleable__label-arrow\">RandomizedSearchCV</label><div class=\"sk-toggleable__content\"><pre>RandomizedSearchCV(cv=5, estimator=RandomForestRegressor(random_state=73),\n",
              "                   n_iter=100,\n",
              "                   param_distributions={&#x27;max_features&#x27;: &lt;scipy.stats._distn_infrastructure.rv_discrete_frozen object at 0x7e05590e8cd0&gt;,\n",
              "                                        &#x27;n_estimators&#x27;: &lt;scipy.stats._distn_infrastructure.rv_discrete_frozen object at 0x7e05590e9540&gt;},\n",
              "                   random_state=73, scoring=&#x27;neg_mean_squared_error&#x27;)</pre></div></div></div><div class=\"sk-parallel\"><div class=\"sk-parallel-item\"><div class=\"sk-item\"><div class=\"sk-label-container\"><div class=\"sk-label sk-toggleable\"><input class=\"sk-toggleable__control sk-hidden--visually\" id=\"sk-estimator-id-38\" type=\"checkbox\" ><label for=\"sk-estimator-id-38\" class=\"sk-toggleable__label sk-toggleable__label-arrow\">estimator: RandomForestRegressor</label><div class=\"sk-toggleable__content\"><pre>RandomForestRegressor(random_state=73)</pre></div></div></div><div class=\"sk-serial\"><div class=\"sk-item\"><div class=\"sk-estimator sk-toggleable\"><input class=\"sk-toggleable__control sk-hidden--visually\" id=\"sk-estimator-id-39\" type=\"checkbox\" ><label for=\"sk-estimator-id-39\" class=\"sk-toggleable__label sk-toggleable__label-arrow\">RandomForestRegressor</label><div class=\"sk-toggleable__content\"><pre>RandomForestRegressor(random_state=73)</pre></div></div></div></div></div></div></div></div></div></div>"
            ]
          },
          "metadata": {},
          "execution_count": 207
        }
      ]
    },
    {
      "cell_type": "code",
      "source": [
        "rnd_search.best_params_"
      ],
      "metadata": {
        "colab": {
          "base_uri": "https://localhost:8080/"
        },
        "id": "UUFKWGaF-uMp",
        "outputId": "1c74cb7c-961a-41fe-d87b-277e0b66af0e"
      },
      "execution_count": null,
      "outputs": [
        {
          "output_type": "execute_result",
          "data": {
            "text/plain": [
              "{'max_features': 55, 'n_estimators': 73}"
            ]
          },
          "metadata": {},
          "execution_count": 208
        }
      ]
    },
    {
      "cell_type": "code",
      "source": [
        "cvres = rnd_search.cv_results_\n",
        "for mean_score, params in zip(cvres[\"mean_test_score\"], cvres[\"params\"]):\n",
        "    print(np.sqrt(-mean_score), params)"
      ],
      "metadata": {
        "colab": {
          "base_uri": "https://localhost:8080/"
        },
        "id": "5tBX_3b5-7Ym",
        "outputId": "8122adc1-d671-4ec9-c86b-a3d5c70f189c"
      },
      "execution_count": null,
      "outputs": [
        {
          "output_type": "stream",
          "name": "stdout",
          "text": [
            "30799.09297751005 {'max_features': 23, 'n_estimators': 147}\n",
            "30140.439090002685 {'max_features': 47, 'n_estimators': 395}\n",
            "31454.08428767141 {'max_features': 17, 'n_estimators': 393}\n",
            "34190.967520017395 {'max_features': 4, 'n_estimators': 322}\n",
            "30424.780117186787 {'max_features': 39, 'n_estimators': 363}\n",
            "32930.35522078098 {'max_features': 8, 'n_estimators': 357}\n",
            "30101.503380895352 {'max_features': 54, 'n_estimators': 367}\n",
            "32992.10564446224 {'max_features': 8, 'n_estimators': 181}\n",
            "30506.88324823822 {'max_features': 44, 'n_estimators': 234}\n",
            "30112.111859382847 {'max_features': 54, 'n_estimators': 303}\n",
            "34614.46333003279 {'max_features': 4, 'n_estimators': 51}\n",
            "30186.962727574966 {'max_features': 53, 'n_estimators': 357}\n",
            "34244.880530432 {'max_features': 4, 'n_estimators': 342}\n",
            "37084.49036834273 {'max_features': 2, 'n_estimators': 40}\n",
            "31381.422590902544 {'max_features': 16, 'n_estimators': 361}\n",
            "32235.0401282678 {'max_features': 12, 'n_estimators': 74}\n",
            "30955.82958853945 {'max_features': 28, 'n_estimators': 170}\n",
            "31894.755242362593 {'max_features': 13, 'n_estimators': 285}\n",
            "30642.229122833396 {'max_features': 34, 'n_estimators': 62}\n",
            "30574.940572597243 {'max_features': 31, 'n_estimators': 267}\n",
            "30269.556153356905 {'max_features': 45, 'n_estimators': 76}\n",
            "30747.869314023817 {'max_features': 27, 'n_estimators': 210}\n",
            "31574.96673101624 {'max_features': 20, 'n_estimators': 47}\n",
            "30115.962500466656 {'max_features': 54, 'n_estimators': 279}\n",
            "30548.11796761815 {'max_features': 37, 'n_estimators': 162}\n",
            "32469.67516513767 {'max_features': 9, 'n_estimators': 296}\n",
            "30089.6848214622 {'max_features': 54, 'n_estimators': 343}\n",
            "30180.805521243845 {'max_features': 48, 'n_estimators': 254}\n",
            "30431.35853939128 {'max_features': 39, 'n_estimators': 361}\n",
            "30575.510303604995 {'max_features': 37, 'n_estimators': 140}\n",
            "32229.175148650338 {'max_features': 14, 'n_estimators': 145}\n",
            "32445.80264023851 {'max_features': 9, 'n_estimators': 260}\n",
            "30856.92680572705 {'max_features': 27, 'n_estimators': 134}\n",
            "36686.0362022178 {'max_features': 2, 'n_estimators': 68}\n",
            "30819.884852637064 {'max_features': 27, 'n_estimators': 204}\n",
            "32473.945853866266 {'max_features': 9, 'n_estimators': 339}\n",
            "30155.90464500044 {'max_features': 42, 'n_estimators': 393}\n",
            "30893.899147900593 {'max_features': 24, 'n_estimators': 287}\n",
            "37013.12589362728 {'max_features': 1, 'n_estimators': 201}\n",
            "30745.723753516093 {'max_features': 35, 'n_estimators': 347}\n",
            "30594.7458924471 {'max_features': 21, 'n_estimators': 118}\n",
            "30040.498046681543 {'max_features': 56, 'n_estimators': 134}\n",
            "30163.422825157097 {'max_features': 50, 'n_estimators': 68}\n",
            "30046.297886528006 {'max_features': 55, 'n_estimators': 242}\n",
            "30659.746639057885 {'max_features': 23, 'n_estimators': 327}\n",
            "30374.889260261807 {'max_features': 36, 'n_estimators': 314}\n",
            "30417.116963676683 {'max_features': 39, 'n_estimators': 364}\n",
            "31381.191887611272 {'max_features': 18, 'n_estimators': 194}\n",
            "30658.919623743048 {'max_features': 25, 'n_estimators': 391}\n",
            "30112.467713508933 {'max_features': 40, 'n_estimators': 98}\n",
            "32210.05584383926 {'max_features': 14, 'n_estimators': 195}\n",
            "32016.19937793451 {'max_features': 13, 'n_estimators': 101}\n",
            "30294.880955554374 {'max_features': 58, 'n_estimators': 213}\n",
            "31098.792003299524 {'max_features': 24, 'n_estimators': 100}\n",
            "30469.624951370988 {'max_features': 43, 'n_estimators': 88}\n",
            "30029.83847768452 {'max_features': 56, 'n_estimators': 341}\n",
            "30147.53963630077 {'max_features': 47, 'n_estimators': 366}\n",
            "30117.611347582333 {'max_features': 59, 'n_estimators': 314}\n",
            "30128.500219372367 {'max_features': 48, 'n_estimators': 219}\n",
            "36125.96978052626 {'max_features': 2, 'n_estimators': 391}\n",
            "30264.810387024583 {'max_features': 45, 'n_estimators': 179}\n",
            "34223.053210721744 {'max_features': 4, 'n_estimators': 280}\n",
            "30298.256575260548 {'max_features': 58, 'n_estimators': 211}\n",
            "32652.189075063718 {'max_features': 12, 'n_estimators': 50}\n",
            "30147.669418393933 {'max_features': 57, 'n_estimators': 198}\n",
            "30910.96577890269 {'max_features': 21, 'n_estimators': 325}\n",
            "31306.289296604056 {'max_features': 19, 'n_estimators': 373}\n",
            "30661.605148902006 {'max_features': 31, 'n_estimators': 219}\n",
            "30267.603040664417 {'max_features': 45, 'n_estimators': 268}\n",
            "30386.499879917017 {'max_features': 36, 'n_estimators': 360}\n",
            "31566.365572388313 {'max_features': 16, 'n_estimators': 48}\n",
            "30020.101201165668 {'max_features': 52, 'n_estimators': 301}\n",
            "33025.74598622639 {'max_features': 8, 'n_estimators': 188}\n",
            "36960.686948741895 {'max_features': 1, 'n_estimators': 185}\n",
            "32017.97620504324 {'max_features': 12, 'n_estimators': 353}\n",
            "31075.747834510832 {'max_features': 20, 'n_estimators': 355}\n",
            "32498.959755159918 {'max_features': 10, 'n_estimators': 169}\n",
            "30250.166117672074 {'max_features': 40, 'n_estimators': 268}\n",
            "33000.368891830985 {'max_features': 8, 'n_estimators': 180}\n",
            "30230.479882430496 {'max_features': 45, 'n_estimators': 374}\n",
            "30150.7835094971 {'max_features': 42, 'n_estimators': 307}\n",
            "30640.02742504628 {'max_features': 30, 'n_estimators': 141}\n",
            "30696.96755503171 {'max_features': 39, 'n_estimators': 59}\n",
            "30273.330139026515 {'max_features': 58, 'n_estimators': 345}\n",
            "31420.445221186877 {'max_features': 18, 'n_estimators': 232}\n",
            "30560.24893828067 {'max_features': 30, 'n_estimators': 269}\n",
            "30801.737361111653 {'max_features': 29, 'n_estimators': 45}\n",
            "30197.193720001753 {'max_features': 53, 'n_estimators': 391}\n",
            "34297.99826275644 {'max_features': 6, 'n_estimators': 40}\n",
            "29900.580176724634 {'max_features': 55, 'n_estimators': 73}\n",
            "30771.735639119215 {'max_features': 37, 'n_estimators': 61}\n",
            "30748.483294866106 {'max_features': 25, 'n_estimators': 263}\n",
            "31697.429167374386 {'max_features': 16, 'n_estimators': 157}\n",
            "30930.07352621357 {'max_features': 26, 'n_estimators': 169}\n",
            "30600.89911118278 {'max_features': 43, 'n_estimators': 323}\n",
            "30350.78317493255 {'max_features': 41, 'n_estimators': 389}\n",
            "31851.665003621958 {'max_features': 13, 'n_estimators': 388}\n",
            "32254.1157089261 {'max_features': 11, 'n_estimators': 65}\n",
            "30498.432854184357 {'max_features': 39, 'n_estimators': 167}\n",
            "31538.148760708544 {'max_features': 46, 'n_estimators': 12}\n"
          ]
        }
      ]
    },
    {
      "cell_type": "code",
      "source": [
        "feature_importances = grid_search.best_estimator_.feature_importances_\n",
        "feature_importances"
      ],
      "metadata": {
        "colab": {
          "base_uri": "https://localhost:8080/"
        },
        "id": "sle-a0HA_N1D",
        "outputId": "bd8955a9-6147-4c69-9998-2eacb155046b"
      },
      "execution_count": null,
      "outputs": [
        {
          "output_type": "execute_result",
          "data": {
            "text/plain": [
              "array([4.81140192e-03, 9.01684990e-03, 2.37835144e-02, 1.38267565e-01,\n",
              "       3.47613212e-03, 4.23359177e-02, 1.60328309e-02, 1.06747680e-02,\n",
              "       2.09369998e-02, 1.35055795e-03, 6.40852649e-03, 4.62797513e-02,\n",
              "       4.87599543e-02, 1.98485475e-02, 5.62645874e-04, 8.01868113e-02,\n",
              "       2.58180320e-03, 2.66554681e-04, 3.28726633e-02, 2.85221222e-03,\n",
              "       4.52531375e-03, 1.76003996e-03, 1.91374231e-02, 2.20669660e-02,\n",
              "       1.95560174e-02, 6.01013875e-02, 5.62568846e-02, 5.78175817e-03,\n",
              "       1.18447101e-02, 9.90773993e-04, 4.10219823e-04, 1.97852590e-03,\n",
              "       1.30379978e-05, 2.70467728e-04, 4.27249665e-03, 2.49028686e-03,\n",
              "       2.31557673e-04, 1.84062831e-04, 3.96750793e-05, 1.24243067e-03,\n",
              "       1.81004769e-03, 1.33970966e-05, 4.84250361e-05, 1.18721514e-03,\n",
              "       2.33606090e-04, 3.71013185e-04, 1.05521692e-03, 1.19343858e-03,\n",
              "       4.05463292e-04, 4.84341662e-04, 5.07891778e-04, 5.42583404e-06,\n",
              "       8.50478208e-07, 5.03630703e-04, 7.43096966e-04, 2.03911528e-04,\n",
              "       9.82318665e-06, 6.28287104e-04, 4.17252662e-04, 8.65626697e-04,\n",
              "       3.70909755e-04, 7.70422406e-05, 6.89650764e-06, 1.09775048e-05,\n",
              "       2.29239817e-04, 4.51890779e-04, 3.73329711e-04, 2.31796834e-03,\n",
              "       9.29682938e-04, 2.58033531e-04, 2.15523098e-04, 1.69674898e-04,\n",
              "       3.30819203e-04, 4.26402556e-04, 2.03529171e-05, 6.47322711e-04,\n",
              "       9.13342951e-04, 1.89847475e-03, 3.78466247e-04, 1.20116541e-04,\n",
              "       1.72083070e-04, 4.17182681e-04, 7.81784247e-04, 6.58436309e-04,\n",
              "       3.69526926e-04, 4.28640859e-04, 4.52278211e-04, 2.27464493e-04,\n",
              "       5.23164909e-04, 7.38192222e-05, 6.29110641e-04, 7.13986387e-05,\n",
              "       1.18551359e-04, 2.45401290e-06, 9.91003488e-06, 1.54926103e-06,\n",
              "       2.73166321e-05, 3.03813414e-04, 7.30150315e-06, 2.89085884e-04,\n",
              "       0.00000000e+00, 1.56311623e-08, 0.00000000e+00, 1.53143183e-03,\n",
              "       3.99818951e-05, 1.93620132e-04, 1.93279582e-04, 2.79717262e-04,\n",
              "       5.62011949e-04, 2.28226092e-05, 1.47484337e-03, 4.35876340e-04,\n",
              "       2.27068868e-05, 1.30500649e-03, 3.09879752e-05, 1.98961858e-04,\n",
              "       9.78582385e-05, 2.24446199e-03, 1.10957568e-04, 1.44365995e-03,\n",
              "       4.42211218e-05, 0.00000000e+00, 6.16191361e-05, 2.32925874e-04,\n",
              "       3.31981410e-05, 2.46044441e-06, 4.73182860e-05, 5.06729488e-05,\n",
              "       2.44278178e-04, 2.40263200e-05, 7.99131683e-06, 8.01338149e-05,\n",
              "       1.42369440e-03, 1.94130883e-05, 7.95857911e-04, 6.23600343e-04,\n",
              "       1.49866187e-06, 3.76144613e-04, 2.49622329e-04, 6.97706607e-05,\n",
              "       3.25311275e-04, 1.54996115e-03, 4.27384617e-04, 4.99809537e-05,\n",
              "       4.76569474e-05, 6.42597349e-07, 6.41220606e-05, 4.80322579e-04,\n",
              "       4.67050120e-05, 9.05792944e-04, 6.80258438e-04, 7.62514595e-06,\n",
              "       1.96445029e-04, 3.34469129e-04, 2.18796267e-05, 2.59914414e-04,\n",
              "       9.68245095e-04, 4.74659264e-04, 1.45507583e-04, 9.59775866e-05,\n",
              "       9.06366369e-04, 9.27035532e-04, 1.00299397e-03, 6.98650275e-05,\n",
              "       1.40096899e-02, 1.05660984e-04, 9.20900043e-03, 5.20472603e-02,\n",
              "       1.83717906e-04, 2.18952453e-04, 1.01894212e-03, 6.57577315e-06,\n",
              "       1.20576007e-03, 3.67065455e-04, 4.12527404e-04, 1.03113119e-02,\n",
              "       2.08623758e-05, 4.75622602e-05, 7.20646513e-06, 1.91417151e-02,\n",
              "       1.14759736e-04, 5.64858972e-03, 3.64856397e-03, 1.21703373e-04,\n",
              "       2.65762493e-04, 2.77380682e-04, 3.88086627e-05, 4.30250304e-04,\n",
              "       9.46434594e-05, 6.13543834e-04, 2.12468385e-03, 4.21630586e-04,\n",
              "       1.73196714e-03, 3.27919168e-04, 6.16607893e-04, 3.50590142e-04,\n",
              "       2.84612999e-03, 1.26267794e-04, 1.94392894e-04, 1.00739344e-03,\n",
              "       2.00895938e-04, 1.90051379e-04, 7.65117445e-05, 3.87258548e-05,\n",
              "       2.33192596e-04, 1.32801043e-04, 4.48755649e-04, 1.45250426e-04,\n",
              "       3.06113996e-07, 3.15412844e-04, 2.64369669e-04, 3.47028672e-05,\n",
              "       0.00000000e+00, 4.41199579e-06, 6.48991732e-03, 1.32680499e-04,\n",
              "       5.04971710e-04, 1.85242115e-06, 1.46622451e-03, 1.77542692e-03,\n",
              "       2.54092938e-03, 1.14020777e-04, 6.13461405e-05, 2.83732819e-06,\n",
              "       1.04258850e-05, 3.05868342e-04, 2.31653208e-06, 1.87078893e-02,\n",
              "       2.75027595e-04, 4.50006242e-03, 2.54528593e-02, 3.01668579e-04,\n",
              "       7.32203262e-05, 5.37273532e-05, 1.69556540e-04, 2.58660800e-04,\n",
              "       1.73930988e-05, 4.74282919e-04, 1.68489576e-05, 7.08885090e-03,\n",
              "       1.03348333e-04, 1.79974371e-03, 8.52283802e-05, 1.32717142e-03,\n",
              "       3.09568046e-04, 3.28872099e-03, 1.28828137e-03, 4.68875760e-03,\n",
              "       4.35002433e-04, 2.14195635e-04, 1.27443084e-04, 3.67844573e-05,\n",
              "       8.97377611e-06, 8.89333829e-04, 2.11528167e-04, 3.08823725e-07,\n",
              "       7.88571857e-05, 2.22334193e-05, 6.68245134e-06, 1.52267408e-03,\n",
              "       4.76769062e-04, 2.08586877e-04, 5.95383301e-05, 8.95852578e-04,\n",
              "       1.62688800e-04, 1.14513304e-04, 9.57758653e-05, 1.41089415e-05,\n",
              "       2.11575752e-05, 3.11726989e-06, 6.70996020e-04, 1.73574521e-06,\n",
              "       5.01949085e-04, 4.47605261e-04, 6.52004270e-06, 2.87504476e-04,\n",
              "       3.56314130e-04, 6.23921722e-04, 9.81737794e-04])"
            ]
          },
          "metadata": {},
          "execution_count": 210
        }
      ]
    },
    {
      "cell_type": "code",
      "source": [
        "cat_encoder = full_pipeline.named_transformers_[\"cat\"]\n",
        "cat_one_hot_attribs = list(cat_encoder.categories_[0])\n",
        "attributes = num_attribs + cat_one_hot_attribs\n",
        "sorted(zip(feature_importances, attributes), reverse=True)"
      ],
      "metadata": {
        "colab": {
          "base_uri": "https://localhost:8080/"
        },
        "id": "Elgv5oRB_ZIx",
        "outputId": "cbc307c1-b974-4559-c8f7-a83d15a3fd05"
      },
      "execution_count": null,
      "outputs": [
        {
          "output_type": "execute_result",
          "data": {
            "text/plain": [
              "[(0.1382675649711693, 'OverallQual'),\n",
              " (0.08018681132982924, 'GrLivArea'),\n",
              " (0.06010138750791306, 'GarageCars'),\n",
              " (0.05625688459741394, 'GarageArea'),\n",
              " (0.04875995426978287, '1stFlrSF'),\n",
              " (0.04627975129778744, 'TotalBsmtSF'),\n",
              " (0.04233591767117024, 'YearBuilt'),\n",
              " (0.0328726632936452, 'FullBath'),\n",
              " (0.02378351436271755, 'LotArea'),\n",
              " (0.022066965955984116, 'Fireplaces'),\n",
              " (0.02093699980000864, 'BsmtFinSF1'),\n",
              " (0.019848547476207186, '2ndFlrSF'),\n",
              " (0.01955601739108215, 'GarageYrBlt'),\n",
              " (0.01913742312274727, 'TotRmsAbvGrd'),\n",
              " (0.016032830914597795, 'YearRemodAdd'),\n",
              " (0.011844710110367352, 'OpenPorchSF'),\n",
              " (0.01067476801754349, 'MasVnrArea'),\n",
              " (0.009016849898645643, 'LotFrontage'),\n",
              " (0.006408526486662732, 'BsmtUnfSF'),\n",
              " (0.005781758169017319, 'WoodDeckSF'),\n",
              " (0.0048114019163301505, 'MSSubClass'),\n",
              " (0.004525313747616826, 'BedroomAbvGr'),\n",
              " (0.004272496654604195, 'MoSold'),\n",
              " (0.003476132115643127, 'OverallCond'),\n",
              " (0.002852212221663508, 'HalfBath'),\n",
              " (0.0025818031988641965, 'BsmtFullBath'),\n",
              " (0.0024902868637413176, 'YrSold'),\n",
              " (0.001978525898778584, 'ScreenPorch'),\n",
              " (0.0018100476913144282, 'RM'),\n",
              " (0.0017600399633247946, 'KitchenAbvGr'),\n",
              " (0.0013505579531313244, 'BsmtFinSF2'),\n",
              " (0.0012424306722904257, 'RL'),\n",
              " (0.0009907739932491332, 'EnclosedPorch'),\n",
              " (0.0005626458740187553, 'LowQualFinSF'),\n",
              " (0.0004102198227273451, '3SsnPorch'),\n",
              " (0.0002704677276849186, 'MiscVal'),\n",
              " (0.0002665546809149552, 'BsmtHalfBath'),\n",
              " (0.0002315576729257022, 'C (all)'),\n",
              " (0.0001840628314654417, 'FV'),\n",
              " (3.9675079285848234e-05, 'RH'),\n",
              " (1.3037997840144211e-05, 'PoolArea')]"
            ]
          },
          "metadata": {},
          "execution_count": 211
        }
      ]
    },
    {
      "cell_type": "code",
      "source": [
        "final_model = rnd_search.best_estimator_\n",
        "\n",
        "X_test = strat_test_set.drop(\"SalePrice\", axis=1)\n",
        "y_test = strat_test_set[\"SalePrice\"].copy()\n",
        "\n",
        "#pd.set_option('display.max_columns', None)\n",
        "#X_test\n",
        "\n",
        "X_test_prepared = full_pipeline.transform(X_test)\n",
        "final_predictions = final_model.predict(X_test_prepared)\n",
        "\n",
        "final_mse = mean_squared_error(y_test, final_predictions)\n",
        "final_rmse = np.sqrt(final_mse)"
      ],
      "metadata": {
        "id": "bbd7-qaH_pKh"
      },
      "execution_count": null,
      "outputs": []
    },
    {
      "cell_type": "code",
      "source": [
        "final_rmse"
      ],
      "metadata": {
        "colab": {
          "base_uri": "https://localhost:8080/"
        },
        "id": "k3jbPOZolv6C",
        "outputId": "1d50ab1f-71df-43f4-f08d-cdbd1c5bb564"
      },
      "execution_count": null,
      "outputs": [
        {
          "output_type": "execute_result",
          "data": {
            "text/plain": [
              "32233.418651783886"
            ]
          },
          "metadata": {},
          "execution_count": 213
        }
      ]
    },
    {
      "cell_type": "markdown",
      "metadata": {
        "id": "K3YvBnpUeSEH"
      },
      "source": [
        "## Step 7: Solution Presentation\n",
        "Now that you need to write a short memo of one paragraph to be read by a non-technical audience (ie. your manager/supervisor). Focus on answering the following:\n",
        "\n",
        "* How can you pitch your solution to this project?\n",
        "* What did you learn so far about the problem?\n",
        "* Is there any insight moving forward to improve the solution?"
      ]
    },
    {
      "cell_type": "markdown",
      "source": [
        "**The model that was created for this problem was able to effectively calculate the sales prices of homes in Ames, IA. Although the model is not extremely accurate, it does a good job at potentially showing users the price of homes that they may desire. At first, a decision tree regressor was used and output a reduced mean square error of 42,356.33 dollars;next, a linear regression method was used and it output a reduced mean square error of 35,577.82 dollars; then, a random forest regressor was used which output a reduced mean square error of 30,630.05 dollars. As this was the lowest reduced mean square error, the random forest regressor was used to create the model and was tuned. When the model was used on the test data, the reduced mean square error was 32,233.42 dollars. What worked while trying to find a solution to this problem was removing features that did not provide much help in improving the model. What did not work for this model was attempting to clean the data even more. It was not feasible to continually look at the data and try to pull very small amounts of data for very small improvements given the time it took to run some of the code. What also did not work that well in this problem was using linear regression and a decision tree regressor to create the model; the best learning algorithm was a random forest regressor. What I learned from this problem is how important the housing data is to the model; removing or adding data could change the prediction of the model by thousands, it depends on the weight that a specific feature has. Some insight moving forward to improve this solution would be that I may not stratify my data next time. I feel as if the data represents homes in Ames, IA quite well, so the model could perform better without it. Some more thoughts I have moving forward to improve the solution would be to remove even more features from the data as I feel that some may be misleading the model.**"
      ],
      "metadata": {
        "id": "6MWr8jtYZ2EV"
      }
    },
    {
      "cell_type": "markdown",
      "metadata": {
        "id": "HrRRoBcWeVju"
      },
      "source": [
        "## Step 8: Model Launching, Monitoring, and Updating\n",
        "You don't need to do anything for this step. However, in the real-world, this is an iterative process where you launch, monitor, and update your model (on the cloud).\n",
        "\n",
        "In case you get stuck in any step in the process, you may find some useful information from:\n",
        "\n",
        " * Consult my slides and/or the textbook\n",
        " * Talk to the TA, they are available and there to help you during their office hours\n",
        " * Come talk to me or email me <nn4pj@virginia.edu> with subject starting \"CS4774 Codeathon 1:...\".\n",
        "\n",
        "Best of luck and have fun!"
      ]
    },
    {
      "cell_type": "code",
      "metadata": {
        "id": "Tzpq8NedeU-m"
      },
      "source": [],
      "execution_count": null,
      "outputs": []
    }
  ]
}